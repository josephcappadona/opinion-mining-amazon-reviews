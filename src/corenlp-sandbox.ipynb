{
 "cells": [
  {
   "cell_type": "code",
   "execution_count": 5,
   "metadata": {
    "collapsed": false
   },
   "outputs": [],
   "source": [
    "from pycorenlp import StanfordCoreNLP\n",
    "\n",
    "nlp = StanfordCoreNLP('http://localhost:9000')\n",
    "text = 'The picture quality is great, but the value was bad. The poor battery life was disappointing. I hate the crappy battery life.'\n",
    "output = nlp.annotate(text, properties = {\n",
    "    'annotators': 'pos,depparse',\n",
    "    'outputFormat': 'json'\n",
    "})\n",
    "#output['sentences'][2]['basicDependencies']\n",
    "#output['sentences'][2]['tokens']"
   ]
  },
  {
   "cell_type": "code",
   "execution_count": 6,
   "metadata": {
    "collapsed": true
   },
   "outputs": [],
   "source": [
    "# Adding some rules to exclude amod relationships\n",
    "# Maybe try using a whitelist (known sentiment-bearing terms) instead of a blacklist\n",
    "# CoreNLP doesn't parse 'sound quality' correctly, so exclude it for now...\n",
    "adj_exclude = {'first', 'second', 'new', 'extra', 'previous', 'spare', 'other', 'same', 'died', 'outside',\n",
    "               'ambient', 'external', 'sound', 'left', 'right', 'similar', 'wireless'}"
   ]
  },
  {
   "cell_type": "code",
   "execution_count": 7,
   "metadata": {
    "collapsed": true
   },
   "outputs": [],
   "source": [
    "from collections import defaultdict\n",
    "\n",
    "def parse_corenlp_deps(sentence_json):\n",
    "    adj_dict = defaultdict(list)\n",
    "    for sentence in sentence_json:\n",
    "        dep_list = sentence['basicDependencies']\n",
    "        pos_list = sentence['tokens'] #Format is a list of objects with 'index' starting at 1\n",
    "        phrase_dict = defaultdict()\n",
    "        for dep in dep_list:\n",
    "            if dep['dep'] == 'compound':\n",
    "                phrase = dep['dependentGloss'] + ' ' + dep['governorGloss']\n",
    "                phrase_dict[dep['governorGloss']] = phrase\n",
    "        for dep in dep_list:\n",
    "            if dep['dep'] == 'nsubj':\n",
    "                noun = dep['dependentGloss']\n",
    "                adj = dep['governorGloss']\n",
    "                if adj in adj_exclude or not adj.isalpha():\n",
    "                    continue\n",
    "                pos_idx = dep['dependent']\n",
    "                if pos_list[pos_idx-1]['pos'] == 'NN':\n",
    "                    if noun in phrase_dict:\n",
    "                        noun = phrase_dict[noun]\n",
    "                    adj_dict[noun].append(adj)\n",
    "            elif dep['dep'] == 'amod':\n",
    "                noun = dep['governorGloss']\n",
    "                adj = dep['dependentGloss']\n",
    "                if adj in adj_exclude or not adj.isalpha():\n",
    "                    continue\n",
    "                pos_idx = dep['governor']\n",
    "                if pos_list[pos_idx-1]['pos'] == 'NN':\n",
    "                    if noun in phrase_dict:\n",
    "                        noun = phrase_dict[noun]\n",
    "                    adj_dict[noun].append(adj)\n",
    "    return [tup for tup in adj_dict.items()]"
   ]
  },
  {
   "cell_type": "code",
   "execution_count": 44,
   "metadata": {
    "collapsed": true
   },
   "outputs": [],
   "source": [
    "import pickle\n",
    "import csv\n",
    "\n",
    "# Pickle format: (list(output from nlp.annotate), list(review text))\n",
    "def parse_product_csv(input_fp, output_fp):\n",
    "    depparse_output = []\n",
    "    corpus = []\n",
    "    with open(input_fp, 'r') as csvfile:\n",
    "        csvreader = csv.DictReader(csvfile, delimiter = ',')\n",
    "        for row in csvreader:\n",
    "            review_text = row['reviewText']\n",
    "            corpus.append(review_text)\n",
    "            output = nlp.annotate(review_text, properties = {\n",
    "                'annotators': 'pos,depparse',\n",
    "                'outputFormat': 'json'\n",
    "            })\n",
    "            depparse_output.append(output)\n",
    "    with open(output_fp, 'wb') as output_file:\n",
    "        pickle.dump((depparse_output, corpus), output_file)\n",
    "    return depparse_output, corpus"
   ]
  },
  {
   "cell_type": "code",
   "execution_count": 45,
   "metadata": {
    "collapsed": false
   },
   "outputs": [
    {
     "name": "stdout",
     "output_type": "stream",
     "text": [
      "{'summary': 'My children all work odd hours so these are a ...', 'reviewerName': '', 'overall': '5.0', 'asin': 'B0001FTVEK', 'unixReviewTime': '1405123200', 'helpful': '[0, 0]', 'reviewerID': 'APAEK95R7T8RD', 'reviewTime': '07 12, 2014', 'reviewText': 'My children all work odd hours so these are a lifesaver in letting anyone watch TV and not disturb the rest of the family'}\n"
     ]
    }
   ],
   "source": [
    "input_fp = '../samples/headphones_B0001FTVEK_N=950_Stdev=1.31976200322.csv'\n",
    "with open(input_fp, 'r') as csvfile:\n",
    "    csvreader = csv.DictReader(csvfile, delimiter = ',')\n",
    "    print(next(csvreader))"
   ]
  },
  {
   "cell_type": "code",
   "execution_count": 46,
   "metadata": {
    "collapsed": true
   },
   "outputs": [],
   "source": [
    "from collections import Counter\n",
    "\n",
    "def extract_features(depparse_output, include_adjs=True):\n",
    "    vocab = set()\n",
    "    df_cnt = Counter()\n",
    "    cum_adj_dict = defaultdict(list)\n",
    "    for output in depparse_output:\n",
    "        deps = parse_corenlp_deps(output['sentences'])\n",
    "        for phrase, adjs in deps:\n",
    "            if len(adjs) > 0:\n",
    "                vocab.add(phrase)\n",
    "                df_cnt[phrase] += 1\n",
    "                if include_adjs:\n",
    "                    cum_adj_dict[phrase] += adjs\n",
    "    if include_adjs:\n",
    "        feat_adjs = [x for x, _ in df_cnt.most_common()]\n",
    "        feat_adjs = list(map(lambda phrase: (phrase, cum_adj_dict[phrase]), feat_adjs))\n",
    "        return feat_adjs\n",
    "    else:\n",
    "        return df_cnt"
   ]
  },
  {
   "cell_type": "code",
   "execution_count": 67,
   "metadata": {
    "collapsed": true
   },
   "outputs": [],
   "source": [
    "import json\n",
    "\n",
    "def extract_features_with_weight_data(depparse_output, reviews_fp, include_adjs=True):\n",
    "    df_cnt = Counter()\n",
    "    cum_adj_dict = defaultdict(list)\n",
    "    \n",
    "    # Open reviews file to access each review's helpful rating and overall rating\n",
    "    with open(reviews_fp, 'r') as csvfile:\n",
    "        csvreader = csv.DictReader(csvfile, delimiter = ',')\n",
    "\n",
    "        for output in depparse_output:\n",
    "            deps = parse_corenlp_deps(output['sentences'])\n",
    "            review = next(csvreader)\n",
    "            for phrase, adjs in deps:\n",
    "                if len(adjs) > 0:\n",
    "                    df_cnt[phrase] += 1\n",
    "                    if include_adjs:\n",
    "                        cum_adj_dict[phrase].append((adjs, json.loads(review['helpful']), float(review['overall'])))\n",
    "\n",
    "        if include_adjs:\n",
    "            feat_adjs = [x for x, _ in df_cnt.most_common()]\n",
    "            feat_adjs = list(map(lambda phrase: (phrase, cum_adj_dict[phrase]), feat_adjs))\n",
    "            return feat_adjs\n",
    "        else:\n",
    "            return df_cnt"
   ]
  },
  {
   "cell_type": "code",
   "execution_count": 68,
   "metadata": {
    "collapsed": false
   },
   "outputs": [
    {
     "ename": "KeyboardInterrupt",
     "evalue": "",
     "output_type": "error",
     "traceback": [
      "\u001b[0;31m---------------------------------------------------------------------------\u001b[0m",
      "\u001b[0;31mTypeError\u001b[0m                                 Traceback (most recent call last)",
      "\u001b[0;32m~/Desktop/School/College/Fall2017/CIS400/senior-design-f17/venv3/lib/python3.5/site-packages/urllib3/connectionpool.py\u001b[0m in \u001b[0;36m_make_request\u001b[0;34m(self, conn, method, url, timeout, chunked, **httplib_request_kw)\u001b[0m\n\u001b[1;32m    379\u001b[0m             \u001b[0;32mtry\u001b[0m\u001b[0;34m:\u001b[0m  \u001b[0;31m# Python 2.7, use buffering of HTTP responses\u001b[0m\u001b[0;34m\u001b[0m\u001b[0m\n\u001b[0;32m--> 380\u001b[0;31m                 \u001b[0mhttplib_response\u001b[0m \u001b[0;34m=\u001b[0m \u001b[0mconn\u001b[0m\u001b[0;34m.\u001b[0m\u001b[0mgetresponse\u001b[0m\u001b[0;34m(\u001b[0m\u001b[0mbuffering\u001b[0m\u001b[0;34m=\u001b[0m\u001b[0;32mTrue\u001b[0m\u001b[0;34m)\u001b[0m\u001b[0;34m\u001b[0m\u001b[0m\n\u001b[0m\u001b[1;32m    381\u001b[0m             \u001b[0;32mexcept\u001b[0m \u001b[0mTypeError\u001b[0m\u001b[0;34m:\u001b[0m  \u001b[0;31m# Python 2.6 and older, Python 3\u001b[0m\u001b[0;34m\u001b[0m\u001b[0m\n",
      "\u001b[0;31mTypeError\u001b[0m: getresponse() got an unexpected keyword argument 'buffering'",
      "\nDuring handling of the above exception, another exception occurred:\n",
      "\u001b[0;31mKeyboardInterrupt\u001b[0m                         Traceback (most recent call last)",
      "\u001b[0;32m<ipython-input-68-3f75a66aa1ee>\u001b[0m in \u001b[0;36m<module>\u001b[0;34m()\u001b[0m\n\u001b[1;32m      6\u001b[0m \u001b[0mOUTPUT_FP\u001b[0m \u001b[0;34m=\u001b[0m \u001b[0;34m'headphones.pkl'\u001b[0m\u001b[0;34m\u001b[0m\u001b[0m\n\u001b[1;32m      7\u001b[0m \u001b[0;34m\u001b[0m\u001b[0m\n\u001b[0;32m----> 8\u001b[0;31m \u001b[0mdepparse_output\u001b[0m\u001b[0;34m,\u001b[0m \u001b[0mcorpus\u001b[0m \u001b[0;34m=\u001b[0m \u001b[0mparse_product_csv\u001b[0m\u001b[0;34m(\u001b[0m\u001b[0mINPUT_FP\u001b[0m\u001b[0;34m,\u001b[0m \u001b[0mOUTPUT_FP\u001b[0m\u001b[0;34m)\u001b[0m\u001b[0;34m\u001b[0m\u001b[0m\n\u001b[0m",
      "\u001b[0;32m<ipython-input-44-1187466bd7ee>\u001b[0m in \u001b[0;36mparse_product_csv\u001b[0;34m(input_fp, output_fp)\u001b[0m\n\u001b[1;32m     13\u001b[0m             output = nlp.annotate(review_text, properties = {\n\u001b[1;32m     14\u001b[0m                 \u001b[0;34m'annotators'\u001b[0m\u001b[0;34m:\u001b[0m \u001b[0;34m'pos,depparse'\u001b[0m\u001b[0;34m,\u001b[0m\u001b[0;34m\u001b[0m\u001b[0m\n\u001b[0;32m---> 15\u001b[0;31m                 \u001b[0;34m'outputFormat'\u001b[0m\u001b[0;34m:\u001b[0m \u001b[0;34m'json'\u001b[0m\u001b[0;34m\u001b[0m\u001b[0m\n\u001b[0m\u001b[1;32m     16\u001b[0m             })\n\u001b[1;32m     17\u001b[0m             \u001b[0mdepparse_output\u001b[0m\u001b[0;34m.\u001b[0m\u001b[0mappend\u001b[0m\u001b[0;34m(\u001b[0m\u001b[0moutput\u001b[0m\u001b[0;34m)\u001b[0m\u001b[0;34m\u001b[0m\u001b[0m\n",
      "\u001b[0;32m~/Desktop/School/College/Fall2017/CIS400/senior-design-f17/venv3/lib/python3.5/site-packages/pycorenlp/corenlp.py\u001b[0m in \u001b[0;36mannotate\u001b[0;34m(self, text, properties)\u001b[0m\n\u001b[1;32m     27\u001b[0m             self.server_url, params={\n\u001b[1;32m     28\u001b[0m                 \u001b[0;34m'properties'\u001b[0m\u001b[0;34m:\u001b[0m \u001b[0mstr\u001b[0m\u001b[0;34m(\u001b[0m\u001b[0mproperties\u001b[0m\u001b[0;34m)\u001b[0m\u001b[0;34m\u001b[0m\u001b[0m\n\u001b[0;32m---> 29\u001b[0;31m             }, data=data, headers={'Connection': 'close'})\n\u001b[0m\u001b[1;32m     30\u001b[0m         \u001b[0moutput\u001b[0m \u001b[0;34m=\u001b[0m \u001b[0mr\u001b[0m\u001b[0;34m.\u001b[0m\u001b[0mtext\u001b[0m\u001b[0;34m\u001b[0m\u001b[0m\n\u001b[1;32m     31\u001b[0m         if ('outputFormat' in properties\n",
      "\u001b[0;32m~/Desktop/School/College/Fall2017/CIS400/senior-design-f17/venv3/lib/python3.5/site-packages/requests/api.py\u001b[0m in \u001b[0;36mpost\u001b[0;34m(url, data, json, **kwargs)\u001b[0m\n\u001b[1;32m    110\u001b[0m     \"\"\"\n\u001b[1;32m    111\u001b[0m \u001b[0;34m\u001b[0m\u001b[0m\n\u001b[0;32m--> 112\u001b[0;31m     \u001b[0;32mreturn\u001b[0m \u001b[0mrequest\u001b[0m\u001b[0;34m(\u001b[0m\u001b[0;34m'post'\u001b[0m\u001b[0;34m,\u001b[0m \u001b[0murl\u001b[0m\u001b[0;34m,\u001b[0m \u001b[0mdata\u001b[0m\u001b[0;34m=\u001b[0m\u001b[0mdata\u001b[0m\u001b[0;34m,\u001b[0m \u001b[0mjson\u001b[0m\u001b[0;34m=\u001b[0m\u001b[0mjson\u001b[0m\u001b[0;34m,\u001b[0m \u001b[0;34m**\u001b[0m\u001b[0mkwargs\u001b[0m\u001b[0;34m)\u001b[0m\u001b[0;34m\u001b[0m\u001b[0m\n\u001b[0m\u001b[1;32m    113\u001b[0m \u001b[0;34m\u001b[0m\u001b[0m\n\u001b[1;32m    114\u001b[0m \u001b[0;34m\u001b[0m\u001b[0m\n",
      "\u001b[0;32m~/Desktop/School/College/Fall2017/CIS400/senior-design-f17/venv3/lib/python3.5/site-packages/requests/api.py\u001b[0m in \u001b[0;36mrequest\u001b[0;34m(method, url, **kwargs)\u001b[0m\n\u001b[1;32m     56\u001b[0m     \u001b[0;31m# cases, and look like a memory leak in others.\u001b[0m\u001b[0;34m\u001b[0m\u001b[0;34m\u001b[0m\u001b[0m\n\u001b[1;32m     57\u001b[0m     \u001b[0;32mwith\u001b[0m \u001b[0msessions\u001b[0m\u001b[0;34m.\u001b[0m\u001b[0mSession\u001b[0m\u001b[0;34m(\u001b[0m\u001b[0;34m)\u001b[0m \u001b[0;32mas\u001b[0m \u001b[0msession\u001b[0m\u001b[0;34m:\u001b[0m\u001b[0;34m\u001b[0m\u001b[0m\n\u001b[0;32m---> 58\u001b[0;31m         \u001b[0;32mreturn\u001b[0m \u001b[0msession\u001b[0m\u001b[0;34m.\u001b[0m\u001b[0mrequest\u001b[0m\u001b[0;34m(\u001b[0m\u001b[0mmethod\u001b[0m\u001b[0;34m=\u001b[0m\u001b[0mmethod\u001b[0m\u001b[0;34m,\u001b[0m \u001b[0murl\u001b[0m\u001b[0;34m=\u001b[0m\u001b[0murl\u001b[0m\u001b[0;34m,\u001b[0m \u001b[0;34m**\u001b[0m\u001b[0mkwargs\u001b[0m\u001b[0;34m)\u001b[0m\u001b[0;34m\u001b[0m\u001b[0m\n\u001b[0m\u001b[1;32m     59\u001b[0m \u001b[0;34m\u001b[0m\u001b[0m\n\u001b[1;32m     60\u001b[0m \u001b[0;34m\u001b[0m\u001b[0m\n",
      "\u001b[0;32m~/Desktop/School/College/Fall2017/CIS400/senior-design-f17/venv3/lib/python3.5/site-packages/requests/sessions.py\u001b[0m in \u001b[0;36mrequest\u001b[0;34m(self, method, url, params, data, headers, cookies, files, auth, timeout, allow_redirects, proxies, hooks, stream, verify, cert, json)\u001b[0m\n\u001b[1;32m    506\u001b[0m         }\n\u001b[1;32m    507\u001b[0m         \u001b[0msend_kwargs\u001b[0m\u001b[0;34m.\u001b[0m\u001b[0mupdate\u001b[0m\u001b[0;34m(\u001b[0m\u001b[0msettings\u001b[0m\u001b[0;34m)\u001b[0m\u001b[0;34m\u001b[0m\u001b[0m\n\u001b[0;32m--> 508\u001b[0;31m         \u001b[0mresp\u001b[0m \u001b[0;34m=\u001b[0m \u001b[0mself\u001b[0m\u001b[0;34m.\u001b[0m\u001b[0msend\u001b[0m\u001b[0;34m(\u001b[0m\u001b[0mprep\u001b[0m\u001b[0;34m,\u001b[0m \u001b[0;34m**\u001b[0m\u001b[0msend_kwargs\u001b[0m\u001b[0;34m)\u001b[0m\u001b[0;34m\u001b[0m\u001b[0m\n\u001b[0m\u001b[1;32m    509\u001b[0m \u001b[0;34m\u001b[0m\u001b[0m\n\u001b[1;32m    510\u001b[0m         \u001b[0;32mreturn\u001b[0m \u001b[0mresp\u001b[0m\u001b[0;34m\u001b[0m\u001b[0m\n",
      "\u001b[0;32m~/Desktop/School/College/Fall2017/CIS400/senior-design-f17/venv3/lib/python3.5/site-packages/requests/sessions.py\u001b[0m in \u001b[0;36msend\u001b[0;34m(self, request, **kwargs)\u001b[0m\n\u001b[1;32m    616\u001b[0m \u001b[0;34m\u001b[0m\u001b[0m\n\u001b[1;32m    617\u001b[0m         \u001b[0;31m# Send the request\u001b[0m\u001b[0;34m\u001b[0m\u001b[0;34m\u001b[0m\u001b[0m\n\u001b[0;32m--> 618\u001b[0;31m         \u001b[0mr\u001b[0m \u001b[0;34m=\u001b[0m \u001b[0madapter\u001b[0m\u001b[0;34m.\u001b[0m\u001b[0msend\u001b[0m\u001b[0;34m(\u001b[0m\u001b[0mrequest\u001b[0m\u001b[0;34m,\u001b[0m \u001b[0;34m**\u001b[0m\u001b[0mkwargs\u001b[0m\u001b[0;34m)\u001b[0m\u001b[0;34m\u001b[0m\u001b[0m\n\u001b[0m\u001b[1;32m    619\u001b[0m \u001b[0;34m\u001b[0m\u001b[0m\n\u001b[1;32m    620\u001b[0m         \u001b[0;31m# Total elapsed time of the request (approximately)\u001b[0m\u001b[0;34m\u001b[0m\u001b[0;34m\u001b[0m\u001b[0m\n",
      "\u001b[0;32m~/Desktop/School/College/Fall2017/CIS400/senior-design-f17/venv3/lib/python3.5/site-packages/requests/adapters.py\u001b[0m in \u001b[0;36msend\u001b[0;34m(self, request, stream, timeout, verify, cert, proxies)\u001b[0m\n\u001b[1;32m    438\u001b[0m                     \u001b[0mdecode_content\u001b[0m\u001b[0;34m=\u001b[0m\u001b[0;32mFalse\u001b[0m\u001b[0;34m,\u001b[0m\u001b[0;34m\u001b[0m\u001b[0m\n\u001b[1;32m    439\u001b[0m                     \u001b[0mretries\u001b[0m\u001b[0;34m=\u001b[0m\u001b[0mself\u001b[0m\u001b[0;34m.\u001b[0m\u001b[0mmax_retries\u001b[0m\u001b[0;34m,\u001b[0m\u001b[0;34m\u001b[0m\u001b[0m\n\u001b[0;32m--> 440\u001b[0;31m                     \u001b[0mtimeout\u001b[0m\u001b[0;34m=\u001b[0m\u001b[0mtimeout\u001b[0m\u001b[0;34m\u001b[0m\u001b[0m\n\u001b[0m\u001b[1;32m    441\u001b[0m                 )\n\u001b[1;32m    442\u001b[0m \u001b[0;34m\u001b[0m\u001b[0m\n",
      "\u001b[0;32m~/Desktop/School/College/Fall2017/CIS400/senior-design-f17/venv3/lib/python3.5/site-packages/urllib3/connectionpool.py\u001b[0m in \u001b[0;36murlopen\u001b[0;34m(self, method, url, body, headers, retries, redirect, assert_same_host, timeout, pool_timeout, release_conn, chunked, body_pos, **response_kw)\u001b[0m\n\u001b[1;32m    599\u001b[0m                                                   \u001b[0mtimeout\u001b[0m\u001b[0;34m=\u001b[0m\u001b[0mtimeout_obj\u001b[0m\u001b[0;34m,\u001b[0m\u001b[0;34m\u001b[0m\u001b[0m\n\u001b[1;32m    600\u001b[0m                                                   \u001b[0mbody\u001b[0m\u001b[0;34m=\u001b[0m\u001b[0mbody\u001b[0m\u001b[0;34m,\u001b[0m \u001b[0mheaders\u001b[0m\u001b[0;34m=\u001b[0m\u001b[0mheaders\u001b[0m\u001b[0;34m,\u001b[0m\u001b[0;34m\u001b[0m\u001b[0m\n\u001b[0;32m--> 601\u001b[0;31m                                                   chunked=chunked)\n\u001b[0m\u001b[1;32m    602\u001b[0m \u001b[0;34m\u001b[0m\u001b[0m\n\u001b[1;32m    603\u001b[0m             \u001b[0;31m# If we're going to release the connection in ``finally:``, then\u001b[0m\u001b[0;34m\u001b[0m\u001b[0;34m\u001b[0m\u001b[0m\n",
      "\u001b[0;32m~/Desktop/School/College/Fall2017/CIS400/senior-design-f17/venv3/lib/python3.5/site-packages/urllib3/connectionpool.py\u001b[0m in \u001b[0;36m_make_request\u001b[0;34m(self, conn, method, url, timeout, chunked, **httplib_request_kw)\u001b[0m\n\u001b[1;32m    381\u001b[0m             \u001b[0;32mexcept\u001b[0m \u001b[0mTypeError\u001b[0m\u001b[0;34m:\u001b[0m  \u001b[0;31m# Python 2.6 and older, Python 3\u001b[0m\u001b[0;34m\u001b[0m\u001b[0m\n\u001b[1;32m    382\u001b[0m                 \u001b[0;32mtry\u001b[0m\u001b[0;34m:\u001b[0m\u001b[0;34m\u001b[0m\u001b[0m\n\u001b[0;32m--> 383\u001b[0;31m                     \u001b[0mhttplib_response\u001b[0m \u001b[0;34m=\u001b[0m \u001b[0mconn\u001b[0m\u001b[0;34m.\u001b[0m\u001b[0mgetresponse\u001b[0m\u001b[0;34m(\u001b[0m\u001b[0;34m)\u001b[0m\u001b[0;34m\u001b[0m\u001b[0m\n\u001b[0m\u001b[1;32m    384\u001b[0m                 \u001b[0;32mexcept\u001b[0m \u001b[0mException\u001b[0m \u001b[0;32mas\u001b[0m \u001b[0me\u001b[0m\u001b[0;34m:\u001b[0m\u001b[0;34m\u001b[0m\u001b[0m\n\u001b[1;32m    385\u001b[0m                     \u001b[0;31m# Remove the TypeError from the exception chain in Python 3;\u001b[0m\u001b[0;34m\u001b[0m\u001b[0;34m\u001b[0m\u001b[0m\n",
      "\u001b[0;32m/Library/Frameworks/Python.framework/Versions/3.5/lib/python3.5/http/client.py\u001b[0m in \u001b[0;36mgetresponse\u001b[0;34m(self)\u001b[0m\n\u001b[1;32m   1195\u001b[0m         \u001b[0;32mtry\u001b[0m\u001b[0;34m:\u001b[0m\u001b[0;34m\u001b[0m\u001b[0m\n\u001b[1;32m   1196\u001b[0m             \u001b[0;32mtry\u001b[0m\u001b[0;34m:\u001b[0m\u001b[0;34m\u001b[0m\u001b[0m\n\u001b[0;32m-> 1197\u001b[0;31m                 \u001b[0mresponse\u001b[0m\u001b[0;34m.\u001b[0m\u001b[0mbegin\u001b[0m\u001b[0;34m(\u001b[0m\u001b[0;34m)\u001b[0m\u001b[0;34m\u001b[0m\u001b[0m\n\u001b[0m\u001b[1;32m   1198\u001b[0m             \u001b[0;32mexcept\u001b[0m \u001b[0mConnectionError\u001b[0m\u001b[0;34m:\u001b[0m\u001b[0;34m\u001b[0m\u001b[0m\n\u001b[1;32m   1199\u001b[0m                 \u001b[0mself\u001b[0m\u001b[0;34m.\u001b[0m\u001b[0mclose\u001b[0m\u001b[0;34m(\u001b[0m\u001b[0;34m)\u001b[0m\u001b[0;34m\u001b[0m\u001b[0m\n",
      "\u001b[0;32m/Library/Frameworks/Python.framework/Versions/3.5/lib/python3.5/http/client.py\u001b[0m in \u001b[0;36mbegin\u001b[0;34m(self)\u001b[0m\n\u001b[1;32m    295\u001b[0m         \u001b[0;31m# read until we get a non-100 response\u001b[0m\u001b[0;34m\u001b[0m\u001b[0;34m\u001b[0m\u001b[0m\n\u001b[1;32m    296\u001b[0m         \u001b[0;32mwhile\u001b[0m \u001b[0;32mTrue\u001b[0m\u001b[0;34m:\u001b[0m\u001b[0;34m\u001b[0m\u001b[0m\n\u001b[0;32m--> 297\u001b[0;31m             \u001b[0mversion\u001b[0m\u001b[0;34m,\u001b[0m \u001b[0mstatus\u001b[0m\u001b[0;34m,\u001b[0m \u001b[0mreason\u001b[0m \u001b[0;34m=\u001b[0m \u001b[0mself\u001b[0m\u001b[0;34m.\u001b[0m\u001b[0m_read_status\u001b[0m\u001b[0;34m(\u001b[0m\u001b[0;34m)\u001b[0m\u001b[0;34m\u001b[0m\u001b[0m\n\u001b[0m\u001b[1;32m    298\u001b[0m             \u001b[0;32mif\u001b[0m \u001b[0mstatus\u001b[0m \u001b[0;34m!=\u001b[0m \u001b[0mCONTINUE\u001b[0m\u001b[0;34m:\u001b[0m\u001b[0;34m\u001b[0m\u001b[0m\n\u001b[1;32m    299\u001b[0m                 \u001b[0;32mbreak\u001b[0m\u001b[0;34m\u001b[0m\u001b[0m\n",
      "\u001b[0;32m/Library/Frameworks/Python.framework/Versions/3.5/lib/python3.5/http/client.py\u001b[0m in \u001b[0;36m_read_status\u001b[0;34m(self)\u001b[0m\n\u001b[1;32m    256\u001b[0m \u001b[0;34m\u001b[0m\u001b[0m\n\u001b[1;32m    257\u001b[0m     \u001b[0;32mdef\u001b[0m \u001b[0m_read_status\u001b[0m\u001b[0;34m(\u001b[0m\u001b[0mself\u001b[0m\u001b[0;34m)\u001b[0m\u001b[0;34m:\u001b[0m\u001b[0;34m\u001b[0m\u001b[0m\n\u001b[0;32m--> 258\u001b[0;31m         \u001b[0mline\u001b[0m \u001b[0;34m=\u001b[0m \u001b[0mstr\u001b[0m\u001b[0;34m(\u001b[0m\u001b[0mself\u001b[0m\u001b[0;34m.\u001b[0m\u001b[0mfp\u001b[0m\u001b[0;34m.\u001b[0m\u001b[0mreadline\u001b[0m\u001b[0;34m(\u001b[0m\u001b[0m_MAXLINE\u001b[0m \u001b[0;34m+\u001b[0m \u001b[0;36m1\u001b[0m\u001b[0;34m)\u001b[0m\u001b[0;34m,\u001b[0m \u001b[0;34m\"iso-8859-1\"\u001b[0m\u001b[0;34m)\u001b[0m\u001b[0;34m\u001b[0m\u001b[0m\n\u001b[0m\u001b[1;32m    259\u001b[0m         \u001b[0;32mif\u001b[0m \u001b[0mlen\u001b[0m\u001b[0;34m(\u001b[0m\u001b[0mline\u001b[0m\u001b[0;34m)\u001b[0m \u001b[0;34m>\u001b[0m \u001b[0m_MAXLINE\u001b[0m\u001b[0;34m:\u001b[0m\u001b[0;34m\u001b[0m\u001b[0m\n\u001b[1;32m    260\u001b[0m             \u001b[0;32mraise\u001b[0m \u001b[0mLineTooLong\u001b[0m\u001b[0;34m(\u001b[0m\u001b[0;34m\"status line\"\u001b[0m\u001b[0;34m)\u001b[0m\u001b[0;34m\u001b[0m\u001b[0m\n",
      "\u001b[0;32m/Library/Frameworks/Python.framework/Versions/3.5/lib/python3.5/socket.py\u001b[0m in \u001b[0;36mreadinto\u001b[0;34m(self, b)\u001b[0m\n\u001b[1;32m    573\u001b[0m         \u001b[0;32mwhile\u001b[0m \u001b[0;32mTrue\u001b[0m\u001b[0;34m:\u001b[0m\u001b[0;34m\u001b[0m\u001b[0m\n\u001b[1;32m    574\u001b[0m             \u001b[0;32mtry\u001b[0m\u001b[0;34m:\u001b[0m\u001b[0;34m\u001b[0m\u001b[0m\n\u001b[0;32m--> 575\u001b[0;31m                 \u001b[0;32mreturn\u001b[0m \u001b[0mself\u001b[0m\u001b[0;34m.\u001b[0m\u001b[0m_sock\u001b[0m\u001b[0;34m.\u001b[0m\u001b[0mrecv_into\u001b[0m\u001b[0;34m(\u001b[0m\u001b[0mb\u001b[0m\u001b[0;34m)\u001b[0m\u001b[0;34m\u001b[0m\u001b[0m\n\u001b[0m\u001b[1;32m    576\u001b[0m             \u001b[0;32mexcept\u001b[0m \u001b[0mtimeout\u001b[0m\u001b[0;34m:\u001b[0m\u001b[0;34m\u001b[0m\u001b[0m\n\u001b[1;32m    577\u001b[0m                 \u001b[0mself\u001b[0m\u001b[0;34m.\u001b[0m\u001b[0m_timeout_occurred\u001b[0m \u001b[0;34m=\u001b[0m \u001b[0;32mTrue\u001b[0m\u001b[0;34m\u001b[0m\u001b[0m\n",
      "\u001b[0;31mKeyboardInterrupt\u001b[0m: "
     ]
    }
   ],
   "source": [
    "# Actual work done here\n",
    "#INPUT_FP = '../samples/earbuds_B000I68BD4_(N=1018_Stdev=1.34810039761).csv'\n",
    "#INPUT_FP = '../samples/mouse_B000TG4BA0_(N=306_Stdev=1.38151831291).csv'\n",
    "#INPUT_FP = '../samples/router_B000BTL0OA_(N=585_Stdev=1.15157611458).csv'\n",
    "INPUT_FP = '../samples/headphones_B0001FTVEK_N=950_Stdev=1.31976200322.csv'\n",
    "OUTPUT_FP = 'headphones.pkl'\n",
    "\n",
    "depparse_output, corpus = parse_product_csv(INPUT_FP, OUTPUT_FP)\n"
   ]
  },
  {
   "cell_type": "code",
   "execution_count": 69,
   "metadata": {
    "collapsed": false
   },
   "outputs": [
    {
     "name": "stdout",
     "output_type": "stream",
     "text": [
      "sound\n",
      "[(['loud'], [1, 1], 4.0), (['great'], [1, 1], 5.0), (['Good'], [0, 0], 3.0), (['clear'], [0, 1], 5.0), (['transmitted'], [0, 0], 2.0), (['good', 'rich'], [1, 1], 3.0), (['good'], [0, 0], 2.0), (['clean'], [0, 0], 3.0), (['clear'], [0, 0], 4.0), (['comes', 'cut'], [0, 0], 4.0), (['good'], [0, 0], 4.0), (['fine'], [2, 2], 4.0), (['noradio', 'is', 'excellent'], [3, 3], 5.0), (['awesome'], [1, 2], 5.0), (['great'], [0, 0], 4.0), (['coming'], [0, 0], 5.0), (['good'], [0, 0], 4.0), (['better'], [33, 36], 3.0), (['great'], [1, 1], 2.0), (['excellent'], [4, 4], 5.0), (['clear'], [0, 0], 5.0), (['great'], [0, 0], 5.0), (['pure'], [9, 9], 5.0), (['Great'], [0, 0], 5.0), (['good'], [0, 0], 1.0), (['great'], [1, 1], 5.0), (['is'], [2, 2], 2.0), (['loud', 'enough'], [0, 0], 2.0), (['better', 'nice'], [0, 2], 2.0), (['Clear', 'tried'], [0, 0], 5.0), (['awesome', 'great'], [0, 0], 5.0), (['clear', 'uncomfortable'], [1, 1], 5.0), (['carries', 'great'], [0, 1], 4.0), (['good'], [0, 0], 2.0), (['TERRIBLE'], [0, 1], 1.0), (['muted'], [1, 1], 4.0), (['quality'], [1, 1], 5.0), (['better'], [0, 0], 5.0), (['vocal', 'output'], [0, 0], 4.0), (['acceptable'], [0, 0], 5.0), (['static'], [0, 0], 5.0), (['great'], [2, 2], 4.0), (['excellent'], [1, 1], 5.0), (['clear'], [0, 0], 5.0), (['clear'], [0, 0], 4.0), (['OK'], [0, 0], 2.0), (['Good', 'Fit', 'Compatible'], [0, 0], 5.0), (['hissing'], [0, 1], 2.0), (['Constant', 'whirring'], [0, 1], 2.0), (['reasonable', 'great', 'starts'], [1, 1], 4.0), (['better', 'better'], [0, 0], 4.0), (['Muted'], [4, 4], 5.0), (['rich'], [0, 0], 4.0), (['good'], [1, 2], 2.0), (['lacks', 'tinny', 'better'], [0, 1], 3.0), (['low'], [1, 2], 1.0), (['clear', 'great'], [5, 6], 5.0), (['good'], [0, 1], 3.0), (['loud', 'hissing', 'was'], [0, 0], 2.0), (['Excellent', 'feature'], [2, 2], 4.0), (['steady'], [40, 45], 5.0), (['terrific', 'clear'], [1, 1], 5.0), (['definite', 'hissing', 'is', 'crappy'], [1, 1], 3.0), (['surround'], [0, 2], 1.0), (['remarkable'], [0, 0], 5.0), (['natural', 'overall'], [0, 0], 5.0), (['surround'], [1, 1], 5.0), (['great', 'has'], [0, 0], 5.0), (['clear'], [0, 0], 5.0), (['good', 'good'], [1, 1], 4.0), (['surround'], [0, 0], 5.0), (['superb'], [0, 0], 5.0), (['good'], [6, 6], 4.0), (['crisp'], [2, 3], 5.0), (['great', 'Excellent'], [1, 1], 5.0), (['liked'], [0, 0], 5.0), (['Great'], [2, 2], 4.0), (['Good', 'bleeds'], [0, 0], 4.0), (['great'], [1, 1], 5.0), (['better'], [0, 0], 5.0), (['nice', 'clean', 'sharp'], [1, 1], 4.0), (['good'], [1, 1], 4.0), (['hard'], [0, 0], 1.0), (['clear', 'surround'], [1, 1], 4.0), (['better'], [1, 1], 5.0), (['satisfactory'], [5, 6], 4.0), (['great'], [6, 6], 5.0), (['constant', 'high'], [1, 1], 3.0), (['good'], [0, 0], 5.0), (['clear'], [1, 1], 5.0), (['good', 'good'], [0, 0], 4.0), (['great'], [0, 0], 5.0), (['gets'], [0, 0], 4.0), (['clear'], [2, 2], 5.0), (['great', 'parallel'], [0, 0], 2.0), (['remarkable'], [1, 1], 5.0), (['heavy', 'nice'], [0, 0], 4.0), (['great'], [2, 2], 4.0), (['clear'], [0, 0], 4.0), (['clear', 'lasts'], [1, 1], 4.0), (['clear'], [1, 1], 5.0), (['better'], [1, 1], 4.0), (['worked', 'better', 'loud'], [5, 7], 3.0), (['good', 'overall', 'clear'], [1, 1], 4.0), (['clear', 'turned', 'clearest'], [0, 0], 5.0), (['good', 'perfect'], [2, 2], 5.0), (['has'], [0, 0], 5.0), (['comes'], [2, 2], 5.0), (['awesome'], [2, 3], 2.0), (['bother'], [0, 0], 5.0), (['great'], [0, 0], 5.0), (['coming', 'comes'], [5, 5], 4.0), (['decent'], [1, 1], 3.0), (['superior'], [4, 4], 5.0), (['fine'], [0, 0], 5.0), (['excellent'], [0, 0], 5.0), (['Comfortable', 'Rechargeable', 'Good'], [10, 10], 4.0), (['clear', 'crisp'], [1, 1], 4.0), (['good'], [0, 1], 1.0), (['Great'], [0, 0], 5.0), (['good'], [0, 0], 4.0), (['surround'], [0, 0], 5.0), (['Clear'], [0, 0], 5.0), (['little'], [0, 0], 5.0), (['deep'], [0, 0], 4.0), (['superb'], [853, 906], 5.0), (['great'], [0, 0], 5.0), (['better'], [2, 2], 5.0), (['good'], [0, 0], 4.0), (['loud'], [0, 0], 3.0), (['Fantastic', 'travels'], [0, 0], 5.0), (['coming'], [0, 0], 4.0), (['excellent'], [1, 1], 4.0), (['fades'], [0, 0], 4.0), (['good', 'good'], [0, 0], 2.0), (['clear'], [0, 0], 5.0), (['cinematic'], [0, 0], 4.0), (['loud'], [2, 2], 5.0), (['great', 'great'], [1, 1], 5.0), (['actual'], [0, 0], 1.0), (['good'], [1, 1], 4.0), (['excellent'], [5, 5], 5.0), (['superior'], [0, 0], 5.0), (['soft', 'buzzing'], [0, 0], 4.0), (['loud', 'static', 'is'], [2, 2], 4.0), (['clear'], [261, 281], 4.0), (['static'], [0, 0], 1.0), (['good'], [0, 0], 4.0), (['great'], [0, 0], 5.0), (['good'], [0, 0], 4.0), (['great'], [0, 0], 4.0), (['clear'], [1, 1], 1.0), (['good'], [2, 2], 3.0), (['dynamic'], [0, 0], 5.0), (['good'], [2, 2], 1.0), (['average'], [0, 0], 2.0), (['great', 'unhindered'], [1, 1], 5.0), (['hiss', 'degrades'], [0, 0], 2.0), (['ok'], [0, 0], 3.0), (['Great'], [0, 0], 4.0), (['Good', 'clear'], [0, 0], 4.0), (['good'], [0, 0], 1.0), (['playing', 'is'], [0, 0], 4.0), (['Good'], [1, 1], 4.0), (['great'], [0, 0], 5.0), (['good'], [2, 2], 4.0), (['slight', 'humming'], [0, 0], 5.0), (['horrible', 'screeching', 'loud', 'screeching', 'good', 'screeching'], [0, 0], 1.0), (['digital'], [0, 0], 5.0), (['good', 'good'], [0, 0], 4.0), (['Great', 'astounding'], [3, 3], 5.0), (['thin', 'turned'], [1, 1], 3.0), (['has'], [0, 1], 2.0), (['constant', 'hiss'], [1, 1], 4.0), (['possible', 'hissing'], [0, 0], 5.0), (['Great'], [1, 1], 5.0), (['excellent'], [1, 1], 3.0), (['choose'], [0, 0], 4.0), (['clear'], [0, 0], 5.0), (['faint'], [0, 0], 5.0), (['was', 'Glorious', 'went'], [15, 45], 1.0), (['clear'], [0, 0], 4.0), (['amazing'], [0, 0], 5.0), (['good'], [0, 0], 4.0), (['excellent'], [1, 1], 5.0), (['better', 'surround', 'fuller'], [0, 0], 5.0), (['awesome'], [0, 0], 5.0), (['great'], [1, 1], 4.0), (['terrific'], [1, 1], 4.0), (['hissing'], [0, 0], 5.0), (['incredible'], [0, 0], 5.0), (['Lovely'], [0, 0], 5.0), (['good'], [0, 0], 5.0), (['better', 'overall'], [0, 0], 4.0), (['good'], [38, 40], 4.0), (['good', 'shut', 'resumes'], [1, 1], 4.0), (['Ok'], [0, 0], 4.0), (['noticable', 'hissing', 'IS'], [52, 65], 4.0), (['much', 'clearer'], [0, 0], 3.0), (['clear'], [2, 2], 4.0), (['excellent'], [0, 0], 4.0), (['better'], [2, 2], 5.0), (['is'], [0, 0], 4.0), (['clear'], [0, 0], 5.0), (['clear', 'extraneous', 'clear'], [1, 1], 5.0), (['Great'], [0, 0], 4.0), (['little', 'escape'], [2, 2], 5.0), (['excellent'], [0, 0], 5.0), (['constant', 'hissing'], [0, 0], 2.0), (['surround', 'real'], [0, 0], 5.0), (['fantastic'], [1, 1], 2.0), (['good'], [1, 1], 4.0), (['Comfortable', 'excellent', 'good'], [0, 0], 5.0), (['great'], [0, 0], 3.0), (['great'], [1, 1], 5.0), (['clear'], [0, 0], 5.0), (['decent', 'make'], [1, 1], 2.0), (['decent'], [7, 7], 4.0), (['clear', 'is', 'unwanted'], [9, 9], 4.0), (['clear'], [1, 1], 4.0), (['surround', 'surround'], [0, 0], 5.0), (['excellent'], [89, 95], 3.0), (['decent'], [0, 0], 4.0), (['many'], [1, 1], 5.0), (['good', 'crisp', 'clear'], [1, 1], 4.0), (['Great'], [10, 10], 5.0), (['awesome'], [0, 0], 4.0), (['static', 'fantastic', 'come', 'great'], [0, 0], 3.0), (['clear'], [0, 0], 5.0), (['aural', 'overall', 'crisp'], [1, 1], 4.0), (['good', 'enough'], [0, 0], 2.0), (['OK'], [0, 0], 3.0), (['good'], [2, 2], 5.0), (['jacked'], [3, 3], 4.0), (['Great'], [0, 0], 5.0), (['surround', 'surround'], [2, 2], 5.0), (['good'], [0, 0], 5.0), (['good'], [0, 0], 4.0), (['cranked'], [0, 0], 5.0), (['acceptable'], [0, 0], 4.0), (['hissing', 'is'], [0, 0], 4.0)]\n",
      "quality\n",
      "[(['Sound', 'good'], [0, 0], 5.0), (['great'], [0, 0], 3.0), (['Sound', 'great'], [0, 0], 5.0), (['Sound', 'adequate'], [2, 3], 4.0), (['good'], [0, 0], 5.0), (['audio', 'appears'], [0, 0], 2.0), (['better'], [0, 0], 5.0), (['brilliant', 'audio'], [0, 0], 5.0), (['great'], [0, 0], 5.0), (['superb'], [0, 0], 5.0), (['such'], [2, 2], 5.0), (['Sound', 'good'], [1, 1], 5.0), (['good'], [2, 2], 4.0), (['wonderful'], [0, 0], 5.0), (['better'], [0, 0], 5.0), (['excellent'], [1, 1], 5.0), (['good'], [33, 36], 3.0), (['good'], [10, 10], 2.0), (['audio', 'good'], [0, 0], 4.0), (['excellent'], [2, 2], 5.0), (['Sound', 'good'], [0, 0], 5.0), (['superb'], [1, 1], 5.0), (['many', 'yearsBuild'], [0, 0], 5.0), (['better', 'poor', 'better'], [0, 2], 2.0), (['good'], [1, 1], 4.0), (['good'], [2, 2], 5.0), (['Good'], [0, 0], 5.0), (['build', 'audio', 'great'], [1, 1], 1.0), (['Sound', 'good'], [0, 0], 5.0), (['excellent'], [0, 0], 3.0), (['good'], [1, 1], 4.0), (['better'], [1, 1], 5.0), (['better'], [0, 0], 4.0), (['poor', 'perfect'], [1, 1], 5.0), (['Comfortable'], [0, 0], 5.0), (['good'], [0, 0], 2.0), (['amazing'], [1, 1], 5.0), (['amazing'], [2, 2], 5.0), (['good'], [1, 1], 5.0), (['excellent', 'overall'], [0, 0], 5.0), (['better'], [0, 0], 5.0), (['excellent'], [0, 1], 1.0), (['wonderful'], [0, 0], 4.0), (['basic', 'good'], [1, 2], 2.0), (['good'], [0, 0], 5.0), (['good'], [0, 1], 2.0), (['good'], [0, 0], 4.0), (['better'], [0, 1], 3.0), (['excellent'], [0, 0], 4.0), (['good', 'go'], [0, 0], 2.0), (['better'], [0, 0], 4.0), (['bass'], [1, 1], 3.0), (['Sound', 'good'], [0, 0], 4.0), (['terrible', 'great'], [0, 2], 1.0), (['poor'], [1, 1], 1.0), (['Sound', 'overall', 'bad'], [1, 1], 3.0), (['rich'], [0, 0], 5.0), (['great'], [1, 1], 5.0), (['anything', 'perfect', 'acceptable'], [0, 0], 4.0), (['good'], [0, 0], 5.0), (['Sound', 'drop'], [5, 5], 5.0), (['Sound', 'began', 'Sound', 'good'], [1, 1], 4.0), (['excellent'], [3, 3], 4.0), (['Terrible'], [1, 1], 1.0), (['good', 'leaves'], [1, 1], 1.0), (['good'], [0, 0], 5.0), (['perfect', 'Sound', 'good', 'Sound'], [2, 3], 5.0), (['better', 'better', 'compatible', 'better'], [1, 1], 3.0), (['true'], [2, 2], 4.0), (['high'], [1, 1], 4.0), (['audio', 'good'], [0, 0], 2.0), (['German'], [13, 14], 1.0), (['good'], [1, 1], 5.0), (['excellent'], [14, 15], 5.0), (['great'], [1, 1], 3.0), (['Good'], [0, 0], 4.0), (['good', 'audio'], [0, 0], 5.0), (['Sound', 'great'], [1, 1], 4.0), (['Excellent'], [3, 3], 5.0), (['good'], [0, 0], 4.0), (['Great'], [0, 0], 5.0), (['decent'], [0, 0], 4.0), (['good'], [0, 0], 5.0), (['excellent'], [0, 0], 5.0), (['Audio', 'acceptable'], [0, 0], 5.0), (['Good'], [0, 0], 4.0), (['better'], [1, 1], 2.0), (['OK'], [0, 0], 2.0), (['Good'], [0, 0], 5.0), (['awesome'], [2, 2], 5.0), (['high'], [0, 0], 5.0), (['good'], [1, 1], 4.0), (['meh'], [0, 0], 2.0), (['clean'], [1, 1], 3.0), (['better'], [0, 0], 1.0), (['good'], [0, 0], 2.0), (['high'], [4, 4], 5.0), (['Sound', 'good'], [4, 16], 3.0), (['audio', 'Sound', 'spectrum'], [0, 0], 5.0), (['Great'], [0, 0], 4.0), (['is'], [14, 14], 3.0), (['great'], [1, 1], 2.0), (['fantastic', 'High'], [0, 0], 3.0), (['good'], [0, 0], 5.0), (['Sound', 'great'], [1, 1], 5.0), (['audio', 'good'], [0, 0], 5.0), (['Sound', 'fine', 'decent'], [4, 4], 5.0), (['awful'], [1, 1], 5.0), (['better'], [1, 1], 4.0), (['Sound', 'seems'], [2, 2], 1.0), (['Sound', 'good'], [0, 0], 5.0), (['Great'], [0, 0], 4.0), (['Excellent'], [0, 0], 2.0), (['audio'], [0, 0], 4.0), (['poor'], [0, 0], 2.0), (['excellent'], [3, 3], 5.0), (['audio', 'superb'], [0, 0], 5.0), (['Sound', 'great'], [0, 1], 5.0), (['audio', 'good'], [0, 0], 1.0), (['good'], [0, 0], 1.0), (['able', 'good', 'breakers'], [1, 1], 5.0), (['good'], [2, 2], 3.0), (['Amazing'], [2, 2], 5.0), (['poor'], [0, 0], 5.0), (['good'], [0, 0], 4.0), (['Excellent', 'poor'], [0, 0], 5.0), (['bad'], [58, 67], 1.0), (['good'], [0, 0], 4.0), (['excellent', 'high'], [0, 1], 4.0), (['crisp'], [0, 0], 5.0), (['superb'], [0, 0], 5.0), (['Sound', 'awesome'], [5, 5], 5.0), (['good'], [1, 2], 5.0), (['great'], [0, 0], 4.0), (['Sound', 'terrible'], [2, 2], 1.0), (['good', 'appears'], [1, 1], 5.0), (['poor'], [1, 2], 1.0), (['consistent'], [0, 0], 4.0), (['great'], [1, 1], 4.0), (['Sound', 'good'], [0, 0], 4.0), (['excellent'], [0, 0], 5.0), (['good'], [0, 0], 3.0), (['excellent'], [0, 0], 5.0), (['excellent'], [3, 5], 3.0), (['good'], [0, 0], 4.0), (['good'], [0, 0], 5.0), (['phenomenal'], [0, 0], 5.0), (['audiophile'], [0, 0], 4.0), (['superb'], [0, 0], 4.0), (['good'], [1, 1], 4.0), (['great'], [68, 75], 5.0), (['Audio', 'varies'], [0, 0], 3.0), (['good'], [1, 1], 4.0), (['great'], [2, 2], 5.0), (['good', 'audio', 'clear'], [0, 0], 5.0), (['good'], [1, 1], 4.0), (['excellent'], [0, 0], 4.0), (['excellent'], [0, 0], 4.0), (['amazing'], [0, 0], 4.0), (['finer'], [2, 2], 5.0), (['good'], [0, 0], 5.0), (['good'], [0, 0], 5.0), (['Sound', 'good'], [0, 0], 4.0), (['great'], [0, 0], 5.0), (['fantastic'], [0, 0], 4.0), (['clear'], [0, 0], 5.0), (['good', 'Sound', 'great'], [0, 0], 1.0), (['Sound', 'better'], [0, 0], 5.0), (['excellent'], [0, 0], 5.0), (['excellent'], [0, 0], 4.0), (['good'], [2, 2], 5.0), (['great'], [1, 1], 4.0), (['excellent'], [0, 0], 5.0), (['better'], [0, 0], 2.0), (['lasts'], [3, 3], 4.0), (['good'], [1, 1], 4.0), (['high'], [0, 0], 5.0), (['good'], [7, 7], 4.0), (['superb'], [0, 0], 5.0), (['good'], [0, 0], 4.0), (['outstanding'], [1, 1], 4.0), (['Sound', 'good'], [1, 1], 5.0), (['good'], [3, 3], 4.0), (['seems'], [0, 0], 4.0), (['good'], [2, 2], 5.0), (['good'], [1, 1], 5.0), (['amazing'], [0, 0], 4.0), (['good', 'audio'], [1, 1], 2.0), (['be', 'low'], [1, 1], 5.0)]\n",
      "range\n",
      "[(['great'], [0, 0], 4.0), (['decent'], [7, 8], 3.0), (['Good'], [0, 0], 3.0), (['limited'], [0, 1], 1.0), (['good'], [0, 0], 5.0), (['say'], [0, 0], 5.0), (['good'], [0, 0], 4.0), (['excellent'], [1, 1], 5.0), (['close'], [0, 0], 1.0), (['superb'], [1, 1], 5.0), (['excellent'], [10, 10], 2.0), (['fabulous'], [2, 2], 5.0), (['excellent', 'keeps'], [0, 0], 5.0), (['awesome'], [2, 2], 5.0), (['great'], [0, 0], 5.0), (['great'], [0, 0], 5.0), (['great'], [0, 0], 5.0), (['great'], [0, 0], 3.0), (['good'], [1, 1], 5.0), (['dynamic', 'seems', 'dynamic', 'much'], [0, 0], 2.0), (['good'], [0, 0], 5.0), (['good'], [1, 2], 1.0), (['high'], [1, 1], 5.0), (['wide'], [0, 0], 5.0), (['unbelievable'], [1, 1], 4.0), (['excellent', 'Great'], [0, 0], 5.0), (['limited', 'sensitive', 'ok'], [1, 1], 4.0), (['great'], [1, 1], 4.0), (['good'], [0, 0], 5.0), (['great'], [5, 6], 5.0), (['incredible'], [1, 1], 5.0), (['Excellent'], [40, 45], 5.0), (['good', 'dynamic'], [0, 0], 5.0), (['great'], [0, 0], 4.0), (['issue'], [0, 0], 5.0), (['excellent'], [6, 7], 5.0), (['good'], [0, 0], 5.0), (['great'], [1, 1], 5.0), (['good', 'wide'], [0, 0], 5.0), (['Great'], [6, 6], 4.0), (['liked'], [0, 0], 5.0), (['insane'], [0, 0], 4.0), (['Great', 'clear'], [1, 1], 5.0), (['impressive'], [44, 48], 5.0), (['high'], [1, 1], 4.0), (['good'], [0, 0], 4.0), (['good'], [0, 0], 5.0), (['exceptional'], [0, 0], 4.0), (['far'], [1, 1], 2.0), (['problem'], [1, 1], 4.0), (['advertised'], [1, 1], 2.0), (['fantastic'], [42, 44], 3.0), (['great'], [2, 2], 5.0), (['good'], [1, 1], 5.0), (['great'], [5, 5], 4.0), (['limited', 'excellent'], [4, 4], 5.0), (['good'], [0, 0], 5.0), (['nice'], [0, 0], 4.0), (['Great'], [0, 0], 4.0), (['great'], [2, 2], 5.0), (['mid'], [0, 0], 3.0), (['Great'], [0, 0], 5.0), (['good'], [0, 0], 5.0), (['seems', 'great'], [1, 1], 4.0), (['GOOD'], [0, 0], 2.0), (['dynamic'], [10, 11], 5.0), (['great'], [2, 2], 5.0), (['good'], [0, 0], 4.0), (['great'], [2, 2], 4.0), (['full'], [261, 281], 4.0), (['good'], [2, 2], 4.0), (['great', 'quiet'], [0, 0], 4.0), (['excellent'], [0, 1], 4.0), (['static', 'free'], [0, 0], 5.0), (['good'], [0, 0], 5.0), (['excellent'], [3, 3], 5.0), (['Good'], [1, 1], 4.0), (['awesome'], [0, 0], 5.0), (['Good'], [0, 0], 5.0), (['dynamic'], [2, 2], 2.0), (['limited', 'enclose', 'better'], [21, 23], 2.0), (['length'], [3, 4], 5.0), (['amazing'], [0, 0], 5.0), (['good'], [1, 1], 4.0), (['great'], [0, 0], 5.0), (['short'], [1, 1], 4.0), (['amazing'], [2, 2], 5.0), (['advertised'], [0, 0], 5.0), (['good'], [0, 0], 5.0), (['works'], [0, 0], 5.0), (['greater'], [0, 0], 5.0), (['Great'], [7, 7], 4.0), (['typical', 'full'], [9, 9], 4.0), (['great'], [0, 0], 5.0), (['good'], [1, 1], 5.0), (['Good'], [3, 3], 4.0), (['greater'], [0, 0], 4.0), (['great'], [0, 0], 5.0)]\n",
      "wife\n",
      "[(['goes'], [0, 0], 4.0), (['hard'], [1, 1], 5.0), (['hear'], [0, 0], 3.0), (['likes'], [2, 2], 5.0), (['sleeping'], [1, 1], 5.0), (['sleep'], [2, 2], 5.0), (['enjoyed'], [1, 1], 5.0), (['arrived'], [0, 0], 4.0), (['disabled'], [0, 0], 5.0), (['listen'], [0, 0], 4.0), (['wanted'], [0, 0], 5.0), (['likes'], [0, 0], 5.0), (['trying'], [1, 1], 4.0), (['has'], [1, 1], 5.0), (['irritated'], [0, 0], 4.0), (['listen'], [0, 0], 2.0), (['watch', 'fall'], [1, 1], 5.0), (['had'], [1, 1], 5.0), (['asks'], [1, 1], 5.0), (['speaks'], [1, 1], 5.0), (['able'], [0, 0], 5.0), (['happy'], [0, 0], 5.0), (['bother'], [1, 2], 1.0), (['enjoy'], [40, 45], 5.0), (['have'], [0, 0], 2.0), (['happy'], [4, 4], 5.0), (['needed'], [0, 0], 5.0), (['schedule'], [1, 1], 5.0), (['work', 'watch'], [51, 57], 1.0), (['reading'], [6, 6], 4.0), (['one'], [0, 0], 5.0), (['sleep'], [1, 1], 4.0), (['lost'], [0, 0], 5.0), (['claims', 'enjoy'], [1, 1], 5.0), (['happy'], [3, 3], 5.0), (['bought'], [0, 0], 5.0), (['likes', 'says'], [0, 0], 4.0), (['pleased'], [1, 1], 4.0), (['happy'], [0, 0], 4.0), (['reads'], [0, 0], 5.0), (['disturbing'], [1, 1], 4.0), (['said'], [1, 1], 3.0), (['want'], [1, 1], 3.0), (['got'], [0, 0], 4.0), (['watching'], [0, 0], 5.0), (['starts'], [3, 3], 5.0), (['sleeps'], [0, 0], 5.0), (['watches'], [1, 1], 4.0), (['has'], [10, 19], 2.0), (['sleeps'], [0, 0], 5.0), (['uses'], [0, 0], 5.0), (['use'], [1, 2], 5.0), (['listens'], [0, 0], 5.0), (['sleeping'], [0, 0], 3.0), (['gone'], [0, 0], 5.0), (['goes'], [0, 0], 4.0), (['commenting'], [2, 2], 2.0), (['asking'], [0, 0], 4.0), (['wants'], [68, 75], 5.0), (['complains', 'get'], [0, 0], 4.0), (['gone'], [1, 1], 4.0), (['wants', 'use'], [1, 1], 2.0), (['likes'], [1, 1], 4.0), (['talking'], [0, 0], 5.0), (['like', 'complain'], [0, 0], 5.0), (['loves'], [0, 0], 5.0), (['insisted'], [89, 95], 3.0), (['watch'], [0, 0], 5.0), (['working'], [1, 1], 4.0), (['continues'], [0, 0], 4.0), (['likes'], [0, 0], 5.0), (['sleeping'], [0, 0], 5.0)]\n",
      "product\n",
      "[(['started'], [0, 0], 3.0), (['enabled', 'Great'], [1, 1], 5.0), (['fantastic'], [1, 1], 5.0), (['overall', 'great'], [0, 0], 5.0), (['impressive'], [1, 1], 5.0), (['final'], [0, 0], 4.0), (['bad'], [1, 3], 1.0), (['great'], [0, 0], 5.0), (['worse'], [0, 1], 1.0), (['built'], [2, 3], 5.0), (['get'], [0, 0], 4.0), (['great'], [2, 2], 5.0), (['have'], [4, 4], 1.0), (['decent'], [0, 0], 1.0), (['good'], [1, 1], 3.0), (['great'], [0, 0], 2.0), (['representation'], [1, 1], 1.0), (['superb'], [0, 0], 5.0), (['great'], [1, 1], 5.0), (['Great'], [0, 0], 5.0), (['Good'], [0, 0], 4.0), (['bad'], [1, 1], 5.0), (['undamaged'], [0, 0], 5.0), (['have'], [0, 0], 3.0), (['works'], [1, 1], 5.0), (['works'], [1, 1], 5.0), (['perfect'], [2, 2], 5.0), (['cool'], [1, 1], 3.0), (['good'], [0, 0], 1.0), (['has'], [0, 0], 1.0), (['Ease'], [0, 0], 5.0), (['finished', 'spectacular'], [1, 1], 5.0), (['Great'], [0, 0], 5.0), (['working'], [853, 906], 5.0), (['fine'], [2, 2], 5.0), (['good'], [0, 0], 4.0), (['everything'], [0, 0], 5.0), (['excellent'], [2, 2], 5.0), (['alright'], [0, 0], 3.0), (['works'], [0, 0], 5.0), (['wears'], [5, 5], 5.0), (['great'], [0, 0], 4.0), (['pleasing'], [0, 0], 5.0), (['excellent'], [0, 0], 5.0), (['Good'], [0, 0], 4.0), (['easy'], [0, 0], 4.0), (['Great'], [0, 0], 5.0), (['going'], [0, 0], 1.0), (['savior'], [1, 1], 4.0), (['good', 'good'], [0, 0], 5.0), (['weird'], [8, 8], 4.0), (['great'], [2, 2], 5.0), (['Great'], [0, 0], 5.0), (['nice'], [0, 0], 5.0), (['Excellent'], [2, 2], 5.0), (['good'], [0, 0], 5.0), (['great'], [0, 0], 5.0), (['stellar'], [0, 0], 5.0), (['work'], [1, 1], 4.0), (['lacks', 'particular', 'work'], [5, 5], 4.0), (['nice'], [0, 0], 5.0), (['better'], [0, 0], 5.0), (['Good'], [0, 0], 4.0), (['Good'], [7, 7], 4.0), (['works', 'works'], [0, 0], 5.0), (['great', 'lets'], [0, 0], 4.0), (['Great'], [0, 0], 5.0), (['excellent'], [0, 0], 5.0), (['make'], [0, 1], 2.0)]\n",
      "set\n",
      "[(['remarkable'], [13, 14], 5.0), (['corded'], [0, 0], 4.0), (['primary'], [0, 0], 3.0), (['cheaper'], [0, 1], 2.0), (['better', 'add'], [2, 3], 1.0), (['have'], [1, 1], 5.0), (['great'], [0, 0], 4.0), (['had', 'old', 'cheap', 'old', 'cheap'], [0, 0], 4.0), (['defective'], [0, 0], 2.0), (['nice'], [1, 1], 4.0), (['cheap'], [0, 0], 5.0), (['great'], [1, 1], 5.0), (['own'], [0, 1], 2.0), (['foldable', 'portable', 'excellent'], [0, 0], 5.0), (['gift', 'old'], [0, 0], 4.0), (['third'], [1, 1], 5.0), (['separate', 'seems', 'wired'], [1, 1], 3.0), (['current', 'connected'], [24, 26], 5.0), (['definitive'], [0, 0], 4.0), (['Rocketfish', 'Rocketfish', 'looks'], [0, 2], 1.0), (['old', 'had', 'Good', 'hope'], [0, 0], 5.0), (['choice', 'additional'], [0, 0], 5.0), (['good'], [0, 0], 5.0), (['third'], [0, 0], 5.0), (['old'], [0, 0], 4.0), (['great'], [6, 6], 5.0), (['great', 'option'], [0, 0], 5.0), (['defective'], [0, 0], 5.0), (['old'], [2, 3], 2.0), (['perfect'], [0, 0], 5.0), (['great'], [1, 1], 5.0), (['cheap'], [1, 1], 5.0), (['excellent'], [3, 3], 5.0), (['refurbished'], [0, 0], 5.0), (['convenient'], [0, 0], 4.0), (['inexpensive', 'expensive', 'expensive'], [0, 0], 5.0), (['compatible'], [1, 1], 5.0), (['great'], [0, 0], 5.0), (['saved'], [1, 2], 5.0), (['great'], [1, 2], 1.0), (['good', 'inexpensive'], [0, 0], 4.0), (['whole', 'bulky'], [1, 1], 3.0), (['cheaper'], [0, 0], 5.0), (['does'], [0, 0], 5.0), (['good'], [0, 0], 3.0), (['satisfy'], [0, 0], 5.0), (['works'], [0, 0], 5.0), (['good'], [0, 0], 4.0), (['particular'], [15, 45], 1.0), (['existing'], [0, 0], 5.0), (['universal'], [2, 2], 2.0), (['own'], [68, 75], 5.0), (['charge', 'has'], [0, 0], 5.0), (['go', 'great'], [1, 1], 4.0), (['newer'], [0, 0], 1.0), (['particular'], [5, 5], 4.0), (['Excellent'], [7, 7], 4.0), (['has', 'comes', 'sure', 'refurbished'], [9, 9], 4.0), (['good'], [6, 9], 1.0), (['older'], [0, 0], 5.0), (['listen'], [0, 0], 5.0), (['latest'], [0, 0], 5.0)]\n",
      "noise\n",
      "[(['happen'], [13, 14], 5.0), (['sudden'], [0, 0], 4.0), (['loud', 'static', 'there', 'free'], [1, 1], 4.0), (['loud', 'horrible'], [7, 8], 3.0), (['loud'], [0, 0], 2.0), (['low', 'hissing', 'is'], [0, 0], 4.0), (['bleed'], [0, 0], 4.0), (['hissing'], [0, 0], 4.0), (['white', 'white'], [2, 2], 2.0), (['surrounding', 'distracting'], [1, 1], 5.0), (['no'], [0, 0], 4.0), (['constant'], [0, 0], 4.0), (['repetitive', 'ticking'], [2, 2], 4.0), (['significant'], [1, 1], 5.0), (['horrible', 'static'], [1, 2], 1.0), (['static'], [0, 1], 2.0), (['much'], [0, 0], 2.0), (['white'], [51, 57], 1.0), (['loud'], [0, 0], 5.0), (['humming'], [1, 1], 1.0), (['better'], [1, 1], 3.0), (['hissing'], [1, 1], 5.0), (['high', 'pitched'], [13, 14], 1.0), (['isolating'], [6, 6], 5.0), (['slight', 'static', 'gets'], [0, 0], 2.0), (['white'], [3, 3], 3.0), (['little', 'clicking'], [1, 1], 5.0), (['cancelling'], [2, 3], 2.0), (['loud', 'buzzing'], [0, 0], 1.0), (['was', 'mixed'], [0, 0], 4.0), (['white'], [0, 1], 4.0), (['white'], [1, 1], 4.0), (['screaching', 'static'], [1, 1], 2.0), (['loud'], [0, 0], 3.0), (['loud', 'hissing'], [0, 0], 4.0), (['loud'], [0, 0], 4.0), (['loud', 'white', 'white'], [9, 9], 1.0), (['huge', 'hiss', 'common'], [2, 2], 1.0), (['loud', 'static'], [0, 0], 4.0), (['static'], [1, 2], 1.0), (['static', 'is'], [0, 0], 4.0), (['static'], [1, 1], 4.0), (['Static', 'apparent'], [0, 1], 2.0), (['awful', 'LOUD', 'static'], [1, 1], 3.0), (['terrible'], [1, 2], 4.0), (['static'], [0, 0], 5.0), (['is'], [0, 0], 5.0), (['much'], [0, 0], 5.0), (['extraneous'], [1, 1], 5.0), (['clicking', 'clicking', 'problem'], [0, 0], 5.0), (['static'], [38, 40], 4.0), (['white'], [0, 0], 4.0), (['noticeble', 'static'], [1, 1], 5.0), (['white', 'louder', 'white'], [2, 2], 5.0), (['is'], [0, 0], 5.0), (['static'], [0, 0], 4.0), (['static'], [7, 7], 4.0), (['loud', 'hissing', 'was'], [3, 3], 4.0), (['static'], [89, 95], 3.0), (['hiss'], [7, 7], 4.0), (['static'], [0, 0], 3.0), (['constant'], [1, 1], 2.0)]\n",
      "headset\n",
      "[(['work', 'defective', 'works'], [3, 3], 5.0), (['is'], [1, 1], 2.0), (['loose'], [1, 1], 4.0), (['fits'], [2, 2], 2.0), (['Noisy'], [0, 1], 1.0), (['old'], [1, 1], 5.0), (['clear'], [0, 0], 5.0), (['uses', 'harder', 'prior', 'old', 'work'], [0, 1], 1.0), (['entire'], [1, 2], 1.0), (['stopped'], [0, 0], 2.0), (['wearable'], [1, 1], 4.0), (['big'], [1, 1], 3.0), (['work'], [0, 0], 3.0), (['better', 'large', 'find', 'cheap', 'recyclable'], [1, 2], 2.0), (['gets', 'third'], [4, 4], 5.0), (['synced'], [0, 0], 4.0), (['drops', 'thinks', 'disconnects'], [51, 57], 1.0), (['warm'], [0, 0], 5.0), (['heavy'], [0, 0], 5.0), (['exceeded'], [0, 0], 5.0), (['feels', 'best', 'fitting'], [0, 0], 4.0), (['use', 'use'], [1, 1], 5.0), (['solid'], [44, 48], 5.0), (['best', 'wirless'], [1, 1], 5.0), (['more'], [1, 1], 4.0), (['has'], [0, 0], 5.0), (['bulky'], [1, 1], 4.0), (['have'], [1, 1], 2.0), (['single'], [0, 0], 5.0), (['great', 'good'], [0, 0], 5.0), (['work'], [0, 0], 3.0), (['comfortable', 'resting'], [0, 0], 4.0), (['hot'], [0, 0], 2.0), (['wired', 'receive', 'turn'], [10, 11], 5.0), (['bulky'], [0, 0], 5.0), (['great', 'have'], [0, 0], 4.0), (['loud'], [2, 2], 5.0), (['hangs'], [1, 1], 5.0), (['does'], [0, 0], 5.0), (['need'], [0, 0], 1.0), (['old', 'wired'], [1, 1], 5.0), (['needs'], [1, 1], 4.0), (['work'], [0, 0], 3.0), (['easy'], [0, 0], 4.0), (['loose'], [0, 0], 3.0), (['seems'], [1, 1], 5.0), (['last', 'better'], [1, 1], 3.0), (['Excellent'], [0, 0], 5.0), (['slips'], [3, 5], 3.0), (['great'], [3, 4], 5.0), (['proven', 'come'], [1, 1], 4.0), (['rechargeable', 'rests'], [0, 0], 5.0), (['requires'], [1, 1], 5.0), (['USB'], [0, 0], 3.0), (['stretched'], [38, 40], 4.0), (['runs'], [0, 0], 5.0), (['tends'], [1, 1], 4.0), (['bulky', 'comfortable', 'fitting'], [89, 95], 3.0), (['great', 'best', 'going'], [0, 0], 5.0), (['charger'], [0, 0], 4.0)]\n",
      "volume\n",
      "[(['low', 'higher'], [2, 2], 5.0), (['good'], [0, 0], 2.0), (['higher', 'soft'], [0, 0], 4.0), (['deafening', 'reasonable'], [6, 7], 2.0), (['close'], [2, 2], 5.0), (['loud'], [2, 2], 5.0), (['go'], [0, 2], 2.0), (['desired'], [0, 0], 5.0), (['full'], [1, 1], 1.0), (['high'], [0, 0], 4.0), (['turns'], [1, 1], 4.0), (['louder'], [0, 0], 3.0), (['great'], [0, 1], 3.0), (['low'], [2, 2], 4.0), (['reasonable'], [40, 45], 5.0), (['related'], [0, 0], 4.0), (['is'], [0, 0], 5.0), (['decent'], [4, 4], 5.0), (['knob'], [5, 5], 5.0), (['full', 'static'], [51, 57], 1.0), (['reasonable'], [0, 0], 5.0), (['Insufficient'], [1, 1], 1.0), (['fine'], [0, 0], 5.0), (['back'], [2, 3], 5.0), (['controls'], [1, 1], 4.0), (['high'], [0, 0], 5.0), (['go'], [0, 0], 1.0), (['has'], [1, 1], 5.0), (['have'], [0, 0], 5.0), (['good'], [1, 1], 4.0), (['cranked'], [1, 1], 2.0), (['goes'], [0, 0], 3.0), (['decent'], [1, 1], 4.0), (['anything'], [2, 2], 5.0), (['touchy'], [1, 1], 5.0), (['loud'], [0, 0], 4.0), (['great'], [2, 2], 4.0), (['own'], [0, 0], 5.0), (['little', 'adjust', 'reduced'], [1, 2], 1.0), (['higher'], [0, 0], 3.0), (['one'], [1, 1], 4.0), (['occasional', 'high'], [0, 0], 1.0), (['gets'], [1, 1], 5.0), (['loud'], [1, 1], 3.0), (['loud', 'loud'], [4, 4], 5.0), (['sensitive'], [0, 0], 4.0), (['is'], [1, 1], 4.0), (['overall', 'loud', 'adequate'], [1, 1], 2.0), (['reasonable', 'low'], [0, 0], 4.0), (['about', 'mid', 'full'], [5, 5], 4.0), (['low'], [0, 0], 1.0), (['high', 'lower'], [1, 1], 5.0), (['loud'], [0, 0], 5.0), (['low', 'low'], [9, 9], 4.0)]\n",
      "signal\n",
      "[(['good'], [0, 0], 5.0), (['break'], [2, 2], 5.0), (['best', 'drops'], [0, 0], 5.0), (['is'], [1, 1], 4.0), (['cuts'], [1, 1], 1.0), (['audio'], [0, 1], 2.0), (['drops'], [1, 1], 5.0), (['louder'], [0, 1], 2.0), (['strong', 'stops'], [129, 140], 4.0), (['near', 'perfect'], [1, 1], 5.0), (['audio'], [0, 0], 4.0), (['full', 'dead'], [1, 1], 5.0), (['clear'], [1, 1], 5.0), (['go'], [0, 0], 1.0), (['gets'], [1, 1], 4.0), (['own'], [14, 15], 5.0), (['decent'], [1, 1], 3.0), (['is'], [0, 0], 2.0), (['infrared'], [1, 1], 4.0), (['clear'], [2, 2], 5.0), (['carries'], [0, 0], 5.0), (['fades'], [1, 1], 5.0), (['Strong'], [0, 0], 5.0), (['good'], [0, 0], 3.0), (['audio'], [0, 0], 2.0), (['clear'], [4, 4], 5.0), (['cuts', 'clearest'], [1, 1], 4.0), (['goes'], [4, 4], 5.0), (['audio'], [0, 0], 4.0), (['loud', 'clear'], [2, 2], 5.0), (['constant', 'high', 'constant', 'strong', 'clear', 'strong', 'strong', 'strong'], [261, 281], 4.0), (['clear'], [0, 0], 2.0), (['audio'], [0, 0], 4.0), (['optimum'], [1, 1], 5.0), (['lose'], [0, 0], 5.0), (['clear'], [0, 0], 5.0), (['audio', 'present'], [1, 1], 5.0), (['powerful'], [0, 0], 4.0), (['clear'], [0, 0], 5.0), (['line'], [1, 1], 4.0), (['clear'], [8, 10], 5.0), (['audio'], [1, 1], 4.0), (['good', 'solid'], [0, 0], 2.0), (['audio'], [0, 0], 4.0), (['get', 'is'], [0, 0], 4.0), (['clear'], [2, 2], 5.0), (['clear'], [0, 0], 1.0), (['seems'], [0, 0], 3.0), (['clear'], [9, 9], 4.0), (['best'], [1, 1], 4.0)]\n"
     ]
    }
   ],
   "source": [
    "feat_adjs = extract_features_with_weight_data(depparse_output, INPUT_FP, True)\n",
    "for feat, adjs in feat_adjs[:10]:\n",
    "    print(feat)\n",
    "    print(adjs)"
   ]
  },
  {
   "cell_type": "code",
   "execution_count": 105,
   "metadata": {
    "collapsed": false
   },
   "outputs": [],
   "source": [
    "import math\n",
    "import statistics\n",
    "import sentiment\n",
    "\n",
    "# Get sentiment for ^ output.\n",
    "\"\"\"\n",
    "for each product quality and adj list:\n",
    "    for each (adj, helpful score, review score):\n",
    "        1. find sentiment valence [-1, 1] for each adjective.\n",
    "            - if sentiment valence differs significantly from review score, print out\n",
    "        2. weight by helpful score\n",
    "            * Initial pass (11/27): if helpful ratio > 0.5, add (# helpful) - 0.5 (# unhelpful)\n",
    "                TODO(ryin): improve this.\n",
    "\"\"\"\n",
    "WEIGHT_VOTES_THRESHOLD = 10\n",
    "def weight_score(score, num_helpful, num_unhelpful, threshold=WEIGHT_VOTES_THRESHOLD, ):\n",
    "    \"\"\"\n",
    "    Return 1 if total num votes <= threshold.\n",
    "    \n",
    "    Return sqrt(num_helpful) - sqrt(num_unhelpful)\n",
    "    \n",
    "    Log weighting idea from reddit ranking algorithm:\n",
    "    https://medium.com/hacking-and-gonzo/how-reddit-ranking-algorithms-work-ef111e33d0d9\n",
    "    \"\"\"\n",
    "    # if num_helpful + num_unhelpful <= threshold:\n",
    "    #    return 1\n",
    "    # TODO(ryin): try better heuristics\n",
    "\n",
    "    net = num_helpful - num_unhelpful\n",
    "    order = math.log(max(net, 2), 2)\n",
    "    return order\n",
    "\n",
    "\n",
    "def get_weighted_sentiment(product_feature_adjs):\n",
    "    \"\"\"\n",
    "    Returns weighted sentiment scores for each product feature of the product.\n",
    "    product_feature_adjs: list of (feature, [([adjectives...], [# helpful, # unhelpful], review score)])\n",
    "    \n",
    "    output: [(feature, score in [-1, 1])] sorted in descending score\n",
    "    \"\"\"\n",
    "    wc = Counter()\n",
    "    total_num = total_denom = 0\n",
    "    feature_scores = []\n",
    "    for product_quality, adj_data in feat_adjs:\n",
    "        for adjectives, (num_helpful, num_total), review_score in adj_data:\n",
    "            scores = [sentiment.adjective.get_score(adjective) for adjective in adjectives]\n",
    "            score = statistics.mean(scores)\n",
    "            # TODO: print out weird ones that differ from review score, or have weird varying scores, etc\n",
    "            weight = weight_score(score, num_helpful, num_total - num_helpful)\n",
    "            wc[weight] += 1\n",
    "            total_num += score * weight\n",
    "            total_denom += weight\n",
    "        final_score = float(total_num) / total_denom\n",
    "        feature_scores.append((product_quality, final_score))\n",
    "    print(wc)\n",
    "    return sorted(feature_scores, key=lambda item: item[1], reverse=True)"
   ]
  },
  {
   "cell_type": "code",
   "execution_count": 107,
   "metadata": {
    "collapsed": false
   },
   "outputs": [
    {
     "name": "stdout",
     "output_type": "stream",
     "text": [
      "Counter({1.0: 4084, 2.0: 119, 2.321928094887362: 115, 1.5849625007211563: 106, 3.1699250014423126: 82, 2.584962500721156: 50, 6.375039431346925: 32, 5.491853096329675: 18, 7.912889336229962: 18, 5.321928094887363: 17, 3.8073549220576037: 15, 6.882643049361842: 15, 3.5849625007211565: 14, 3.3219280948873626: 14, 2.807354922057604: 14, 5.169925001442312: 14, 9.643856189774725: 13, 5.129283016944966: 12, 3.700439718141092: 12, 4.906890595608519: 11, 4.247927513443585: 11, 3.0: 10, 5.285402218862249: 5, 5.930737337562887: 5, 5.614709844115208: 4, 4.459431618637297: 3})\n"
     ]
    },
    {
     "ename": "TypeError",
     "evalue": "writerow() takes exactly one argument (2 given)",
     "output_type": "error",
     "traceback": [
      "\u001b[0;31m---------------------------------------------------------------------------\u001b[0m",
      "\u001b[0;31mTypeError\u001b[0m                                 Traceback (most recent call last)",
      "\u001b[0;32m<ipython-input-107-5716a638c8d8>\u001b[0m in \u001b[0;36m<module>\u001b[0;34m()\u001b[0m\n\u001b[1;32m      3\u001b[0m     \u001b[0mwriter\u001b[0m \u001b[0;34m=\u001b[0m \u001b[0mcsv\u001b[0m\u001b[0;34m.\u001b[0m\u001b[0mwriter\u001b[0m\u001b[0;34m(\u001b[0m\u001b[0mf\u001b[0m\u001b[0;34m)\u001b[0m\u001b[0;34m\u001b[0m\u001b[0m\n\u001b[1;32m      4\u001b[0m     \u001b[0;32mfor\u001b[0m \u001b[0mrow\u001b[0m \u001b[0;32min\u001b[0m \u001b[0mweighted_sentiment\u001b[0m\u001b[0;34m:\u001b[0m\u001b[0;34m\u001b[0m\u001b[0m\n\u001b[0;32m----> 5\u001b[0;31m         \u001b[0mwriter\u001b[0m\u001b[0;34m.\u001b[0m\u001b[0mwriterow\u001b[0m\u001b[0;34m(\u001b[0m\u001b[0;34m*\u001b[0m\u001b[0mrow\u001b[0m\u001b[0;34m)\u001b[0m\u001b[0;34m\u001b[0m\u001b[0m\n\u001b[0m",
      "\u001b[0;31mTypeError\u001b[0m: writerow() takes exactly one argument (2 given)"
     ]
    }
   ],
   "source": [
    "weighted_sentiment = get_weighted_sentiment(feat_adjs)\n",
    "with open('sentiment_features_11.27.17_headphones_B0001FTVEK.csv', 'w') as f:\n",
    "    writer = csv.writer(f)\n",
    "    for row in weighted_sentiment:\n",
    "        writer.writerow(*row)\n"
   ]
  },
  {
   "cell_type": "code",
   "execution_count": 48,
   "metadata": {
    "collapsed": false
   },
   "outputs": [
    {
     "ename": "KeyboardInterrupt",
     "evalue": "",
     "output_type": "error",
     "traceback": [
      "\u001b[0;31m---------------------------------------------------------------------------\u001b[0m",
      "\u001b[0;31mKeyboardInterrupt\u001b[0m                         Traceback (most recent call last)",
      "\u001b[0;32m<ipython-input-48-7e06e490c7c9>\u001b[0m in \u001b[0;36m<module>\u001b[0;34m()\u001b[0m\n\u001b[1;32m      2\u001b[0m     \u001b[0mdepparse_output\u001b[0m\u001b[0;34m,\u001b[0m \u001b[0mcorpus\u001b[0m \u001b[0;34m=\u001b[0m \u001b[0mpickle\u001b[0m\u001b[0;34m.\u001b[0m\u001b[0mload\u001b[0m\u001b[0;34m(\u001b[0m\u001b[0mfile\u001b[0m\u001b[0;34m)\u001b[0m\u001b[0;34m\u001b[0m\u001b[0m\n\u001b[1;32m      3\u001b[0m \u001b[0;31m# df_cnt = extract_features(depparse_output, False)\u001b[0m\u001b[0;34m\u001b[0m\u001b[0;34m\u001b[0m\u001b[0m\n\u001b[0;32m----> 4\u001b[0;31m \u001b[0mfeat_adjs\u001b[0m \u001b[0;34m=\u001b[0m \u001b[0mextract_features_with_weight_data\u001b[0m\u001b[0;34m(\u001b[0m\u001b[0mdepparse_output\u001b[0m\u001b[0;34m,\u001b[0m \u001b[0;32mTrue\u001b[0m\u001b[0;34m)\u001b[0m\u001b[0;34m\u001b[0m\u001b[0m\n\u001b[0m\u001b[1;32m      5\u001b[0m \u001b[0;34m\u001b[0m\u001b[0m\n\u001b[1;32m      6\u001b[0m \u001b[0;31m# df_cnt.most_common()\u001b[0m\u001b[0;34m\u001b[0m\u001b[0;34m\u001b[0m\u001b[0m\n",
      "\u001b[0;32m<ipython-input-47-61a9ed2bbcc0>\u001b[0m in \u001b[0;36mextract_features_with_weight_data\u001b[0;34m(depparse_output, reviews_fp, include_adjs)\u001b[0m\n\u001b[1;32m      9\u001b[0m         \u001b[0;32mfor\u001b[0m \u001b[0moutput\u001b[0m \u001b[0;32min\u001b[0m \u001b[0mdepparse_output\u001b[0m\u001b[0;34m:\u001b[0m\u001b[0;34m\u001b[0m\u001b[0m\n\u001b[1;32m     10\u001b[0m             \u001b[0mdeps\u001b[0m \u001b[0;34m=\u001b[0m \u001b[0mparse_corenlp_deps\u001b[0m\u001b[0;34m(\u001b[0m\u001b[0moutput\u001b[0m\u001b[0;34m[\u001b[0m\u001b[0;34m'sentences'\u001b[0m\u001b[0;34m]\u001b[0m\u001b[0;34m)\u001b[0m\u001b[0;34m\u001b[0m\u001b[0m\n\u001b[0;32m---> 11\u001b[0;31m             \u001b[0mreview\u001b[0m \u001b[0;34m=\u001b[0m \u001b[0mnext\u001b[0m\u001b[0;34m(\u001b[0m\u001b[0mcsvreader\u001b[0m\u001b[0;34m)\u001b[0m\u001b[0;34m\u001b[0m\u001b[0m\n\u001b[0m\u001b[1;32m     12\u001b[0m             \u001b[0;32mfor\u001b[0m \u001b[0mphrase\u001b[0m\u001b[0;34m,\u001b[0m \u001b[0madjs\u001b[0m \u001b[0;32min\u001b[0m \u001b[0mdeps\u001b[0m\u001b[0;34m:\u001b[0m\u001b[0;34m\u001b[0m\u001b[0m\n\u001b[1;32m     13\u001b[0m                 \u001b[0;32mif\u001b[0m \u001b[0mlen\u001b[0m\u001b[0;34m(\u001b[0m\u001b[0madjs\u001b[0m\u001b[0;34m)\u001b[0m \u001b[0;34m>\u001b[0m \u001b[0;36m0\u001b[0m\u001b[0;34m:\u001b[0m\u001b[0;34m\u001b[0m\u001b[0m\n",
      "\u001b[0;32m/Library/Frameworks/Python.framework/Versions/3.5/lib/python3.5/csv.py\u001b[0m in \u001b[0;36m__next__\u001b[0;34m(self)\u001b[0m\n\u001b[1;32m    107\u001b[0m         \u001b[0;32mif\u001b[0m \u001b[0mself\u001b[0m\u001b[0;34m.\u001b[0m\u001b[0mline_num\u001b[0m \u001b[0;34m==\u001b[0m \u001b[0;36m0\u001b[0m\u001b[0;34m:\u001b[0m\u001b[0;34m\u001b[0m\u001b[0m\n\u001b[1;32m    108\u001b[0m             \u001b[0;31m# Used only for its side effect.\u001b[0m\u001b[0;34m\u001b[0m\u001b[0;34m\u001b[0m\u001b[0m\n\u001b[0;32m--> 109\u001b[0;31m             \u001b[0mself\u001b[0m\u001b[0;34m.\u001b[0m\u001b[0mfieldnames\u001b[0m\u001b[0;34m\u001b[0m\u001b[0m\n\u001b[0m\u001b[1;32m    110\u001b[0m         \u001b[0mrow\u001b[0m \u001b[0;34m=\u001b[0m \u001b[0mnext\u001b[0m\u001b[0;34m(\u001b[0m\u001b[0mself\u001b[0m\u001b[0;34m.\u001b[0m\u001b[0mreader\u001b[0m\u001b[0;34m)\u001b[0m\u001b[0;34m\u001b[0m\u001b[0m\n\u001b[1;32m    111\u001b[0m         \u001b[0mself\u001b[0m\u001b[0;34m.\u001b[0m\u001b[0mline_num\u001b[0m \u001b[0;34m=\u001b[0m \u001b[0mself\u001b[0m\u001b[0;34m.\u001b[0m\u001b[0mreader\u001b[0m\u001b[0;34m.\u001b[0m\u001b[0mline_num\u001b[0m\u001b[0;34m\u001b[0m\u001b[0m\n",
      "\u001b[0;32m/Library/Frameworks/Python.framework/Versions/3.5/lib/python3.5/csv.py\u001b[0m in \u001b[0;36mfieldnames\u001b[0;34m(self)\u001b[0m\n\u001b[1;32m     94\u001b[0m         \u001b[0;32mif\u001b[0m \u001b[0mself\u001b[0m\u001b[0;34m.\u001b[0m\u001b[0m_fieldnames\u001b[0m \u001b[0;32mis\u001b[0m \u001b[0;32mNone\u001b[0m\u001b[0;34m:\u001b[0m\u001b[0;34m\u001b[0m\u001b[0m\n\u001b[1;32m     95\u001b[0m             \u001b[0;32mtry\u001b[0m\u001b[0;34m:\u001b[0m\u001b[0;34m\u001b[0m\u001b[0m\n\u001b[0;32m---> 96\u001b[0;31m                 \u001b[0mself\u001b[0m\u001b[0;34m.\u001b[0m\u001b[0m_fieldnames\u001b[0m \u001b[0;34m=\u001b[0m \u001b[0mnext\u001b[0m\u001b[0;34m(\u001b[0m\u001b[0mself\u001b[0m\u001b[0;34m.\u001b[0m\u001b[0mreader\u001b[0m\u001b[0;34m)\u001b[0m\u001b[0;34m\u001b[0m\u001b[0m\n\u001b[0m\u001b[1;32m     97\u001b[0m             \u001b[0;32mexcept\u001b[0m \u001b[0mStopIteration\u001b[0m\u001b[0;34m:\u001b[0m\u001b[0;34m\u001b[0m\u001b[0m\n\u001b[1;32m     98\u001b[0m                 \u001b[0;32mpass\u001b[0m\u001b[0;34m\u001b[0m\u001b[0m\n",
      "\u001b[0;31mKeyboardInterrupt\u001b[0m: "
     ]
    }
   ],
   "source": [
    "with open(OUTPUT_FP, 'rb') as file:\n",
    "    depparse_output, corpus = pickle.load(file)\n",
    "df_cnt = extract_features(depparse_output, False)\n",
    "feat_adjs = extract_features_with_weight_data(depparse_output, True)\n",
    "\n",
    "df_cnt.most_common()\n",
    "for feat, adjs in feat_adjs[:10]:\n",
    "    print(feat)\n",
    "    print(adjs)"
   ]
  },
  {
   "cell_type": "code",
   "execution_count": 30,
   "metadata": {
    "collapsed": false
   },
   "outputs": [
    {
     "data": {
      "text/plain": [
       "[{'basicDependencies': [{'dep': 'ROOT',\n",
       "    'dependent': 1,\n",
       "    'dependentGloss': 'asin',\n",
       "    'governor': 0,\n",
       "    'governorGloss': 'ROOT'}],\n",
       "  'enhancedDependencies': [{'dep': 'ROOT',\n",
       "    'dependent': 1,\n",
       "    'dependentGloss': 'asin',\n",
       "    'governor': 0,\n",
       "    'governorGloss': 'ROOT'}],\n",
       "  'enhancedPlusPlusDependencies': [{'dep': 'ROOT',\n",
       "    'dependent': 1,\n",
       "    'dependentGloss': 'asin',\n",
       "    'governor': 0,\n",
       "    'governorGloss': 'ROOT'}],\n",
       "  'index': 0,\n",
       "  'tokens': [{'after': '',\n",
       "    'before': '',\n",
       "    'characterOffsetBegin': 0,\n",
       "    'characterOffsetEnd': 4,\n",
       "    'index': 1,\n",
       "    'originalText': 'asin',\n",
       "    'pos': 'NN',\n",
       "    'word': 'asin'}]}]"
      ]
     },
     "execution_count": 30,
     "metadata": {},
     "output_type": "execute_result"
    }
   ],
   "source": [
    "depparse_output[0]['sentences']"
   ]
  },
  {
   "cell_type": "code",
   "execution_count": null,
   "metadata": {
    "collapsed": true
   },
   "outputs": [],
   "source": []
  },
  {
   "cell_type": "code",
   "execution_count": 13,
   "metadata": {
    "collapsed": false
   },
   "outputs": [
    {
     "name": "stdout",
     "output_type": "stream",
     "text": [
      "new\n",
      "first\n",
      "cheap\n",
      "comfortable\n",
      "first\n",
      "extra\n",
      "previous\n",
      "first\n",
      "second\n",
      "more\n",
      "$\n",
      "FOURTH\n",
      "nice\n",
      "first\n",
      "oblong\n",
      "inexpensive\n",
      "different\n",
      "former\n",
      "expensive\n",
      "last\n",
      "original\n",
      "bad\n",
      "inexpensive\n",
      "decent\n",
      "$\n",
      "better\n",
      "new\n",
      "second\n",
      "first\n",
      "GOOD\n",
      "cheap\n",
      "third\n",
      "broken\n",
      "second\n",
      "second\n",
      "better\n",
      "longer-lived\n",
      "better\n",
      "Great\n",
      "last\n",
      "old\n",
      "new\n",
      "3rd\n",
      "cheap\n",
      "expensive\n",
      "previous\n",
      "extra\n",
      "first\n",
      "second\n",
      "first\n",
      "second\n",
      "second\n",
      "several\n",
      "extra\n",
      "new\n",
      "different\n",
      "absolute\n",
      "good\n",
      "third\n",
      "blue\n",
      "pink\n",
      "cheap\n",
      "new\n",
      "cheap\n",
      "second\n",
      "good\n",
      "awful\n",
      "second\n",
      "same\n",
      "exact\n",
      "free\n",
      "suspect\n",
      "cheap\n",
      "First\n",
      "defective\n",
      "higher\n",
      "nice\n",
      "dollar\n",
      "extra\n",
      "latest\n",
      "first\n",
      "comfortable\n",
      "second\n",
      "first\n",
      "second\n",
      "second\n",
      "several\n",
      "first\n",
      "newer\n",
      "everyday\n",
      "other\n",
      "last\n",
      "first\n",
      "second\n",
      "3rd\n",
      "other\n",
      "new\n",
      "yellow\n",
      "expensive\n",
      "3rd\n",
      "free\n",
      "of\n",
      "last\n",
      "new\n",
      "new\n",
      "second\n",
      "spare\n",
      "first\n",
      "simple\n",
      "knock-around\n",
      "decent\n",
      "second\n",
      "incase\n",
      "expensive\n",
      "back-up\n",
      "more\n",
      "new\n",
      "new\n",
      "low-cost\n",
      "comfortable\n",
      "second\n",
      "2nd\n",
      "first\n",
      "dreaded\n",
      "first\n",
      "new\n",
      "extra\n",
      "new\n",
      "$\n",
      "$\n",
      "good\n",
      "second\n",
      "great\n",
      "different\n",
      "extra\n",
      "second\n",
      "second\n",
      "great\n",
      "Good\n",
      "second\n",
      "second\n",
      "comfortable\n",
      "inexpensive\n",
      "decent\n",
      "other\n",
      "first\n",
      "nice\n",
      "ok\n",
      "better\n",
      "first\n",
      "new\n",
      "other\n",
      "previous\n",
      "hi-fi\n",
      "other\n",
      "new\n",
      "previous\n",
      "other\n",
      "good\n",
      "second\n",
      "bad\n",
      "snazzling\n",
      "defective\n",
      "true\n",
      "$\n",
      "higher\n"
     ]
    }
   ],
   "source": [
    "for i, output in enumerate(depparse_output):\n",
    "    for sentence in output['sentences']:\n",
    "        dep_list = sentence['basicDependencies']\n",
    "        for dep in dep_list:\n",
    "            if dep['dep'] == 'amod':\n",
    "                noun = dep['governorGloss']\n",
    "                if noun == 'pair':\n",
    "                    print(dep['dependentGloss'])\n",
    "                    #print(corpus[i])"
   ]
  },
  {
   "cell_type": "code",
   "execution_count": null,
   "metadata": {
    "collapsed": true
   },
   "outputs": [],
   "source": []
  }
 ],
 "metadata": {
  "kernelspec": {
   "display_name": "Python 3",
   "language": "python",
   "name": "python3"
  },
  "language_info": {
   "codemirror_mode": {
    "name": "ipython",
    "version": 3
   },
   "file_extension": ".py",
   "mimetype": "text/x-python",
   "name": "python",
   "nbconvert_exporter": "python",
   "pygments_lexer": "ipython3",
   "version": "3.5.2"
  }
 },
 "nbformat": 4,
 "nbformat_minor": 2
}
