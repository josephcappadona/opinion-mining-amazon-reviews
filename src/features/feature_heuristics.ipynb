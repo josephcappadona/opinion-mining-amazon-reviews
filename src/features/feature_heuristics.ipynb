{
 "cells": [
  {
   "cell_type": "code",
   "execution_count": 776,
   "metadata": {},
   "outputs": [],
   "source": [
    "import pickle\n",
    "import pprint\n",
    "\n",
    "#product_dict: asin -> list(phrase, [adjs]), count\n",
    "pp = pprint.PrettyPrinter(width=110, compact=True)\n",
    "with open(\"./results/features.pickle\", \"rb\") as file:\n",
    "    product_dict = pickle.load(file)\n",
    "\n",
    "#sorted_products = sorted(product_dict.items(), key=(lambda x: x[1][1]), reverse=True)\n",
    "#pp.pprint(sorted_products[:20])"
   ]
  },
  {
   "cell_type": "code",
   "execution_count": 777,
   "metadata": {},
   "outputs": [],
   "source": [
    "# Cleaning/preprocessing: remove negation\n",
    "\n",
    "for feature_modifier_list, _ in product_dict.values():\n",
    "    for feature, modifiers in feature_modifier_list:\n",
    "        for i, mod in enumerate(modifiers):\n",
    "            if mod[0] == \"*\": # remove negation\n",
    "                modifiers[i] = mod[1:]"
   ]
  },
  {
   "cell_type": "code",
   "execution_count": 778,
   "metadata": {},
   "outputs": [
    {
     "name": "stdout",
     "output_type": "stream",
     "text": [
      "Total products: 1011\n"
     ]
    }
   ],
   "source": [
    "# Finds the most mentioned features across all *products*\n",
    "from collections import Counter\n",
    "\n",
    "def get_frequent_features_products():\n",
    "    feature_counts = Counter()\n",
    "    for feature_modifier_list, _ in product_dict.values():\n",
    "        for feature, _ in feature_modifier_list:\n",
    "            feature_counts[feature] += 1\n",
    "    return feature_counts\n",
    "\n",
    "print(\"Total products: {0}\".format(len(product_dict)))\n",
    "#pp.pprint(get_frequent_features_products())"
   ]
  },
  {
   "cell_type": "code",
   "execution_count": 779,
   "metadata": {},
   "outputs": [],
   "source": [
    "# Finds most mentioned features across all *reviews*\n",
    "\n",
    "def get_frequent_features_reviews():\n",
    "    feature_counts = Counter()\n",
    "    for feature_modifier_list, _ in product_dict.values():\n",
    "        for feature, modifiers in feature_modifier_list:\n",
    "            feature_counts[feature] += len(modifiers)\n",
    "    return feature_counts\n",
    "        \n",
    "#pp.pprint(get_frequent_features_reviews())"
   ]
  },
  {
   "cell_type": "code",
   "execution_count": 780,
   "metadata": {},
   "outputs": [
    {
     "name": "stdout",
     "output_type": "stream",
     "text": [
      "Total modifiers: 6202\n"
     ]
    }
   ],
   "source": [
    "# Finds most mentioned adjectives across all reviews\n",
    "def get_frequent_adjs():\n",
    "    modifier_counts = Counter()\n",
    "    for feature_modifier_list, _ in product_dict.values():\n",
    "        for _, modifiers in feature_modifier_list:\n",
    "            for mod in modifiers:\n",
    "                modifier_counts[mod] += 1\n",
    "    return modifier_counts\n",
    "\n",
    "modifier_counts = get_frequent_adjs()\n",
    "print(\"Total modifiers: {}\".format(len(modifier_counts)))\n",
    "#pp.pprint(modifier_counts)"
   ]
  },
  {
   "cell_type": "code",
   "execution_count": 781,
   "metadata": {},
   "outputs": [],
   "source": [
    "# Returns a counter of all distinct modifiers used to describe this feature across all reviews\n",
    "def get_all_modifiers(feature):\n",
    "    all_modifiers = Counter()\n",
    "    for feature_modifier_list, _ in product_dict.values():\n",
    "        for curr_feature, modifiers in feature_modifier_list:\n",
    "            if curr_feature == feature:\n",
    "                for modifier in modifiers:\n",
    "                    all_modifiers[modifier] += 1\n",
    "    return all_modifiers\n",
    "\n",
    "#pp.pprint(get_all_modifiers(\"lens\"))"
   ]
  },
  {
   "cell_type": "code",
   "execution_count": 782,
   "metadata": {},
   "outputs": [],
   "source": [
    "def get_adjs_above_threshold(counter, threshold):\n",
    "    total_count = sum(counter.values())\n",
    "    curr_count = 0\n",
    "    adjs = set()\n",
    "    for adj, count in counter.most_common():\n",
    "        curr_count += count\n",
    "        adjs.add(adj)\n",
    "        if curr_count * 1.0 / total_count >= threshold:\n",
    "            break\n",
    "    return adjs"
   ]
  },
  {
   "cell_type": "code",
   "execution_count": 783,
   "metadata": {},
   "outputs": [],
   "source": [
    "import nltk\n",
    "from nltk.corpus import sentiwordnet as swn\n",
    "\n",
    "# Returns 1 minus obj score or max of abs of all pos/neg scores. All 0's if no synsets.\n",
    "def get_adj_subjectivity(adj):\n",
    "    ss_count = 0\n",
    "    total_obj = 0\n",
    "    for ss in wn.synsets(adj):\n",
    "        if ss.pos() == \"a\" or ss.pos() == \"s\":\n",
    "            ss_count += 1\n",
    "            bd = swn.senti_synset(ss.name())\n",
    "            total_obj += bd.obj_score()\n",
    "            #print(ss.name(), ss.definition())\n",
    "    if ss_count == 0:\n",
    "        avg_obj = 2 # Make result be -1 if lookup fails\n",
    "    else:\n",
    "        avg_obj = round(total_obj * 1.0 / ss_count, 3)\n",
    "    #print(\"{3} / subj: {2}\".format(avg_scores[0], avg_scores[1], 1-avg_scores[2], adj))\n",
    "    return 1-avg_obj\n",
    "\n",
    "#get_adj_subjectivity(\"different\")"
   ]
  },
  {
   "cell_type": "code",
   "execution_count": 784,
   "metadata": {},
   "outputs": [],
   "source": [
    "# Determine whether feature is valid or not by analyzing adjs\n",
    "def analyze_feature_subjectivity(feature):\n",
    "    counter = get_all_modifiers(feature)\n",
    "    top_adjs = get_adjs_above_threshold(counter, 0.5)\n",
    "    for adj in top_adjs:\n",
    "        get_adj_subjectivity(adj)"
   ]
  },
  {
   "cell_type": "code",
   "execution_count": 785,
   "metadata": {},
   "outputs": [
    {
     "name": "stdout",
     "output_type": "stream",
     "text": [
      "# adjectives in lowest bucket: 4593\n"
     ]
    }
   ],
   "source": [
    "'''\n",
    "Determine set of non-sentiment bearing adjectives\n",
    "From plugging in diff intervals, 0.2 seems like a good number\n",
    "(better to be conservative and manually add to blacklist)\n",
    "'''\n",
    "import math\n",
    "\n",
    "def bucket_adjs_by_objectivity(interval, num_adjs):\n",
    "    buckets = []\n",
    "    num_intervals = round(1.0 / interval)\n",
    "    for _ in range(num_intervals):\n",
    "        buckets.append(set())\n",
    "    for adj, _ in modifier_counts.most_common(num_adjs):\n",
    "        subj_score = get_adj_subjectivity(adj)\n",
    "        if subj_score < 0:\n",
    "            bucket_num = 0\n",
    "        elif subj_score == 1:\n",
    "            bucket_num = -1\n",
    "        else:\n",
    "            bucket_num = math.floor(subj_score / interval)\n",
    "        buckets[bucket_num].add(adj)\n",
    "    return buckets\n",
    "\n",
    "buckets = bucket_adjs_by_objectivity(0.2, len(modifier_counts)) # do len(modifier_counts) for all adjs\n",
    "adj_filter = set(buckets[0])\n",
    "print(\"# adjectives in lowest bucket: {}\".format(len(buckets[0])))\n",
    "#pp.pprint(buckets)"
   ]
  },
  {
   "cell_type": "code",
   "execution_count": 786,
   "metadata": {},
   "outputs": [],
   "source": [
    "# Manually add some adjectives to filter, went through top 100 adjs using this function\n",
    "\n",
    "def get_associated_features(adj):\n",
    "    feature_counter = Counter()\n",
    "    for feature_modifier_list, _ in product_dict.values():\n",
    "        for feature, modifiers in feature_modifier_list:\n",
    "            for mod in modifiers:\n",
    "                if mod == adj:\n",
    "                    feature_counter[feature] += 1\n",
    "    return feature_counter\n",
    "\n",
    "adj_filter.update([\"main\", \"manual\", \"new\", \"original\", \"right\", \"last\", \"different\", \"other\", \"sound\", \"usb\"])"
   ]
  },
  {
   "cell_type": "code",
   "execution_count": 787,
   "metadata": {},
   "outputs": [
    {
     "name": "stdout",
     "output_type": "stream",
     "text": [
      "# adjs in filter: 4602\n"
     ]
    }
   ],
   "source": [
    "# Remove adjs in filter\n",
    "\n",
    "print(\"# adjs in filter: {}\".format(len(adj_filter)))\n",
    "\n",
    "for asin, (feature_modifier_list, count) in product_dict.items():\n",
    "    new_list = []\n",
    "    for i, (feature, modifiers) in enumerate(feature_modifier_list):\n",
    "        filtered_modifiers = [x for x in modifiers if x not in adj_filter]\n",
    "        if len(filtered_modifiers) > 0:\n",
    "            new_list.append((feature, filtered_modifiers))\n",
    "        product_dict[asin] = new_list, count\n",
    "\n",
    "#pp.pprint(get_frequent_features_reviews())"
   ]
  },
  {
   "cell_type": "code",
   "execution_count": 788,
   "metadata": {},
   "outputs": [],
   "source": [
    "# Hand-pick noun filter (looked at all with over 50 adjs)\n",
    "# TODO: take into account compound noun phrases\n",
    "\n",
    "#pp.pprint(get_all_modifiers(\"lot\"))\n",
    "noun_filter = {\"product\", \"thing\", \"unit\", \"deal\", \"way\", \"size\", \"job\", \"use\", \"buy\", \"problem\", \"choice\",\n",
    "               \"something\", \"amount\", \"side\", \"end\", \"nothing\", \"review\", \"version\", \"idea\", \"solution\", \"difference\",\n",
    "               \"anything\", \"addition\", \"music\", \"work\", \"head\", \"reason\", \"day\", \"room\", \"stuff\", \"point\", \"line\",\n",
    "               \"everything\", \"year\", \"luck\", \"issue\", \"option\", \"place\", \"user\", \"complaint\", \"touch\", \"one\",\n",
    "               \"number\", \"experience\", \"card\", \"company\", \"effect\", \"bit\", \"money\", \"view\", \"look\", \"hand\", \"time\"}\n",
    "noun_filter.update([\"device\", \"pair\", \"set\", \"piece\", \"item\", \"player\", \"purchase\", \"headset\", \"earbuds\",\n",
    "                    \"headphones\", \"computer\", \"router\", \"system\", \"machine\", \"tool\", \"model\", \"radio\"])"
   ]
  },
  {
   "cell_type": "code",
   "execution_count": 789,
   "metadata": {},
   "outputs": [],
   "source": [
    "# Apply noun filter\n",
    "for asin, (feature_modifier_list, count) in product_dict.items():\n",
    "    product_dict[asin] = [(feat, adjs) for (feat, adjs) in feature_modifier_list if feat not in noun_filter], count\n",
    "    \n",
    "#pp.pprint(get_frequent_features_reviews())"
   ]
  },
  {
   "cell_type": "code",
   "execution_count": 790,
   "metadata": {},
   "outputs": [],
   "source": [
    "# Final cleanup: sort and remove features below a certain threshold\n",
    "\n",
    "threshold = 0.02\n",
    "for asin, (feat_mod_list, count) in product_dict.items():\n",
    "    feat_mod_list = [(feat, adjs) for (feat, adjs) in feat_mod_list if len(adjs) * 1.0 / count >= threshold]\n",
    "    product_dict[asin] = sorted(feat_mod_list, key=lambda tup: len(tup[1]), reverse=True), count"
   ]
  },
  {
   "cell_type": "code",
   "execution_count": 791,
   "metadata": {},
   "outputs": [],
   "source": [
    "with open(\"./results/improved_features.pickle\", \"wb\") as file:\n",
    "    pickle.dump(product_dict, file, 0)"
   ]
  },
  {
   "cell_type": "code",
   "execution_count": null,
   "metadata": {},
   "outputs": [],
   "source": []
  }
 ],
 "metadata": {
  "kernelspec": {
   "display_name": "Python 3",
   "language": "python",
   "name": "python3"
  },
  "language_info": {
   "codemirror_mode": {
    "name": "ipython",
    "version": 3
   },
   "file_extension": ".py",
   "mimetype": "text/x-python",
   "name": "python",
   "nbconvert_exporter": "python",
   "pygments_lexer": "ipython3",
   "version": "3.6.3"
  }
 },
 "nbformat": 4,
 "nbformat_minor": 2
}
