{
 "cells": [
  {
   "cell_type": "code",
   "execution_count": 46,
   "metadata": {},
   "outputs": [
    {
     "data": {
      "text/plain": [
       "{'battery life': 2, 'picture quality': 1, 'size': 1}"
      ]
     },
     "execution_count": 46,
     "metadata": {},
     "output_type": "execute_result"
    }
   ],
   "source": [
    "from sklearn.feature_extraction.text import CountVectorizer\n",
    "import numpy as np\n",
    "\n",
    "dummy_vocab = ['battery life', 'picture quality', 'size']\n",
    "vectorizer = CountVectorizer(ngram_range=(1,2), token_pattern=r'\\b\\w+\\b', vocabulary=dummy_vocab)\n",
    "dummy_corpus = ['The battery life sucks.',\n",
    "                'The picture quality is great, but poor battery life.',\n",
    "                'Loved this product, but the size was too large.']\n",
    "X = vectorizer.fit_transform(dummy_corpus)\n",
    "df = X.power(0).sum(0).A1 #Calculates df of each feature\n",
    "df_dict = dict(zip(dummy_vocab, df))\n",
    "df_dict"
   ]
  }
 ],
 "metadata": {
  "kernelspec": {
   "display_name": "Python 3",
   "language": "python",
   "name": "python3"
  },
  "language_info": {
   "codemirror_mode": {
    "name": "ipython",
    "version": 3
   },
   "file_extension": ".py",
   "mimetype": "text/x-python",
   "name": "python",
   "nbconvert_exporter": "python",
   "pygments_lexer": "ipython3",
   "version": "3.6.3"
  }
 },
 "nbformat": 4,
 "nbformat_minor": 2
}
