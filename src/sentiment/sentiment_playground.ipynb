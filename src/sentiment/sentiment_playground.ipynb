{
 "cells": [
  {
   "cell_type": "code",
   "execution_count": 4,
   "metadata": {
    "collapsed": false
   },
   "outputs": [],
   "source": [
    "from pycorenlp import StanfordCoreNLP\n",
    "nlp = StanfordCoreNLP('http://localhost:9000')\n",
    "# for CoreNLP wrapper API, see https://github.com/brendano/stanford_corenlp_pywrapper"
   ]
  },
  {
   "cell_type": "code",
   "execution_count": 7,
   "metadata": {
    "collapsed": false
   },
   "outputs": [
    {
     "data": {
      "text/plain": [
       "{u'sentences': [{u'basicDependencies': [{u'dep': u'ROOT',\n",
       "     u'dependent': 1,\n",
       "     u'dependentGloss': u'excited',\n",
       "     u'governor': 0,\n",
       "     u'governorGloss': u'ROOT'}],\n",
       "   u'enhancedDependencies': [{u'dep': u'ROOT',\n",
       "     u'dependent': 1,\n",
       "     u'dependentGloss': u'excited',\n",
       "     u'governor': 0,\n",
       "     u'governorGloss': u'ROOT'}],\n",
       "   u'enhancedPlusPlusDependencies': [{u'dep': u'ROOT',\n",
       "     u'dependent': 1,\n",
       "     u'dependentGloss': u'excited',\n",
       "     u'governor': 0,\n",
       "     u'governorGloss': u'ROOT'}],\n",
       "   u'index': 0,\n",
       "   u'parse': u'(ROOT\\n  (S\\n    (VP (VBN excited))))',\n",
       "   u'sentiment': u'Positive',\n",
       "   u'sentimentValue': u'3',\n",
       "   u'tokens': [{u'after': u'',\n",
       "     u'before': u'',\n",
       "     u'characterOffsetBegin': 0,\n",
       "     u'characterOffsetEnd': 7,\n",
       "     u'index': 1,\n",
       "     u'originalText': u'excited',\n",
       "     u'pos': u'VBN',\n",
       "     u'word': u'excited'}]}]}"
      ]
     },
     "execution_count": 7,
     "metadata": {},
     "output_type": "execute_result"
    }
   ],
   "source": [
    "text = 'excited'\n",
    "import json\n",
    "json.loads(nlp.annotate(text, properties={\n",
    "    'annotators': 'sentiment'\n",
    "}))"
   ]
  },
  {
   "cell_type": "code",
   "execution_count": 14,
   "metadata": {
    "collapsed": false
   },
   "outputs": [
    {
     "ename": "ImportError",
     "evalue": "No module named vaderSentiment",
     "output_type": "error",
     "traceback": [
      "\u001b[0;31m---------------------------------------------------------------------------\u001b[0m",
      "\u001b[0;31mImportError\u001b[0m                               Traceback (most recent call last)",
      "\u001b[0;32m<ipython-input-14-2fc2c1efb5fd>\u001b[0m in \u001b[0;36m<module>\u001b[0;34m()\u001b[0m\n\u001b[0;32m----> 1\u001b[0;31m \u001b[0;32mfrom\u001b[0m \u001b[0mvaderSentiment\u001b[0m \u001b[0;32mimport\u001b[0m \u001b[0mSentimentIntensityAnalyzer\u001b[0m\u001b[0;34m\u001b[0m\u001b[0m\n\u001b[0m\u001b[1;32m      2\u001b[0m \u001b[0msid\u001b[0m \u001b[0;34m=\u001b[0m \u001b[0mSentimentIntensityAnalyzer\u001b[0m\u001b[0;34m(\u001b[0m\u001b[0;34m)\u001b[0m\u001b[0;34m\u001b[0m\u001b[0m\n",
      "\u001b[0;31mImportError\u001b[0m: No module named vaderSentiment"
     ]
    }
   ],
   "source": [
    "from vaderSentiment import SentimentIntensityAnalyzer\n",
    "sid = SentimentIntensityAnalyzer()"
   ]
  },
  {
   "cell_type": "code",
   "execution_count": 9,
   "metadata": {
    "collapsed": true
   },
   "outputs": [],
   "source": [
    "import nltk.\n"
   ]
  },
  {
   "cell_type": "code",
   "execution_count": 13,
   "metadata": {
    "collapsed": false
   },
   "outputs": [
    {
     "ename": "ImportError",
     "evalue": "cannot import name sentiment",
     "output_type": "error",
     "traceback": [
      "\u001b[0;31m---------------------------------------------------------------------------\u001b[0m",
      "\u001b[0;31mImportError\u001b[0m                               Traceback (most recent call last)",
      "\u001b[0;32m<ipython-input-13-b3c5a37892e3>\u001b[0m in \u001b[0;36m<module>\u001b[0;34m()\u001b[0m\n\u001b[0;32m----> 1\u001b[0;31m \u001b[0;32mfrom\u001b[0m \u001b[0mnltk\u001b[0m \u001b[0;32mimport\u001b[0m \u001b[0msentiment\u001b[0m\u001b[0;34m\u001b[0m\u001b[0m\n\u001b[0m",
      "\u001b[0;31mImportError\u001b[0m: cannot import name sentiment"
     ]
    }
   ],
   "source": [
    "from nltk import sentiment"
   ]
  },
  {
   "cell_type": "code",
   "execution_count": null,
   "metadata": {
    "collapsed": true
   },
   "outputs": [],
   "source": []
  }
 ],
 "metadata": {
  "kernelspec": {
   "display_name": "Python 2",
   "language": "python",
   "name": "python2"
  },
  "language_info": {
   "codemirror_mode": {
    "name": "ipython",
    "version": 2
   },
   "file_extension": ".py",
   "mimetype": "text/x-python",
   "name": "python",
   "nbconvert_exporter": "python",
   "pygments_lexer": "ipython2",
   "version": "2.7.10"
  }
 },
 "nbformat": 4,
 "nbformat_minor": 0
}
