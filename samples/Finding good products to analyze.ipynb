{
 "cells": [
  {
   "cell_type": "code",
   "execution_count": 16,
   "metadata": {
    "collapsed": false
   },
   "outputs": [
    {
     "name": "stdout",
     "output_type": "stream",
     "text": [
      ".\n"
     ]
    }
   ],
   "source": [
    "FILEPATH = '../../reviews_Electronics_5.json'\n",
    "from collections import defaultdict\n",
    "import json\n",
    "import itertools\n",
    "import numpy\n",
    "import os\n",
    "\n",
    "reviews_of_asin = defaultdict(list)\n",
    "print(os.curdir)"
   ]
  },
  {
   "cell_type": "code",
   "execution_count": null,
   "metadata": {
    "collapsed": true
   },
   "outputs": [],
   "source": []
  },
  {
   "cell_type": "code",
   "execution_count": null,
   "metadata": {
    "collapsed": false
   },
   "outputs": [],
   "source": []
  },
  {
   "cell_type": "code",
   "execution_count": 17,
   "metadata": {
    "collapsed": false
   },
   "outputs": [],
   "source": [
    "\n",
    "with open(FILEPATH) as f:\n",
    "    first_30 = itertools.islice(f, 30)\n",
    "    first_30_lst = list(first_30)"
   ]
  },
  {
   "cell_type": "code",
   "execution_count": 18,
   "metadata": {
    "collapsed": false
   },
   "outputs": [
    {
     "data": {
      "text/plain": [
       "{'asin': '0528881469',\n",
       " 'helpful': [0, 0],\n",
       " 'overall': 5.0,\n",
       " 'reviewText': 'We got this GPS for my husband who is an (OTR) over the road trucker.  Very Impressed with the shipping time, it arrived a few days earlier than expected...  within a week of use however it started freezing up... could of just been a glitch in that unit.  Worked great when it worked!  Will work great for the normal person as well but does have the \"trucker\" option. (the big truck routes - tells you when a scale is coming up ect...)  Love the bigger screen, the ease of use, the ease of putting addresses into memory.  Nothing really bad to say about the unit with the exception of it freezing which is probably one in a million and that\\'s just my luck.  I contacted the seller and within minutes of my email I received a email back with instructions for an exchange! VERY impressed all the way around!',\n",
       " 'reviewTime': '06 2, 2013',\n",
       " 'reviewerID': 'AO94DHGC771SJ',\n",
       " 'reviewerName': 'amazdnu',\n",
       " 'summary': 'Gotta have GPS!',\n",
       " 'unixReviewTime': 1370131200}"
      ]
     },
     "execution_count": 18,
     "metadata": {},
     "output_type": "execute_result"
    }
   ],
   "source": [
    "json.loads(first_30_lst[0])"
   ]
  },
  {
   "cell_type": "code",
   "execution_count": 19,
   "metadata": {
    "collapsed": true
   },
   "outputs": [],
   "source": [
    "keys = list(json.loads(first_30_lst[0]).keys())"
   ]
  },
  {
   "cell_type": "code",
   "execution_count": 20,
   "metadata": {
    "collapsed": true
   },
   "outputs": [],
   "source": [
    "f = open(FILEPATH)"
   ]
  },
  {
   "cell_type": "code",
   "execution_count": 23,
   "metadata": {
    "collapsed": false
   },
   "outputs": [
    {
     "name": "stdout",
     "output_type": "stream",
     "text": [
      "0\n",
      "1000\n",
      "2000\n",
      "3000\n",
      "4000\n",
      "5000\n",
      "6000\n",
      "7000\n",
      "8000\n",
      "9000\n",
      "10000\n",
      "11000\n",
      "12000\n",
      "13000\n",
      "14000\n",
      "15000\n",
      "16000\n",
      "17000\n",
      "18000\n",
      "19000\n",
      "20000\n",
      "21000\n",
      "22000\n",
      "23000\n",
      "24000\n",
      "25000\n",
      "26000\n",
      "27000\n",
      "28000\n",
      "29000\n",
      "30000\n",
      "31000\n",
      "32000\n",
      "33000\n",
      "34000\n",
      "35000\n",
      "36000\n",
      "37000\n",
      "38000\n",
      "39000\n",
      "40000\n",
      "41000\n",
      "42000\n",
      "43000\n",
      "44000\n",
      "45000\n",
      "46000\n",
      "47000\n",
      "48000\n",
      "49000\n",
      "50000\n",
      "51000\n",
      "52000\n",
      "53000\n",
      "54000\n",
      "55000\n",
      "56000\n",
      "57000\n",
      "58000\n",
      "59000\n",
      "60000\n",
      "61000\n",
      "62000\n",
      "63000\n",
      "64000\n",
      "65000\n",
      "66000\n",
      "67000\n",
      "68000\n",
      "69000\n",
      "70000\n",
      "71000\n",
      "72000\n",
      "73000\n",
      "74000\n",
      "75000\n",
      "76000\n",
      "77000\n",
      "78000\n",
      "79000\n",
      "80000\n",
      "81000\n",
      "82000\n",
      "83000\n",
      "84000\n",
      "85000\n",
      "86000\n",
      "87000\n",
      "88000\n",
      "89000\n",
      "90000\n",
      "91000\n",
      "92000\n",
      "93000\n",
      "94000\n",
      "95000\n",
      "96000\n",
      "97000\n",
      "98000\n",
      "99000\n",
      "100000\n",
      "101000\n",
      "102000\n",
      "103000\n",
      "104000\n",
      "105000\n",
      "106000\n",
      "107000\n",
      "108000\n",
      "109000\n",
      "110000\n",
      "111000\n",
      "112000\n",
      "113000\n",
      "114000\n",
      "115000\n",
      "116000\n",
      "117000\n",
      "118000\n",
      "119000\n",
      "120000\n",
      "121000\n",
      "122000\n",
      "123000\n",
      "124000\n",
      "125000\n",
      "126000\n",
      "127000\n",
      "128000\n",
      "129000\n",
      "130000\n",
      "131000\n",
      "132000\n",
      "133000\n",
      "134000\n",
      "135000\n",
      "136000\n",
      "137000\n",
      "138000\n",
      "139000\n",
      "140000\n",
      "141000\n",
      "142000\n",
      "143000\n",
      "144000\n",
      "145000\n",
      "146000\n",
      "147000\n",
      "148000\n",
      "149000\n",
      "150000\n",
      "151000\n",
      "152000\n",
      "153000\n",
      "154000\n",
      "155000\n",
      "156000\n",
      "157000\n",
      "158000\n",
      "159000\n",
      "160000\n",
      "161000\n",
      "162000\n",
      "163000\n",
      "164000\n",
      "165000\n",
      "166000\n",
      "167000\n",
      "168000\n",
      "169000\n",
      "170000\n",
      "171000\n",
      "172000\n",
      "173000\n",
      "174000\n",
      "175000\n",
      "176000\n",
      "177000\n",
      "178000\n",
      "179000\n",
      "180000\n",
      "181000\n",
      "182000\n",
      "183000\n",
      "184000\n",
      "185000\n",
      "186000\n",
      "187000\n",
      "188000\n",
      "189000\n",
      "190000\n",
      "191000\n",
      "192000\n",
      "193000\n",
      "194000\n",
      "195000\n",
      "196000\n",
      "197000\n",
      "198000\n",
      "199000\n",
      "200000\n"
     ]
    }
   ],
   "source": [
    "\n",
    "# for line in first_30_lst:\n",
    "count = 0\n",
    "for line in f:\n",
    "    if count % 1000 == 0:\n",
    "        print(count)\n",
    "    count += 1\n",
    "    if count > 200000:\n",
    "        break\n",
    "\n",
    "    review_json = json.loads(line)\n",
    "    reviews_of_asin[review_json['asin']].append(review_json)\n"
   ]
  },
  {
   "cell_type": "code",
   "execution_count": 24,
   "metadata": {
    "collapsed": true
   },
   "outputs": [],
   "source": [
    "# calculate distribution of `overall` review scores per product\n",
    "stats = defaultdict(dict)\n",
    "\n",
    "for product_id, reviews in reviews_of_asin.items():\n",
    "    stats[product_id]['score_stdev'] = numpy.std(\n",
    "        [review['overall'] for review in reviews]\n",
    "    )\n",
    "    stats[product_id]['num_reviews'] = len(reviews)\n",
    "#     stats[product_id]['reviews'] = reviews"
   ]
  },
  {
   "cell_type": "code",
   "execution_count": 25,
   "metadata": {
    "collapsed": false
   },
   "outputs": [
    {
     "data": {
      "text/plain": [
       "defaultdict(dict,\n",
       "            {'B00005YVPI': {'num_reviews': 8,\n",
       "              'score_stdev': 0.96824583655185426},\n",
       "             'B00061IYI8': {'num_reviews': 14,\n",
       "              'score_stdev': 1.3942300925673667},\n",
       "             'B00080S9GY': {'num_reviews': 6,\n",
       "              'score_stdev': 1.3437096247164249},\n",
       "             'B00004SY4H': {'num_reviews': 51,\n",
       "              'score_stdev': 0.7430311890782908},\n",
       "             'B00007FHDP': {'num_reviews': 14,\n",
       "              'score_stdev': 1.1157499537009508},\n",
       "             'B0000A1VS3': {'num_reviews': 57,\n",
       "              'score_stdev': 1.2587642887475157},\n",
       "             'B0006J0IN4': {'num_reviews': 8,\n",
       "              'score_stdev': 0.48412291827592713},\n",
       "             'B0009GYR9K': {'num_reviews': 5,\n",
       "              'score_stdev': 1.2000000000000002},\n",
       "             'B00004X036': {'num_reviews': 5,\n",
       "              'score_stdev': 0.63245553203367588},\n",
       "             'B000646MZW': {'num_reviews': 5,\n",
       "              'score_stdev': 0.4898979485566356},\n",
       "             'B00004Z6PI': {'num_reviews': 11,\n",
       "              'score_stdev': 1.2264306875665492},\n",
       "             'B000CD8BCY': {'num_reviews': 12,\n",
       "              'score_stdev': 0.27638539919628335},\n",
       "             'B00022TN36': {'num_reviews': 6,\n",
       "              'score_stdev': 0.76376261582597338},\n",
       "             'B0006M4PP8': {'num_reviews': 8,\n",
       "              'score_stdev': 0.33071891388307384},\n",
       "             'B0009N5MDI': {'num_reviews': 26,\n",
       "              'score_stdev': 1.4955555457864294},\n",
       "             'B0000Y5TI4': {'num_reviews': 13,\n",
       "              'score_stdev': 0.36080121229410994},\n",
       "             'B0007LBP92': {'num_reviews': 10,\n",
       "              'score_stdev': 0.39999999999999997},\n",
       "             'B0000CFYMB': {'num_reviews': 7,\n",
       "              'score_stdev': 0.6998542122237652},\n",
       "             'B0009Q4PIS': {'num_reviews': 15,\n",
       "              'score_stdev': 1.1547005383792515},\n",
       "             'B000204SWE': {'num_reviews': 197,\n",
       "              'score_stdev': 1.5000493863566386},\n",
       "             'B0002VS644': {'num_reviews': 8,\n",
       "              'score_stdev': 0.99215674164922152},\n",
       "             'B00006ICZI': {'num_reviews': 5,\n",
       "              'score_stdev': 1.8330302779823358},\n",
       "             'B000117DEY': {'num_reviews': 15,\n",
       "              'score_stdev': 1.4360439485692011},\n",
       "             'B000CRW2DE': {'num_reviews': 5,\n",
       "              'score_stdev': 1.7435595774162693},\n",
       "             'B00009XV40': {'num_reviews': 5,\n",
       "              'score_stdev': 1.2000000000000002},\n",
       "             'B00004T1XE': {'num_reviews': 61,\n",
       "              'score_stdev': 1.0989721811209423},\n",
       "             'B000058DRT': {'num_reviews': 6,\n",
       "              'score_stdev': 1.4907119849998598},\n",
       "             'B00001OPJ1': {'num_reviews': 5,\n",
       "              'score_stdev': 0.48989794855663565},\n",
       "             'B000BYJFYW': {'num_reviews': 8,\n",
       "              'score_stdev': 0.33071891388307384},\n",
       "             'B0009XTDHO': {'num_reviews': 5,\n",
       "              'score_stdev': 1.4696938456699069},\n",
       "             'B00004WCID': {'num_reviews': 250,\n",
       "              'score_stdev': 0.7276922426410769},\n",
       "             'B000AQNAHO': {'num_reviews': 6, 'score_stdev': 1.5},\n",
       "             'B000093US3': {'num_reviews': 7,\n",
       "              'score_stdev': 1.8844151368961313},\n",
       "             'B0002ZPR6A': {'num_reviews': 6, 'score_stdev': 0.0},\n",
       "             'B00026BOFW': {'num_reviews': 6,\n",
       "              'score_stdev': 0.81649658092772603},\n",
       "             'B000E5XK5I': {'num_reviews': 6,\n",
       "              'score_stdev': 1.0671873729054748},\n",
       "             'B000BMVITE': {'num_reviews': 11,\n",
       "              'score_stdev': 1.5850541612875175},\n",
       "             'B0009O6IXA': {'num_reviews': 48,\n",
       "              'score_stdev': 1.3148127771241382},\n",
       "             'B00006LK1O': {'num_reviews': 19,\n",
       "              'score_stdev': 1.4220269564322419},\n",
       "             'B000068NZK': {'num_reviews': 9,\n",
       "              'score_stdev': 0.41573970964154905},\n",
       "             'B000932AKQ': {'num_reviews': 20,\n",
       "              'score_stdev': 1.1079259903080168},\n",
       "             'B0000AI1HP': {'num_reviews': 16,\n",
       "              'score_stdev': 0.55901699437494745},\n",
       "             'B0001CKX2M': {'num_reviews': 5,\n",
       "              'score_stdev': 1.6248076809271921},\n",
       "             'B00000JBHE': {'num_reviews': 5,\n",
       "              'score_stdev': 0.39999999999999997},\n",
       "             'B00005T39Y': {'num_reviews': 185,\n",
       "              'score_stdev': 1.1242203694145443},\n",
       "             'B000092TR5': {'num_reviews': 14,\n",
       "              'score_stdev': 0.82065180664828996},\n",
       "             'B0000VYJTM': {'num_reviews': 8, 'score_stdev': 1.5},\n",
       "             'B00066Z9XG': {'num_reviews': 30,\n",
       "              'score_stdev': 1.2206555615733703},\n",
       "             'B00011KHTM': {'num_reviews': 25,\n",
       "              'score_stdev': 1.3763720427268202},\n",
       "             'B000095IMS': {'num_reviews': 6,\n",
       "              'score_stdev': 0.74535599249992979},\n",
       "             'B00008UA9I': {'num_reviews': 15,\n",
       "              'score_stdev': 0.86922698736035309},\n",
       "             'B00001ZWTY': {'num_reviews': 5,\n",
       "              'score_stdev': 0.39999999999999997},\n",
       "             'B0006PRMJG': {'num_reviews': 14,\n",
       "              'score_stdev': 1.0497813183356479},\n",
       "             'B00006HXF4': {'num_reviews': 18,\n",
       "              'score_stdev': 1.3933262448871613},\n",
       "             'B00004TX68': {'num_reviews': 6, 'score_stdev': 0.0},\n",
       "             'B00004TDN4': {'num_reviews': 13,\n",
       "              'score_stdev': 0.36080121229411},\n",
       "             'B000CNAEEW': {'num_reviews': 82,\n",
       "              'score_stdev': 1.3823588974489713},\n",
       "             'B000ENWTCU': {'num_reviews': 15,\n",
       "              'score_stdev': 1.2036980056845192},\n",
       "             'B00006FXHQ': {'num_reviews': 10,\n",
       "              'score_stdev': 1.4177446878757824},\n",
       "             'B00005RKTC': {'num_reviews': 8,\n",
       "              'score_stdev': 0.92702481088695787},\n",
       "             'B000EH4Y3S': {'num_reviews': 8,\n",
       "              'score_stdev': 0.99215674164922152},\n",
       "             'B00012F7CI': {'num_reviews': 8,\n",
       "              'score_stdev': 0.70710678118654757},\n",
       "             'B00005N5X7': {'num_reviews': 11,\n",
       "              'score_stdev': 0.7820295697311479},\n",
       "             'B00021OCQU': {'num_reviews': 15,\n",
       "              'score_stdev': 1.0832051206181281},\n",
       "             'B000BN9UHU': {'num_reviews': 9,\n",
       "              'score_stdev': 1.4142135623730951},\n",
       "             'B00005N5XO': {'num_reviews': 5,\n",
       "              'score_stdev': 1.2649110640673518},\n",
       "             'B0002OG6MU': {'num_reviews': 10,\n",
       "              'score_stdev': 1.7578395831246945},\n",
       "             'B0007U9SRE': {'num_reviews': 76,\n",
       "              'score_stdev': 1.2562172254238211},\n",
       "             '9876050621': {'num_reviews': 5,\n",
       "              'score_stdev': 1.8330302779823358},\n",
       "             'B00006L7TT': {'num_reviews': 5, 'score_stdev': 1.2},\n",
       "             'B0000AO5RQ': {'num_reviews': 6,\n",
       "              'score_stdev': 0.47140452079103168},\n",
       "             'B00000J6WY': {'num_reviews': 20,\n",
       "              'score_stdev': 1.4585952145814822},\n",
       "             'B0002HBOPQ': {'num_reviews': 5,\n",
       "              'score_stdev': 1.4966629547095764},\n",
       "             'B00028VKLI': {'num_reviews': 62,\n",
       "              'score_stdev': 1.449909394707684},\n",
       "             'B00006HOL6': {'num_reviews': 5,\n",
       "              'score_stdev': 0.79999999999999993},\n",
       "             'B00023JE7U': {'num_reviews': 15,\n",
       "              'score_stdev': 0.57348835113617502},\n",
       "             'B00022TN7C': {'num_reviews': 6,\n",
       "              'score_stdev': 1.3437096247164251},\n",
       "             'B00005T3G9': {'num_reviews': 24,\n",
       "              'score_stdev': 0.85695682505013049},\n",
       "             'B00007E8D2': {'num_reviews': 44,\n",
       "              'score_stdev': 1.0212109972118624},\n",
       "             'B0001LXQIG': {'num_reviews': 9,\n",
       "              'score_stdev': 1.1967032904743342},\n",
       "             'B000BSLSJI': {'num_reviews': 6,\n",
       "              'score_stdev': 1.0671873729054746},\n",
       "             'B0000AC88K': {'num_reviews': 22,\n",
       "              'score_stdev': 1.4972426447273277},\n",
       "             'B00009UTCD': {'num_reviews': 15,\n",
       "              'score_stdev': 0.71802197428460057},\n",
       "             'B000A0F6A4': {'num_reviews': 8, 'score_stdev': 1.0},\n",
       "             'B0001OTBUK': {'num_reviews': 15,\n",
       "              'score_stdev': 0.85374989832437986},\n",
       "             'B00009R97A': {'num_reviews': 5,\n",
       "              'score_stdev': 0.48989794855663565},\n",
       "             'B0000630TQ': {'num_reviews': 6,\n",
       "              'score_stdev': 1.6749792701868151},\n",
       "             'B000E7QRQK': {'num_reviews': 11,\n",
       "              'score_stdev': 1.7104443383842527},\n",
       "             'B000CCXCYC': {'num_reviews': 67,\n",
       "              'score_stdev': 1.0160222343353735},\n",
       "             'B00061LSAY': {'num_reviews': 7, 'score_stdev': 0.0},\n",
       "             'B00004SD88': {'num_reviews': 9,\n",
       "              'score_stdev': 0.94280904158206336},\n",
       "             'B00000JI38': {'num_reviews': 5,\n",
       "              'score_stdev': 0.74833147735478822},\n",
       "             'B000BKV26A': {'num_reviews': 6, 'score_stdev': 0.0},\n",
       "             'B00009R8D3': {'num_reviews': 13,\n",
       "              'score_stdev': 1.1357556200179539},\n",
       "             'B0007RPW2C': {'num_reviews': 16,\n",
       "              'score_stdev': 1.5761900266148114},\n",
       "             'B00005854B': {'num_reviews': 39,\n",
       "              'score_stdev': 1.409090427080419},\n",
       "             'B00009R864': {'num_reviews': 5, 'score_stdev': 0.0},\n",
       "             'B00000J0D5': {'num_reviews': 14,\n",
       "              'score_stdev': 1.6241167144145818},\n",
       "             'B0002E1NPA': {'num_reviews': 7,\n",
       "              'score_stdev': 0.72843135908468359},\n",
       "             'B0007876PC': {'num_reviews': 15,\n",
       "              'score_stdev': 0.33993463423951903},\n",
       "             'B0002J2TLC': {'num_reviews': 58,\n",
       "              'score_stdev': 1.070771555532706},\n",
       "             'B000ETYO7C': {'num_reviews': 8,\n",
       "              'score_stdev': 0.48412291827592713},\n",
       "             'B000AY7A5O': {'num_reviews': 8,\n",
       "              'score_stdev': 1.7633419974582356},\n",
       "             'B0009PD2T2': {'num_reviews': 14,\n",
       "              'score_stdev': 1.7202277969703277},\n",
       "             'B0007WRP0E': {'num_reviews': 5,\n",
       "              'score_stdev': 0.39999999999999997},\n",
       "             'B00005QIPU': {'num_reviews': 5,\n",
       "              'score_stdev': 0.9797958971132712},\n",
       "             'B00006IRS3': {'num_reviews': 56,\n",
       "              'score_stdev': 0.88352263406092724},\n",
       "             'B0000EWNW4': {'num_reviews': 8,\n",
       "              'score_stdev': 1.4142135623730951},\n",
       "             'B0001LGXO0': {'num_reviews': 10,\n",
       "              'score_stdev': 1.1661903789690602},\n",
       "             'B00000J4VK': {'num_reviews': 5,\n",
       "              'score_stdev': 0.74833147735478822},\n",
       "             'B00000J3Q1': {'num_reviews': 14,\n",
       "              'score_stdev': 0.84515425472851657},\n",
       "             'B0006B486K': {'num_reviews': 367,\n",
       "              'score_stdev': 1.1006960302111095},\n",
       "             'B0000BVYTV': {'num_reviews': 267,\n",
       "              'score_stdev': 1.2108446832815094},\n",
       "             'B000069Z5M': {'num_reviews': 11,\n",
       "              'score_stdev': 1.1570838237598051},\n",
       "             'B00064V6R6': {'num_reviews': 23,\n",
       "              'score_stdev': 1.1371040722280017},\n",
       "             'B00009R6TA': {'num_reviews': 611,\n",
       "              'score_stdev': 0.87711604608952964},\n",
       "             'B00006B7ML': {'num_reviews': 7,\n",
       "              'score_stdev': 0.69985421222376532},\n",
       "             'B000095ISG': {'num_reviews': 25,\n",
       "              'score_stdev': 0.80399004968967136},\n",
       "             'B00004THDE': {'num_reviews': 24,\n",
       "              'score_stdev': 0.81543274128253851},\n",
       "             'B000ETFY1M': {'num_reviews': 6,\n",
       "              'score_stdev': 0.47140452079103168},\n",
       "             'B00004Z6M7': {'num_reviews': 22,\n",
       "              'score_stdev': 1.5954480704349312},\n",
       "             'B0000C20V3': {'num_reviews': 13,\n",
       "              'score_stdev': 0.624926031125843},\n",
       "             'B00005R5CC': {'num_reviews': 10,\n",
       "              'score_stdev': 1.4966629547095764},\n",
       "             'B0009PCX6A': {'num_reviews': 5,\n",
       "              'score_stdev': 0.4898979485566356},\n",
       "             'B00006B7RS': {'num_reviews': 5,\n",
       "              'score_stdev': 0.39999999999999997},\n",
       "             'B0009TQB00': {'num_reviews': 30,\n",
       "              'score_stdev': 1.4907119849998598},\n",
       "             'B0000AMK36': {'num_reviews': 20,\n",
       "              'score_stdev': 1.5937377450509227},\n",
       "             'B000292DNQ': {'num_reviews': 5,\n",
       "              'score_stdev': 0.48989794855663565},\n",
       "             'B0001VWILM': {'num_reviews': 9,\n",
       "              'score_stdev': 0.31426968052735449},\n",
       "             'B000EDKP8K': {'num_reviews': 5,\n",
       "              'score_stdev': 1.2649110640673518},\n",
       "             'B0000DK3I4': {'num_reviews': 58,\n",
       "              'score_stdev': 0.6697560206743115},\n",
       "             'B0002VO8GE': {'num_reviews': 13,\n",
       "              'score_stdev': 1.3846153846153846},\n",
       "             'B0000CFYM9': {'num_reviews': 24,\n",
       "              'score_stdev': 0.68718427093627676},\n",
       "             'B00000JDFI': {'num_reviews': 6, 'score_stdev': 0.0},\n",
       "             'B000BRFE4O': {'num_reviews': 7,\n",
       "              'score_stdev': 1.6781914463529615},\n",
       "             'B0009F4OS0': {'num_reviews': 5,\n",
       "              'score_stdev': 0.48989794855663565},\n",
       "             'B00022OBOC': {'num_reviews': 25,\n",
       "              'score_stdev': 1.1825396399275585},\n",
       "             'B0002ZA7I8': {'num_reviews': 5,\n",
       "              'score_stdev': 0.9797958971132712},\n",
       "             'B00008XKYO': {'num_reviews': 19,\n",
       "              'score_stdev': 1.2587642887475157},\n",
       "             'B0002E56JY': {'num_reviews': 5, 'score_stdev': 1.16619037896906},\n",
       "             'B0007KK2G0': {'num_reviews': 11,\n",
       "              'score_stdev': 1.3666633071248098},\n",
       "             'B000BKBZGC': {'num_reviews': 8,\n",
       "              'score_stdev': 1.4523687548277813},\n",
       "             'B0001WC6MW': {'num_reviews': 5,\n",
       "              'score_stdev': 0.74833147735478822},\n",
       "             'B000ANOYMC': {'num_reviews': 14,\n",
       "              'score_stdev': 1.7510929531616091},\n",
       "             'B00005Y1Z6': {'num_reviews': 28,\n",
       "              'score_stdev': 0.81127262082861062},\n",
       "             'B00006JPER': {'num_reviews': 23,\n",
       "              'score_stdev': 1.5664246551871148},\n",
       "             'B000CSWZ6M': {'num_reviews': 20,\n",
       "              'score_stdev': 1.2288205727444508},\n",
       "             'B00006B9CR': {'num_reviews': 129,\n",
       "              'score_stdev': 1.2969620079605815},\n",
       "             'B00006JPED': {'num_reviews': 9,\n",
       "              'score_stdev': 1.2862041003100251},\n",
       "             'B0009NMQ2I': {'num_reviews': 23,\n",
       "              'score_stdev': 0.92436050545518689},\n",
       "             'B000AM7I30': {'num_reviews': 5,\n",
       "              'score_stdev': 0.39999999999999997},\n",
       "             'B00063KO5C': {'num_reviews': 16,\n",
       "              'score_stdev': 0.55901699437494745},\n",
       "             'B000281X6A': {'num_reviews': 6, 'score_stdev': 1.5},\n",
       "             'B00006D2LD': {'num_reviews': 5,\n",
       "              'score_stdev': 0.4898979485566356},\n",
       "             'B0009YJXMS': {'num_reviews': 230,\n",
       "              'score_stdev': 0.92595426687705595},\n",
       "             'B00012F6A6': {'num_reviews': 65,\n",
       "              'score_stdev': 1.4197257840073016},\n",
       "             'B0007XP8GQ': {'num_reviews': 8,\n",
       "              'score_stdev': 1.299038105676658},\n",
       "             'B0001I95CA': {'num_reviews': 12, 'score_stdev': 0.0},\n",
       "             'B00005Z24Y': {'num_reviews': 6,\n",
       "              'score_stdev': 0.47140452079103168},\n",
       "             'B00007KDX6': {'num_reviews': 21,\n",
       "              'score_stdev': 0.99886556968585849},\n",
       "             'B000095S9N': {'num_reviews': 5,\n",
       "              'score_stdev': 0.39999999999999997},\n",
       "             'B0008KL7B8': {'num_reviews': 8,\n",
       "              'score_stdev': 1.5612494995995996},\n",
       "             'B000CSH44K': {'num_reviews': 18,\n",
       "              'score_stdev': 0.59835164523716711},\n",
       "             'B0002WPREU': {'num_reviews': 75,\n",
       "              'score_stdev': 0.89799777282574589},\n",
       "             'B00024DIDK': {'num_reviews': 47,\n",
       "              'score_stdev': 1.3500163471672602},\n",
       "             'B00099C2M6': {'num_reviews': 21,\n",
       "              'score_stdev': 0.62813837896537716},\n",
       "             'B00068KAV0': {'num_reviews': 5,\n",
       "              'score_stdev': 0.39999999999999997},\n",
       "             'B000BNUDXK': {'num_reviews': 20,\n",
       "              'score_stdev': 1.1445523142259599},\n",
       "             'B00006FMPE': {'num_reviews': 9,\n",
       "              'score_stdev': 1.2862041003100251},\n",
       "             'B00005B4BW': {'num_reviews': 21,\n",
       "              'score_stdev': 1.5088551921671296},\n",
       "             'B00009W3HS': {'num_reviews': 6,\n",
       "              'score_stdev': 1.2133516482134197},\n",
       "             'B000EPRG6W': {'num_reviews': 69,\n",
       "              'score_stdev': 1.3416564418589123},\n",
       "             'B000ENIYOC': {'num_reviews': 5,\n",
       "              'score_stdev': 1.7435595774162693},\n",
       "             'B0009Y88EW': {'num_reviews': 6,\n",
       "              'score_stdev': 1.6749792701868149},\n",
       "             'B00009R996': {'num_reviews': 12,\n",
       "              'score_stdev': 1.4409680388158821},\n",
       "             'B00009Q97G': {'num_reviews': 7,\n",
       "              'score_stdev': 0.90350790290525129},\n",
       "             'B0007MYC2I': {'num_reviews': 5,\n",
       "              'score_stdev': 0.80000000000000004},\n",
       "             'B00006HUAS': {'num_reviews': 5,\n",
       "              'score_stdev': 1.5491933384829668},\n",
       "             'B000051ZOA': {'num_reviews': 64,\n",
       "              'score_stdev': 1.2231491119238078},\n",
       "             'B0000X65IS': {'num_reviews': 5,\n",
       "              'score_stdev': 1.5491933384829668},\n",
       "             'B00005105N': {'num_reviews': 26,\n",
       "              'score_stdev': 1.1094003924504583},\n",
       "             'B00065W74Q': {'num_reviews': 10,\n",
       "              'score_stdev': 0.80622577482985502},\n",
       "             'B0000XMUPA': {'num_reviews': 5,\n",
       "              'score_stdev': 0.79999999999999993},\n",
       "             'B0002V85OU': {'num_reviews': 42,\n",
       "              'score_stdev': 0.82341030789478964},\n",
       "             'B00016L0VQ': {'num_reviews': 16,\n",
       "              'score_stdev': 1.2358574958303243},\n",
       "             'B0009QZPO6': {'num_reviews': 10, 'score_stdev': 0.0},\n",
       "             'B000BN94F8': {'num_reviews': 52,\n",
       "              'score_stdev': 0.69310851119000394},\n",
       "             'B00008Y0VN': {'num_reviews': 231,\n",
       "              'score_stdev': 1.0831165370733162},\n",
       "             'B000ASGFRE': {'num_reviews': 13,\n",
       "              'score_stdev': 1.3674145257408599},\n",
       "             'B0000A8FFM': {'num_reviews': 6,\n",
       "              'score_stdev': 0.37267799624996495},\n",
       "             'B0007CGXWA': {'num_reviews': 9,\n",
       "              'score_stdev': 0.31426968052735449},\n",
       "             'B000ES84Q0': {'num_reviews': 5,\n",
       "              'score_stdev': 0.79999999999999993},\n",
       "             'B0006PY3DY': {'num_reviews': 6,\n",
       "              'score_stdev': 0.74535599249992979},\n",
       "             'B0009RKKV8': {'num_reviews': 14,\n",
       "              'score_stdev': 0.79539490897571741},\n",
       "             'B0007VVXHQ': {'num_reviews': 6,\n",
       "              'score_stdev': 1.5986105077709065},\n",
       "             'B00006B7SK': {'num_reviews': 17,\n",
       "              'score_stdev': 1.3618631650341442},\n",
       "             'B0002INMK0': {'num_reviews': 9,\n",
       "              'score_stdev': 0.6849348892187751},\n",
       "             'B00009UU26': {'num_reviews': 18,\n",
       "              'score_stdev': 0.68718427093627676},\n",
       "             'B0002ZPF6W': {'num_reviews': 37,\n",
       "              'score_stdev': 1.6981922240437848},\n",
       "             'B0002J2EPI': {'num_reviews': 16,\n",
       "              'score_stdev': 0.33071891388307384},\n",
       "             'B00065WNWC': {'num_reviews': 7,\n",
       "              'score_stdev': 0.83299312783504287},\n",
       "             'B00009W3IN': {'num_reviews': 6,\n",
       "              'score_stdev': 1.0671873729054748},\n",
       "             'B0000A602S': {'num_reviews': 7,\n",
       "              'score_stdev': 1.456862718169367},\n",
       "             'B00009MK3T': {'num_reviews': 41,\n",
       "              'score_stdev': 1.3788579536685435},\n",
       "             'B00006HOAQ': {'num_reviews': 34,\n",
       "              'score_stdev': 1.0323487514578966},\n",
       "             'B00009XVD8': {'num_reviews': 7,\n",
       "              'score_stdev': 0.45175395145262565},\n",
       "             'B0000BZ2WA': {'num_reviews': 78,\n",
       "              'score_stdev': 1.1931345354669214},\n",
       "             'B0000AHOBP': {'num_reviews': 5,\n",
       "              'score_stdev': 1.8330302779823362},\n",
       "             'B0007W4IW2': {'num_reviews': 17,\n",
       "              'score_stdev': 1.0323487514578966},\n",
       "             'B00083Y4B0': {'num_reviews': 47,\n",
       "              'score_stdev': 1.3446404518574435},\n",
       "             'B0001VNN6G': {'num_reviews': 5,\n",
       "              'score_stdev': 1.2649110640673518},\n",
       "             'B0002325XK': {'num_reviews': 5,\n",
       "              'score_stdev': 1.2000000000000002},\n",
       "             'B0006SE3K4': {'num_reviews': 9,\n",
       "              'score_stdev': 0.95581391856029185},\n",
       "             'B000BRO3PA': {'num_reviews': 46,\n",
       "              'score_stdev': 0.84894018216376699},\n",
       "             'B00005T3Y8': {'num_reviews': 10,\n",
       "              'score_stdev': 1.1357816691600546},\n",
       "             'B00006364I': {'num_reviews': 14,\n",
       "              'score_stdev': 1.1180339887498949},\n",
       "             'B000592UIG': {'num_reviews': 12,\n",
       "              'score_stdev': 1.1180339887498949},\n",
       "             'B000BK393Y': {'num_reviews': 44,\n",
       "              'score_stdev': 0.94037094843532743},\n",
       "             'B0007OWO0S': {'num_reviews': 6,\n",
       "              'score_stdev': 1.4624940645653539},\n",
       "             'B0009E1XF8': {'num_reviews': 10,\n",
       "              'score_stdev': 0.6403124237432849},\n",
       "             'B0001VNN6Q': {'num_reviews': 8,\n",
       "              'score_stdev': 0.96824583655185426},\n",
       "             'B00000J08C': {'num_reviews': 13,\n",
       "              'score_stdev': 1.1512791959304434},\n",
       "             'B00006B9QG': {'num_reviews': 7,\n",
       "              'score_stdev': 0.72843135908468359},\n",
       "             'B000069EUX': {'num_reviews': 24,\n",
       "              'score_stdev': 1.3010412496663328},\n",
       "             'B0000E6FY7': {'num_reviews': 5,\n",
       "              'score_stdev': 1.4696938456699069},\n",
       "             'B000BT97UO': {'num_reviews': 20,\n",
       "              'score_stdev': 0.97339611669658932},\n",
       "             'B00022OBYW': {'num_reviews': 12,\n",
       "              'score_stdev': 0.372677996249965},\n",
       "             'B00007E809': {'num_reviews': 13,\n",
       "              'score_stdev': 0.36080121229411},\n",
       "             'B000E8BGCE': {'num_reviews': 73,\n",
       "              'score_stdev': 1.0479228218578236},\n",
       "             'B000E8DMU8': {'num_reviews': 41,\n",
       "              'score_stdev': 1.1235407615883923},\n",
       "             'B000BVZ3BO': {'num_reviews': 6,\n",
       "              'score_stdev': 1.4624940645653537},\n",
       "             'B00083LJ5Y': {'num_reviews': 12,\n",
       "              'score_stdev': 1.1055415967851332},\n",
       "             'B0006ZP31K': {'num_reviews': 5,\n",
       "              'score_stdev': 0.48989794855663565},\n",
       "             'B00007I409': {'num_reviews': 12,\n",
       "              'score_stdev': 1.2801909579781015},\n",
       "             'B00007L9UC': {'num_reviews': 5,\n",
       "              'score_stdev': 0.89442719099991586},\n",
       "             'B000EHSN9Y': {'num_reviews': 16,\n",
       "              'score_stdev': 1.1110243021644486},\n",
       "             'B000BH3IWY': {'num_reviews': 7,\n",
       "              'score_stdev': 0.72843135908468348},\n",
       "             'B00005O0IU': {'num_reviews': 7,\n",
       "              'score_stdev': 1.5907898179514348},\n",
       "             'B0009W9WHQ': {'num_reviews': 58,\n",
       "              'score_stdev': 1.3126114697016744},\n",
       "             'B0007GGZ06': {'num_reviews': 18,\n",
       "              'score_stdev': 1.3562839573037446},\n",
       "             'B0009RKL6M': {'num_reviews': 33,\n",
       "              'score_stdev': 1.0391774666352875},\n",
       "             'B00006IRUL': {'num_reviews': 5,\n",
       "              'score_stdev': 0.48989794855663565},\n",
       "             'B00069QV5I': {'num_reviews': 9,\n",
       "              'score_stdev': 1.1547005383792515},\n",
       "             'B0000AM6T5': {'num_reviews': 5, 'score_stdev': 0.0},\n",
       "             'B0002Q85UO': {'num_reviews': 7, 'score_stdev': 0.0},\n",
       "             'B0009EL76I': {'num_reviews': 6,\n",
       "              'score_stdev': 0.68718427093627676},\n",
       "             'B000092M1T': {'num_reviews': 28,\n",
       "              'score_stdev': 1.2095495872768642},\n",
       "             'B00068E56G': {'num_reviews': 20,\n",
       "              'score_stdev': 1.0535653752852738},\n",
       "             'B0001UEHJY': {'num_reviews': 9,\n",
       "              'score_stdev': 1.4142135623730951},\n",
       "             'B00007JO1D': {'num_reviews': 8,\n",
       "              'score_stdev': 1.7853571071357126},\n",
       "             'B0007Y79G2': {'num_reviews': 15,\n",
       "              'score_stdev': 1.6329931618554521},\n",
       "             'B0009JBC4A': {'num_reviews': 6,\n",
       "              'score_stdev': 1.1547005383792515},\n",
       "             '9888002198': {'num_reviews': 18,\n",
       "              'score_stdev': 1.4326441064697364},\n",
       "             'B00004TKVD': {'num_reviews': 22,\n",
       "              'score_stdev': 0.99585919546393831},\n",
       "             'B00006HXJ6': {'num_reviews': 6,\n",
       "              'score_stdev': 1.0671873729054748},\n",
       "             'B000A7B9YE': {'num_reviews': 5,\n",
       "              'score_stdev': 1.4966629547095764},\n",
       "             'B0009MFQ1M': {'num_reviews': 6, 'score_stdev': 1.0},\n",
       "             'B00005QCT3': {'num_reviews': 15,\n",
       "              'score_stdev': 0.95684667296048831},\n",
       "             'B000261N6M': {'num_reviews': 68,\n",
       "              'score_stdev': 1.5570883794612582},\n",
       "             'B00004RC2E': {'num_reviews': 16,\n",
       "              'score_stdev': 1.0897247358851685},\n",
       "             'B0007LXR7A': {'num_reviews': 7,\n",
       "              'score_stdev': 1.761261143705422},\n",
       "             'B0001FV364': {'num_reviews': 44,\n",
       "              'score_stdev': 1.2602882393647066},\n",
       "             'B000ACRBT6': {'num_reviews': 6,\n",
       "              'score_stdev': 1.3437096247164249},\n",
       "             'B0001D56UK': {'num_reviews': 9,\n",
       "              'score_stdev': 0.8314794192830981},\n",
       "             'B00004WCEY': {'num_reviews': 17,\n",
       "              'score_stdev': 0.38122004108281538},\n",
       "             'B00007E7NH': {'num_reviews': 25,\n",
       "              'score_stdev': 1.5419468213917105},\n",
       "             'B0000YB7RQ': {'num_reviews': 8,\n",
       "              'score_stdev': 0.96824583655185426},\n",
       "             'B0009XQPJI': {'num_reviews': 9,\n",
       "              'score_stdev': 1.2570787221094177},\n",
       "             'B0006B3QY0': {'num_reviews': 20,\n",
       "              'score_stdev': 1.4491376746189439},\n",
       "             'B000EM8GDW': {'num_reviews': 33,\n",
       "              'score_stdev': 1.1142288673242569},\n",
       "             'B00009R97U': {'num_reviews': 15,\n",
       "              'score_stdev': 0.49888765156985887},\n",
       "             'B00007079A': {'num_reviews': 22,\n",
       "              'score_stdev': 1.2767792641080127},\n",
       "             'B00008Y0S8': {'num_reviews': 5,\n",
       "              'score_stdev': 1.6248076809271921},\n",
       "             'B0000696HN': {'num_reviews': 5,\n",
       "              'score_stdev': 1.6000000000000003},\n",
       "             'B000EMPPBS': {'num_reviews': 10,\n",
       "              'score_stdev': 0.79999999999999993},\n",
       "             'B000EC3GDC': {'num_reviews': 21,\n",
       "              'score_stdev': 1.6495721976846451},\n",
       "             'B00009XVA3': {'num_reviews': 48,\n",
       "              'score_stdev': 0.81649658092772603},\n",
       "             'B00005TQ09': {'num_reviews': 12,\n",
       "              'score_stdev': 0.95379359518829976},\n",
       "             'B00001P4XH': {'num_reviews': 184,\n",
       "              'score_stdev': 1.1638051142890584},\n",
       "             'B000E5EBGA': {'num_reviews': 11,\n",
       "              'score_stdev': 0.44536177141512334},\n",
       "             'B00006JHZ0': {'num_reviews': 18,\n",
       "              'score_stdev': 1.4326441064697364},\n",
       "             'B000BM8RFM': {'num_reviews': 74,\n",
       "              'score_stdev': 1.0291585278194471},\n",
       "             'B00005NJEJ': {'num_reviews': 5,\n",
       "              'score_stdev': 1.6248076809271921},\n",
       "             'B00062QY5W': {'num_reviews': 49,\n",
       "              'score_stdev': 1.0647508131220884},\n",
       "             'B00005B6SC': {'num_reviews': 6,\n",
       "              'score_stdev': 1.6749792701868151},\n",
       "             'B00009MF83': {'num_reviews': 16,\n",
       "              'score_stdev': 0.58296119081805098},\n",
       "             'B0001DB6IQ': {'num_reviews': 5,\n",
       "              'score_stdev': 0.74833147735478822},\n",
       "             'B00004Z5QU': {'num_reviews': 27,\n",
       "              'score_stdev': 0.51586623248830066},\n",
       "             'B00009UTLU': {'num_reviews': 13,\n",
       "              'score_stdev': 0.99703703052428627},\n",
       "             'B0000BZO6E': {'num_reviews': 7,\n",
       "              'score_stdev': 1.5779087167410371},\n",
       "             'B00009R6UA': {'num_reviews': 51,\n",
       "              'score_stdev': 0.5703152773430975},\n",
       "             'B0000BZLK7': {'num_reviews': 5,\n",
       "              'score_stdev': 1.4696938456699071},\n",
       "             'B000ENQUDE': {'num_reviews': 6,\n",
       "              'score_stdev': 0.47140452079103168},\n",
       "             'B00000J1EJ': {'num_reviews': 18,\n",
       "              'score_stdev': 1.3844373104863457},\n",
       "             'B00009ADEW': {'num_reviews': 5,\n",
       "              'score_stdev': 1.3564659966250536},\n",
       "             'B00004VX14': {'num_reviews': 7,\n",
       "              'score_stdev': 1.7728105208558367},\n",
       "             'B0002QYS8W': {'num_reviews': 29,\n",
       "              'score_stdev': 1.0695215461566088},\n",
       "             'B00006RYUX': {'num_reviews': 6,\n",
       "              'score_stdev': 0.76376261582597338},\n",
       "             'B000E60QZE': {'num_reviews': 5,\n",
       "              'score_stdev': 1.6733200530681511},\n",
       "             'B0002KRBH8': {'num_reviews': 9,\n",
       "              'score_stdev': 0.95581391856029185},\n",
       "             'B0001F22R8': {'num_reviews': 24,\n",
       "              'score_stdev': 1.3063679505492403},\n",
       "             'B00068NF0I': {'num_reviews': 6,\n",
       "              'score_stdev': 1.5986105077709065},\n",
       "             'B000CSYZ1K': {'num_reviews': 5,\n",
       "              'score_stdev': 1.019803902718557},\n",
       "             'B00005T3GG': {'num_reviews': 7,\n",
       "              'score_stdev': 0.3499271061118826},\n",
       "             'B00009R9A1': {'num_reviews': 95,\n",
       "              'score_stdev': 0.88094635591190218},\n",
       "             'B000BFNT0W': {'num_reviews': 56,\n",
       "              'score_stdev': 1.1247165175714098},\n",
       "             'B00011KM3S': {'num_reviews': 9,\n",
       "              'score_stdev': 0.66666666666666663},\n",
       "             'B000ETY3LO': {'num_reviews': 27,\n",
       "              'score_stdev': 1.1343253948973002},\n",
       "             'B000ER1G3E': {'num_reviews': 5,\n",
       "              'score_stdev': 1.6733200530681511},\n",
       "             'B0009JGV32': {'num_reviews': 6,\n",
       "              'score_stdev': 1.3844373104863459},\n",
       "             'B0002F513E': {'num_reviews': 9, 'score_stdev': 0.0},\n",
       "             'B00062GJ8E': {'num_reviews': 6,\n",
       "              'score_stdev': 0.76376261582597338},\n",
       "             'B0000AQR8T': {'num_reviews': 21,\n",
       "              'score_stdev': 1.2196427118919713},\n",
       "             'B0002TUDKG': {'num_reviews': 9,\n",
       "              'score_stdev': 1.4142135623730951},\n",
       "             'B0008032NO': {'num_reviews': 10,\n",
       "              'score_stdev': 1.3999999999999999},\n",
       "             'B000BNLC3K': {'num_reviews': 10,\n",
       "              'score_stdev': 1.2489995996796797},\n",
       "             'B000B6JJNC': {'num_reviews': 11,\n",
       "              'score_stdev': 0.4810456929208346},\n",
       "             'B0009E3T14': {'num_reviews': 5,\n",
       "              'score_stdev': 1.4966629547095764},\n",
       "             'B000068U1L': {'num_reviews': 7,\n",
       "              'score_stdev': 0.90350790290525129},\n",
       "             'B0002EXNFI': {'num_reviews': 6,\n",
       "              'score_stdev': 1.1180339887498949},\n",
       "             'B0007N55NC': {'num_reviews': 6,\n",
       "              'score_stdev': 1.0671873729054748},\n",
       "             'B00081S0YY': {'num_reviews': 5, 'score_stdev': 1.16619037896906},\n",
       "             'B00006HCJI': {'num_reviews': 32,\n",
       "              'score_stdev': 1.0897247358851685},\n",
       "             'B000AY5Y5W': {'num_reviews': 75,\n",
       "              'score_stdev': 1.205469018911542},\n",
       "             'B000ENRPTM': {'num_reviews': 10,\n",
       "              'score_stdev': 0.6403124237432849},\n",
       "             'B0000AI1J8': {'num_reviews': 7,\n",
       "              'score_stdev': 0.45175395145262565},\n",
       "             'B00091S0S4': {'num_reviews': 5,\n",
       "              'score_stdev': 0.48989794855663565},\n",
       "             'B0002I7U3K': {'num_reviews': 5,\n",
       "              'score_stdev': 0.39999999999999997},\n",
       "             'B000068O34': {'num_reviews': 57,\n",
       "              'score_stdev': 0.95738692278191251},\n",
       "             'B000219896': {'num_reviews': 17,\n",
       "              'score_stdev': 0.90366420563160099},\n",
       "             'B000EGAMBW': {'num_reviews': 20,\n",
       "              'score_stdev': 0.80622577482985502},\n",
       "             '1400501520': {'num_reviews': 20,\n",
       "              'score_stdev': 1.1135528725660042},\n",
       "             'B00001OPJQ': {'num_reviews': 6,\n",
       "              'score_stdev': 0.81649658092772603},\n",
       "             'B00006I53A': {'num_reviews': 39,\n",
       "              'score_stdev': 1.2360995685327127},\n",
       "             'B000E36R8W': {'num_reviews': 5,\n",
       "              'score_stdev': 0.39999999999999997},\n",
       "             'B0007U0IQE': {'num_reviews': 11,\n",
       "              'score_stdev': 1.2856486930664499},\n",
       "             'B000BARAW0': {'num_reviews': 9,\n",
       "              'score_stdev': 0.47140452079103168},\n",
       "             'B00009R8WQ': {'num_reviews': 9,\n",
       "              'score_stdev': 0.47140452079103168},\n",
       "             'B00005MIS8': {'num_reviews': 21,\n",
       "              'score_stdev': 1.6468206157895793},\n",
       "             'B000BJNFCA': {'num_reviews': 5,\n",
       "              'score_stdev': 1.6000000000000003},\n",
       "             'B00008W81P': {'num_reviews': 8,\n",
       "              'score_stdev': 1.5811388300841898},\n",
       "             'B000ECSHPE': {'num_reviews': 9,\n",
       "              'score_stdev': 1.4229164972072998},\n",
       "             'B000CSY16E': {'num_reviews': 5,\n",
       "              'score_stdev': 1.6000000000000001},\n",
       "             'B0009PAYY8': {'num_reviews': 47,\n",
       "              'score_stdev': 0.66265580861265694},\n",
       "             'B000BM93YG': {'num_reviews': 6,\n",
       "              'score_stdev': 1.0671873729054748},\n",
       "             'B00068NUM6': {'num_reviews': 35,\n",
       "              'score_stdev': 1.507532109516905},\n",
       "             'B0000DYV9H': {'num_reviews': 22, 'score_stdev': 0.0},\n",
       "             'B0007NP8SY': {'num_reviews': 17,\n",
       "              'score_stdev': 0.69102000732180768},\n",
       "             'B0002ER2ZA': {'num_reviews': 14,\n",
       "              'score_stdev': 0.61028598180839511},\n",
       "             'B000067RVL': {'num_reviews': 141,\n",
       "              'score_stdev': 0.97212287606697545},\n",
       "             'B000ARJIYC': {'num_reviews': 21,\n",
       "              'score_stdev': 0.88063057185271076},\n",
       "             'B0007VPFI4': {'num_reviews': 130,\n",
       "              'score_stdev': 1.3495780624867768},\n",
       "             'B000DZDPJA': {'num_reviews': 9,\n",
       "              'score_stdev': 1.594744454934147},\n",
       "             'B0007U0GZC': {'num_reviews': 7,\n",
       "              'score_stdev': 0.49487165930539351},\n",
       "             'B00008L3HI': {'num_reviews': 6, 'score_stdev': 1.0},\n",
       "             'B00001W0DG': {'num_reviews': 9,\n",
       "              'score_stdev': 0.94280904158206336},\n",
       "             'B00004Y3UX': {'num_reviews': 28,\n",
       "              'score_stdev': 1.2916529514303661},\n",
       "             '1400599997': {'num_reviews': 41,\n",
       "              'score_stdev': 1.4450061701071828},\n",
       "             'B000062STN': {'num_reviews': 9, 'score_stdev': 0.0},\n",
       "             'B00004ZCC2': {'num_reviews': 11,\n",
       "              'score_stdev': 1.2331509060227761},\n",
       "             'B0007SKSES': {'num_reviews': 12,\n",
       "              'score_stdev': 1.7057907908715602},\n",
       "             'B0009YU7Z0': {'num_reviews': 15,\n",
       "              'score_stdev': 0.71180521680208741},\n",
       "             'B00009R6WT': {'num_reviews': 172,\n",
       "              'score_stdev': 1.0116112000758903},\n",
       "             'B0000TSBLG': {'num_reviews': 8,\n",
       "              'score_stdev': 0.4330127018922193},\n",
       "             'B0007U9KAY': {'num_reviews': 89,\n",
       "              'score_stdev': 1.6079589950560285},\n",
       "             'B000CSQJ8C': {'num_reviews': 69,\n",
       "              'score_stdev': 0.98401421430538871},\n",
       "             'B0009F4OR6': {'num_reviews': 44,\n",
       "              'score_stdev': 1.2792042981336627},\n",
       "             'B00008VF91': {'num_reviews': 32, 'score_stdev': 1.25},\n",
       "             'B0009MFV0I': {'num_reviews': 24,\n",
       "              'score_stdev': 0.81649658092772603},\n",
       "             'B0002KQR2I': {'num_reviews': 9,\n",
       "              'score_stdev': 1.247219128924647},\n",
       "             'B00006JM6N': {'num_reviews': 11,\n",
       "              'score_stdev': 0.97912087402445525},\n",
       "             'B0001LS12C': {'num_reviews': 24,\n",
       "              'score_stdev': 1.5523280008497633},\n",
       "             'B0000DIK0U': {'num_reviews': 15,\n",
       "              'score_stdev': 1.4236104336041748},\n",
       "             'B0002Q7VO0': {'num_reviews': 32,\n",
       "              'score_stdev': 0.90084595658747335},\n",
       "             'B00006JLOT': {'num_reviews': 18,\n",
       "              'score_stdev': 0.89752746785575077},\n",
       "             'B0000AFPVJ': {'num_reviews': 10,\n",
       "              'score_stdev': 1.2649110640673518},\n",
       "             'B0002IQ18A': {'num_reviews': 6, 'score_stdev': 0.0},\n",
       "             'B0007Z7XTO': {'num_reviews': 10,\n",
       "              'score_stdev': 1.0954451150103321},\n",
       "             'B0001VQEYY': {'num_reviews': 22,\n",
       "              'score_stdev': 1.2604931476238224},\n",
       "             'B0002JC36I': {'num_reviews': 6, 'score_stdev': 0.0},\n",
       "             'B000B622D6': {'num_reviews': 6,\n",
       "              'score_stdev': 1.247219128924647},\n",
       "             'B00004SQET': {'num_reviews': 46,\n",
       "              'score_stdev': 0.4962048787179707},\n",
       "             'B000BICOO6': {'num_reviews': 8,\n",
       "              'score_stdev': 0.69597054535375269},\n",
       "             'B000CRHNMO': {'num_reviews': 8,\n",
       "              'score_stdev': 1.1989578808281798},\n",
       "             'B0002OGJJA': {'num_reviews': 13,\n",
       "              'score_stdev': 0.63432394240271706},\n",
       "             'B00005KK2Q': {'num_reviews': 9,\n",
       "              'score_stdev': 1.4487116456005886},\n",
       "             'B00009R6JP': {'num_reviews': 21,\n",
       "              'score_stdev': 0.94999701634571432},\n",
       "             'B0000DC6B0': {'num_reviews': 11,\n",
       "              'score_stdev': 1.7486712783337588},\n",
       "             'B000CCS440': {'num_reviews': 11,\n",
       "              'score_stdev': 1.1570838237598049},\n",
       "             'B000636FJG': {'num_reviews': 8,\n",
       "              'score_stdev': 1.3919410907075054},\n",
       "             'B00009R86M': {'num_reviews': 5, 'score_stdev': 0.0},\n",
       "             'B00005M00O': {'num_reviews': 6,\n",
       "              'score_stdev': 1.699673171197595},\n",
       "             'B0002W81YI': {'num_reviews': 7,\n",
       "              'score_stdev': 0.3499271061118826},\n",
       "             'B00009R9CT': {'num_reviews': 6,\n",
       "              'score_stdev': 0.47140452079103168},\n",
       "             'B00005Y7DQ': {'num_reviews': 10,\n",
       "              'score_stdev': 1.7204650534085253},\n",
       "             'B0002REB38': {'num_reviews': 10,\n",
       "              'score_stdev': 0.45825756949558405},\n",
       "             'B000BM66V4': {'num_reviews': 14,\n",
       "              'score_stdev': 0.82375447104791399},\n",
       "             'B00004TCTK': {'num_reviews': 7,\n",
       "              'score_stdev': 0.72843135908468348},\n",
       "             'B0001YIMAA': {'num_reviews': 15,\n",
       "              'score_stdev': 1.6110727964792761},\n",
       "             'B000AQQDU0': {'num_reviews': 8,\n",
       "              'score_stdev': 1.3635890143294642},\n",
       "             'B000051XHM': {'num_reviews': 8,\n",
       "              'score_stdev': 1.2686114456365274},\n",
       "             'B0002D0712': {'num_reviews': 5,\n",
       "              'score_stdev': 1.4696938456699069},\n",
       "             'B00004SQGI': {'num_reviews': 7, 'score_stdev': 0.0},\n",
       "             'B00009W3F3': {'num_reviews': 21,\n",
       "              'score_stdev': 0.72217861371919534},\n",
       "             'B0006HTPQ2': {'num_reviews': 25,\n",
       "              'score_stdev': 1.4344336861632887},\n",
       "             'B000EFMP7W': {'num_reviews': 8, 'score_stdev': 1.5},\n",
       "             'B000BSEWCI': {'num_reviews': 6,\n",
       "              'score_stdev': 1.1180339887498949},\n",
       "             'B0002KR74A': {'num_reviews': 8,\n",
       "              'score_stdev': 1.3635890143294642},\n",
       "             'B000EPLPPU': {'num_reviews': 9,\n",
       "              'score_stdev': 1.3333333333333333},\n",
       "             'B0006GCCO0': {'num_reviews': 38,\n",
       "              'score_stdev': 0.96511162215222357},\n",
       "             'B000AB286S': {'num_reviews': 22,\n",
       "              'score_stdev': 0.7229988054812212},\n",
       "             'B0002D6PNQ': {'num_reviews': 8,\n",
       "              'score_stdev': 1.6535945694153691},\n",
       "             'B0009X1U3O': {'num_reviews': 16,\n",
       "              'score_stdev': 1.4347800354061246},\n",
       "             'B000B63KTG': {'num_reviews': 11,\n",
       "              'score_stdev': 1.4200453956193917},\n",
       "             'B0002BG6RI': {'num_reviews': 54,\n",
       "              'score_stdev': 1.331274130045291},\n",
       "             'B0001DHHIY': {'num_reviews': 53,\n",
       "              'score_stdev': 1.6759560748077327},\n",
       "             'B00015GYTU': {'num_reviews': 17,\n",
       "              'score_stdev': 0.9557692240748189},\n",
       "             'B00005T3EY': {'num_reviews': 27,\n",
       "              'score_stdev': 1.0747124539664377},\n",
       "             'B00005Y1Z7': {'num_reviews': 25,\n",
       "              'score_stdev': 1.2289833196589772},\n",
       "             'B00061ZNVE': {'num_reviews': 10,\n",
       "              'score_stdev': 1.6733200530681511},\n",
       "             'B00009UHHW': {'num_reviews': 6,\n",
       "              'score_stdev': 1.4142135623730951},\n",
       "             'B0002KVQBA': {'num_reviews': 504,\n",
       "              'score_stdev': 0.85305231681768334},\n",
       "             'B0001MHZM8': {'num_reviews': 9,\n",
       "              'score_stdev': 0.31426968052735449},\n",
       "             'B0000B3ALC': {'num_reviews': 7,\n",
       "              'score_stdev': 1.1780301787479031},\n",
       "             'B000BP50AY': {'num_reviews': 127,\n",
       "              'score_stdev': 1.4081505479798428},\n",
       "             'B0006TIA48': {'num_reviews': 19,\n",
       "              'score_stdev': 1.2070889411768122},\n",
       "             'B0002LHSFW': {'num_reviews': 23,\n",
       "              'score_stdev': 0.92026132558768359},\n",
       "             'B0000AZK0D': {'num_reviews': 126,\n",
       "              'score_stdev': 1.3469869701326851},\n",
       "             'B00009UHRE': {'num_reviews': 26,\n",
       "              'score_stdev': 1.3499945211372495},\n",
       "             'B000EHODY8': {'num_reviews': 10,\n",
       "              'score_stdev': 1.3266499161421599},\n",
       "             'B00077IS32': {'num_reviews': 5, 'score_stdev': 0.0},\n",
       "             'B0002J2D2W': {'num_reviews': 6,\n",
       "              'score_stdev': 1.1547005383792515},\n",
       "             'B000E0IOAE': {'num_reviews': 7,\n",
       "              'score_stdev': 1.1780301787479031},\n",
       "             'B000E0KGU0': {'num_reviews': 13,\n",
       "              'score_stdev': 1.598816130063579},\n",
       "             'B00097CUIE': {'num_reviews': 18,\n",
       "              'score_stdev': 0.81649658092772592},\n",
       "             'B000093USF': {'num_reviews': 5,\n",
       "              'score_stdev': 1.6733200530681511},\n",
       "             'B00011KLSO': {'num_reviews': 11,\n",
       "              'score_stdev': 0.44536177141512334},\n",
       "             'B00000JBRV': {'num_reviews': 5,\n",
       "              'score_stdev': 0.79999999999999993},\n",
       "             'B0007CGXSO': {'num_reviews': 9,\n",
       "              'score_stdev': 1.3146843962443591},\n",
       "             'B0007GIXQU': {'num_reviews': 18,\n",
       "              'score_stdev': 1.1772011166898384},\n",
       "             'B0002V9IKK': {'num_reviews': 23,\n",
       "              'score_stdev': 0.48804226784007926},\n",
       "             'B0002BEQKM': {'num_reviews': 16,\n",
       "              'score_stdev': 1.165922381636102},\n",
       "             'B0001XGR1C': {'num_reviews': 85,\n",
       "              'score_stdev': 0.83983850812116456},\n",
       "             'B00007G9J5': {'num_reviews': 5,\n",
       "              'score_stdev': 0.39999999999999997},\n",
       "             'B00006HOLO': {'num_reviews': 56,\n",
       "              'score_stdev': 0.92426887818625247},\n",
       "             'B0007QN18K': {'num_reviews': 15,\n",
       "              'score_stdev': 0.80000000000000004},\n",
       "             'B00023433U': {'num_reviews': 136,\n",
       "              'score_stdev': 0.99163892161665979},\n",
       "             'B0002CNTU4': {'num_reviews': 8,\n",
       "              'score_stdev': 1.0532687216470449},\n",
       "             'B000BFGB6G': {'num_reviews': 12,\n",
       "              'score_stdev': 1.1149240133549712},\n",
       "             'B0006I09OS': {'num_reviews': 103,\n",
       "              'score_stdev': 1.4554690124448544},\n",
       "             'B0007MGEOC': {'num_reviews': 5,\n",
       "              'score_stdev': 1.0954451150103321},\n",
       "             'B0009UDABW': {'num_reviews': 5,\n",
       "              'score_stdev': 1.5491933384829668},\n",
       "             'B000066AX5': {'num_reviews': 17,\n",
       "              'score_stdev': 1.2725475089872904},\n",
       "             'B000EA6WOO': {'num_reviews': 6,\n",
       "              'score_stdev': 1.4907119849998596},\n",
       "             'B0002BEV9S': {'num_reviews': 13,\n",
       "              'score_stdev': 1.1512791959304434},\n",
       "             'B0002GRUJ6': {'num_reviews': 42,\n",
       "              'score_stdev': 1.004807040286152},\n",
       "             'B000A2RZ7E': {'num_reviews': 7,\n",
       "              'score_stdev': 0.88063057185271099},\n",
       "             'B000BO1L7G': {'num_reviews': 8,\n",
       "              'score_stdev': 0.33071891388307384},\n",
       "             'B0009FTXGI': {'num_reviews': 15,\n",
       "              'score_stdev': 1.2754084313139327},\n",
       "             'B00009X3QP': {'num_reviews': 5, 'score_stdev': 1.16619037896906},\n",
       "             'B00005T391': {'num_reviews': 5,\n",
       "              'score_stdev': 1.2649110640673518},\n",
       "             'B0001U5MGQ': {'num_reviews': 8, 'score_stdev': 1.0},\n",
       "             'B000A8JYB8': {'num_reviews': 16,\n",
       "              'score_stdev': 1.3635890143294642},\n",
       "             'B0006GCCWW': {'num_reviews': 19,\n",
       "              'score_stdev': 0.93559941234900923},\n",
       "             'B000058E2B': {'num_reviews': 21,\n",
       "              'score_stdev': 1.2901159222994347},\n",
       "             'B0009FUAQ0': {'num_reviews': 7,\n",
       "              'score_stdev': 1.7496355305594129},\n",
       "             'B0000A576B': {'num_reviews': 7,\n",
       "              'score_stdev': 1.0497813183356477},\n",
       "             'B00009XVL7': {'num_reviews': 8, 'score_stdev': 0.0},\n",
       "             'B00006JLOS': {'num_reviews': 15,\n",
       "              'score_stdev': 0.61824123303304701},\n",
       "             'B000AOYWVE': {'num_reviews': 18,\n",
       "              'score_stdev': 1.2717247935843996},\n",
       "             'B00005V52C': {'num_reviews': 16, 'score_stdev': 1.5},\n",
       "             'B0002861MQ': {'num_reviews': 6,\n",
       "              'score_stdev': 0.74535599249992979},\n",
       "             'B00008AWL2': {'num_reviews': 57,\n",
       "              'score_stdev': 0.62026910630398902},\n",
       "             'B000E5FQSC': {'num_reviews': 5,\n",
       "              'score_stdev': 0.48989794855663565},\n",
       "             'B0000AXOS1': {'num_reviews': 10, 'score_stdev': 1.5},\n",
       "             'B00009R9BP': {'num_reviews': 6,\n",
       "              'score_stdev': 0.47140452079103168},\n",
       "             'B00008Y0SS': {'num_reviews': 8,\n",
       "              'score_stdev': 0.99215674164922152},\n",
       "             'B000BITSTA': {'num_reviews': 7,\n",
       "              'score_stdev': 0.49487165930539351},\n",
       "             'B00007IFJY': {'num_reviews': 15,\n",
       "              'score_stdev': 1.6248076809271921},\n",
       "             'B0009ZF7ZY': {'num_reviews': 10,\n",
       "              'score_stdev': 0.6403124237432849},\n",
       "             'B000067SLY': {'num_reviews': 6,\n",
       "              'score_stdev': 0.76376261582597338},\n",
       "             'B000BTAH62': {'num_reviews': 28,\n",
       "              'score_stdev': 0.81675690185923366},\n",
       "             'B0001R041M': {'num_reviews': 9,\n",
       "              'score_stdev': 1.227262335243029},\n",
       "             'B00006HQ3B': {'num_reviews': 6,\n",
       "              'score_stdev': 0.76376261582597338},\n",
       "             'B000053HHD': {'num_reviews': 11,\n",
       "              'score_stdev': 0.93596637645336367},\n",
       "             'B00004ZB57': {'num_reviews': 6,\n",
       "              'score_stdev': 0.372677996249965},\n",
       "             'B000DZH9MY': {'num_reviews': 26,\n",
       "              'score_stdev': 0.66617338752649125},\n",
       "             'B000BT7XUK': {'num_reviews': 22,\n",
       "              'score_stdev': 1.1354541815269816},\n",
       "             'B00009W42U': {'num_reviews': 6,\n",
       "              'score_stdev': 1.4624940645653537},\n",
       "             'B000AAZQJU': {'num_reviews': 83,\n",
       "              'score_stdev': 1.020190994217665},\n",
       "             'B0002344GG': {'num_reviews': 72,\n",
       "              'score_stdev': 1.7846546679821889},\n",
       "             'B00009UTZJ': {'num_reviews': 16, 'score_stdev': 0.5},\n",
       "             'B000BVZBY8': {'num_reviews': 9,\n",
       "              'score_stdev': 0.66666666666666663},\n",
       "             'B0006BHHF4': {'num_reviews': 8,\n",
       "              'score_stdev': 0.48412291827592713},\n",
       "             'B000EH6GH0': {'num_reviews': 26,\n",
       "              'score_stdev': 0.72160242458821988},\n",
       "             'B0007TJDGQ': {'num_reviews': 12,\n",
       "              'score_stdev': 0.6454972243679028},\n",
       "             'B000065BPB': {'num_reviews': 284,\n",
       "              'score_stdev': 1.0331912359930808},\n",
       "             'B00021XQIA': {'num_reviews': 6,\n",
       "              'score_stdev': 1.4142135623730951},\n",
       "             'B000E432T8': {'num_reviews': 7,\n",
       "              'score_stdev': 0.3499271061118826},\n",
       "             'B000BKP7ZW': {'num_reviews': 5,\n",
       "              'score_stdev': 0.4898979485566356},\n",
       "             'B0001656FW': {'num_reviews': 20,\n",
       "              'score_stdev': 0.92059763197609856},\n",
       "             'B0007M3PJO': {'num_reviews': 14,\n",
       "              'score_stdev': 0.79539490897571741},\n",
       "             'B00005QFZG': {'num_reviews': 14,\n",
       "              'score_stdev': 0.4517539514526257},\n",
       "             'B000BS24V4': {'num_reviews': 16,\n",
       "              'score_stdev': 0.69597054535375269},\n",
       "             'B00004RDL5': {'num_reviews': 13,\n",
       "              'score_stdev': 1.1665962221617769},\n",
       "             'B00008X5DE': {'num_reviews': 36,\n",
       "              'score_stdev': 1.3111581912451051},\n",
       "             'B00005Y3OM': {'num_reviews': 69,\n",
       "              'score_stdev': 1.075202144405299},\n",
       "             'B00080FPSO': {'num_reviews': 5,\n",
       "              'score_stdev': 0.89442719099991586},\n",
       "             'B00005T3N3': {'num_reviews': 83,\n",
       "              'score_stdev': 0.79060384176014076},\n",
       "             'B0000ALFAZ': {'num_reviews': 8,\n",
       "              'score_stdev': 1.0897247358851685},\n",
       "             'B000EBLAB8': {'num_reviews': 6,\n",
       "              'score_stdev': 0.372677996249965},\n",
       "             'B000E3XB2W': {'num_reviews': 7,\n",
       "              'score_stdev': 1.1605769149479943},\n",
       "             'B0000U1OD2': {'num_reviews': 8,\n",
       "              'score_stdev': 0.66143782776614768},\n",
       "             'B000BKBVT8': {'num_reviews': 23,\n",
       "              'score_stdev': 0.77288647107092068},\n",
       "             'B000B68LSG': {'num_reviews': 26,\n",
       "              'score_stdev': 0.73782023435580313},\n",
       "             'B00009R8DD': {'num_reviews': 25,\n",
       "              'score_stdev': 0.82559069762201176},\n",
       "             'B000AM3U2I': {'num_reviews': 90,\n",
       "              'score_stdev': 0.77427783956374874},\n",
       "             'B0002OZXG0': {'num_reviews': 5, 'score_stdev': 1.16619037896906},\n",
       "             'B0000AKVJC': {'num_reviews': 33,\n",
       "              'score_stdev': 0.92511136499840885},\n",
       "             'B00008KA6Z': {'num_reviews': 20,\n",
       "              'score_stdev': 1.0618380290797651},\n",
       "             'B00008IP4W': {'num_reviews': 5,\n",
       "              'score_stdev': 1.019803902718557},\n",
       "             'B00017LUOC': {'num_reviews': 20,\n",
       "              'score_stdev': 0.90000000000000002},\n",
       "             'B0006HW668': {'num_reviews': 16,\n",
       "              'score_stdev': 1.0135796712641785},\n",
       "             'B00017LTFC': {'num_reviews': 10,\n",
       "              'score_stdev': 1.5362291495737217},\n",
       "             'B000A5TAT2': {'num_reviews': 156,\n",
       "              'score_stdev': 0.85513877670011751},\n",
       "             'B0006HU49E': {'num_reviews': 18,\n",
       "              'score_stdev': 0.74535599249992979},\n",
       "             'B00015Y0FK': {'num_reviews': 39,\n",
       "              'score_stdev': 0.58694990473126141},\n",
       "             'B00008VE1B': {'num_reviews': 7,\n",
       "              'score_stdev': 1.4142135623730951},\n",
       "             'B000652LUG': {'num_reviews': 50,\n",
       "              'score_stdev': 1.4260434775980708},\n",
       "             'B00005LEOD': {'num_reviews': 16,\n",
       "              'score_stdev': 0.55901699437494745},\n",
       "             'B000DZFSFY': {'num_reviews': 17,\n",
       "              'score_stdev': 1.1997692973159495},\n",
       "             'B000068MGO': {'num_reviews': 5,\n",
       "              'score_stdev': 1.019803902718557},\n",
       "             'B0008IV9R2': {'num_reviews': 5,\n",
       "              'score_stdev': 1.3564659966250536},\n",
       "             'B000652M6Y': {'num_reviews': 557,\n",
       "              'score_stdev': 1.1325543678900811},\n",
       "             'B0001HKILS': {'num_reviews': 11,\n",
       "              'score_stdev': 0.44536177141512334},\n",
       "             'B000050M6M': {'num_reviews': 9,\n",
       "              'score_stdev': 0.6849348892187751},\n",
       "             'B00005ATME': {'num_reviews': 8,\n",
       "              'score_stdev': 0.4330127018922193},\n",
       "             'B00009XT3H': {'num_reviews': 25,\n",
       "              'score_stdev': 1.3266499161421599},\n",
       "             'B00024L6P2': {'num_reviews': 5,\n",
       "              'score_stdev': 1.6000000000000003},\n",
       "             'B000BSY3UY': {'num_reviews': 8,\n",
       "              'score_stdev': 1.0532687216470449},\n",
       "             'B0002C84B8': {'num_reviews': 5,\n",
       "              'score_stdev': 0.9797958971132712},\n",
       "             'B00005ARK4': {'num_reviews': 41,\n",
       "              'score_stdev': 1.3632379134128898},\n",
       "             'B000AXQFJC': {'num_reviews': 8,\n",
       "              'score_stdev': 0.33071891388307384},\n",
       "             'B00093OLKS': {'num_reviews': 12,\n",
       "              'score_stdev': 1.0274023338281628},\n",
       "             'B0000511GQ': {'num_reviews': 15,\n",
       "              'score_stdev': 1.3597385369580759},\n",
       "             'B00004RD8K': {'num_reviews': 7,\n",
       "              'score_stdev': 1.3552618543578767},\n",
       "             'B000BTGVV2': {'num_reviews': 20,\n",
       "              'score_stdev': 1.3416407864998738},\n",
       "             'B000A213HC': {'num_reviews': 41,\n",
       "              'score_stdev': 1.2450974651805091},\n",
       "             'B00003G1RE': {'num_reviews': 8,\n",
       "              'score_stdev': 1.3228756555322954},\n",
       "             'B0002OZXHO': {'num_reviews': 86,\n",
       "              'score_stdev': 1.342456842201897},\n",
       "             'B0000E2PMA': {'num_reviews': 13,\n",
       "              'score_stdev': 1.2686478848054341},\n",
       "             'B0000C4DWW': {'num_reviews': 5,\n",
       "              'score_stdev': 0.4898979485566356},\n",
       "             'B0007Z6RAA': {'num_reviews': 20,\n",
       "              'score_stdev': 0.83066238629180755},\n",
       "             'B000051SGX': {'num_reviews': 25,\n",
       "              'score_stdev': 1.5929846201391902},\n",
       "             'B0006PRU20': {'num_reviews': 7,\n",
       "              'score_stdev': 0.3499271061118826},\n",
       "             'B00012F7G4': {'num_reviews': 29,\n",
       "              'score_stdev': 1.2014656131161618},\n",
       "             'B00004TWM3': {'num_reviews': 7,\n",
       "              'score_stdev': 1.3850513878332367},\n",
       "             'B0000633DU': {'num_reviews': 9,\n",
       "              'score_stdev': 0.31426968052735449},\n",
       "             'B000932AMO': {'num_reviews': 11,\n",
       "              'score_stdev': 0.44536177141512334},\n",
       "             'B00030F6OC': {'num_reviews': 9,\n",
       "              'score_stdev': 0.6849348892187751},\n",
       "             'B00008L3HH': {'num_reviews': 11,\n",
       "              'score_stdev': 1.2398346997259868},\n",
       "             'B00006HMR3': {'num_reviews': 12,\n",
       "              'score_stdev': 1.2247448713915889},\n",
       "             'B00019OENY': {'num_reviews': 9,\n",
       "              'score_stdev': 0.41573970964154905},\n",
       "             'B00006B6BS': {'num_reviews': 6,\n",
       "              'score_stdev': 1.4907119849998596},\n",
       "             'B0007Z1M50': {'num_reviews': 197,\n",
       "              'score_stdev': 0.94260556100049353},\n",
       "             'B0002JABOY': {'num_reviews': 8,\n",
       "              'score_stdev': 1.6393596310755001},\n",
       "             'B0007WQ8VQ': {'num_reviews': 5,\n",
       "              'score_stdev': 1.2649110640673518},\n",
       "             'B0000AKGX3': {'num_reviews': 8,\n",
       "              'score_stdev': 0.69597054535375269},\n",
       "             'B00005137P': {'num_reviews': 19,\n",
       "              'score_stdev': 0.67401307762451035},\n",
       "             'B00092Q210': {'num_reviews': 10,\n",
       "              'score_stdev': 1.2489995996796797},\n",
       "             'B0000E1FDE': {'num_reviews': 5,\n",
       "              'score_stdev': 0.80000000000000004},\n",
       "             'B000EGHYBS': {'num_reviews': 5,\n",
       "              'score_stdev': 1.6000000000000001},\n",
       "             'B00023431M': {'num_reviews': 9,\n",
       "              'score_stdev': 0.87488976377909022},\n",
       "             'B000BI655U': {'num_reviews': 10,\n",
       "              'score_stdev': 1.374772708486752},\n",
       "             'B000E0RBIK': {'num_reviews': 6,\n",
       "              'score_stdev': 0.76376261582597338},\n",
       "             'B0006PKY5A': {'num_reviews': 17,\n",
       "              'score_stdev': 1.4239668749306122},\n",
       "             'B0000DBMHR': {'num_reviews': 5, 'score_stdev': 1.16619037896906},\n",
       "             'B0001KWGP6': {'num_reviews': 22,\n",
       "              'score_stdev': 1.2339883600452934},\n",
       "             'B000DZMC3K': {'num_reviews': 36,\n",
       "              'score_stdev': 0.97618241060030997},\n",
       "             'B000CSWHCY': {'num_reviews': 36,\n",
       "              'score_stdev': 1.0754700379225521},\n",
       "             'B0001HKIJK': {'num_reviews': 22,\n",
       "              'score_stdev': 1.0611470481753413},\n",
       "             'B0001YFX7U': {'num_reviews': 6,\n",
       "              'score_stdev': 1.1055415967851332},\n",
       "             'B00000J3II': {'num_reviews': 8, 'score_stdev': 1.5},\n",
       "             'B00005UK8V': {'num_reviews': 7,\n",
       "              'score_stdev': 1.456862718169367},\n",
       "             'B0006G36TA': {'num_reviews': 36,\n",
       "              'score_stdev': 1.5896559919804996},\n",
       "             'B0000513US': {'num_reviews': 36,\n",
       "              'score_stdev': 0.46064233199380555},\n",
       "             'B0000643QX': {'num_reviews': 5, 'score_stdev': 0.0},\n",
       "             'B000CP31E0': {'num_reviews': 8,\n",
       "              'score_stdev': 0.4330127018922193},\n",
       "             'B0001BRITE': {'num_reviews': 14,\n",
       "              'score_stdev': 1.1248582677159731},\n",
       "             'B000EOPQ7E': {'num_reviews': 229,\n",
       "              'score_stdev': 1.0873976237038432},\n",
       "             'B00006B8JX': {'num_reviews': 20,\n",
       "              'score_stdev': 0.66895440801298267},\n",
       "             'B0009IIE56': {'num_reviews': 8,\n",
       "              'score_stdev': 1.7320508075688772},\n",
       "             'B000ER23M2': {'num_reviews': 10,\n",
       "              'score_stdev': 1.2845232578665129},\n",
       "             'B00008AIVB': {'num_reviews': 6,\n",
       "              'score_stdev': 0.37267799624996495},\n",
       "             'B00006HVLP': {'num_reviews': 12,\n",
       "              'score_stdev': 0.62360956446232352},\n",
       "             'B0002J6Z6W': {'num_reviews': 5,\n",
       "              'score_stdev': 1.2649110640673518},\n",
       "             'B00009NQQ6': {'num_reviews': 7,\n",
       "              'score_stdev': 1.6035674514745464},\n",
       "             'B000BI1XNE': {'num_reviews': 54,\n",
       "              'score_stdev': 1.536144319065962},\n",
       "             'B00000JDF8': {'num_reviews': 14,\n",
       "              'score_stdev': 1.1157499537009508},\n",
       "             'B00064OB3M': {'num_reviews': 7,\n",
       "              'score_stdev': 1.0301575072754257},\n",
       "             'B00004STHL': {'num_reviews': 11,\n",
       "              'score_stdev': 1.776801844153824},\n",
       "             'B0002A9U7M': {'num_reviews': 59,\n",
       "              'score_stdev': 1.2357780429530973},\n",
       "             'B0002J2R2I': {'num_reviews': 9,\n",
       "              'score_stdev': 1.4487116456005886},\n",
       "             '9984984362': {'num_reviews': 5,\n",
       "              'score_stdev': 0.80000000000000004},\n",
       "             'B00004Z5VB': {'num_reviews': 18,\n",
       "              'score_stdev': 1.5446043082730936},\n",
       "             'B00005NIMN': {'num_reviews': 9,\n",
       "              'score_stdev': 1.3146843962443591},\n",
       "             'B000A2813G': {'num_reviews': 8,\n",
       "              'score_stdev': 1.0897247358851685},\n",
       "             'B000066E70': {'num_reviews': 5,\n",
       "              'score_stdev': 1.6248076809271921},\n",
       "             'B00009R6FV': {'num_reviews': 42,\n",
       "              'score_stdev': 0.41239304942116123},\n",
       "             'B000067RJB': {'num_reviews': 25,\n",
       "              'score_stdev': 0.32496153618543844},\n",
       "             'B0000AE67G': {'num_reviews': 6,\n",
       "              'score_stdev': 1.3437096247164249},\n",
       "             'B000EGLXTW': {'num_reviews': 31,\n",
       "              'score_stdev': 0.94489151715334274},\n",
       "             'B00004THCX': {'num_reviews': 9,\n",
       "              'score_stdev': 1.1967032904743342},\n",
       "             'B0000EZQ5K': {'num_reviews': 12,\n",
       "              'score_stdev': 1.178511301977579},\n",
       "             'B00000JD34': {'num_reviews': 21,\n",
       "              'score_stdev': 1.132893071749554},\n",
       "             'B0009BX0AM': {'num_reviews': 36,\n",
       "              'score_stdev': 0.66666666666666663},\n",
       "             'B00008X5E8': {'num_reviews': 5, 'score_stdev': 0.0},\n",
       "             'B00005ICE1': {'num_reviews': 6, 'score_stdev': 0.0},\n",
       "             'B0000UUXAC': {'num_reviews': 6,\n",
       "              'score_stdev': 1.1055415967851332},\n",
       "             'B0007SL4IW': {'num_reviews': 110,\n",
       "              'score_stdev': 1.2756136102459192},\n",
       "             'B0001IXUDK': {'num_reviews': 24,\n",
       "              'score_stdev': 1.7775607506417952},\n",
       "             'B000050MNA': {'num_reviews': 7,\n",
       "              'score_stdev': 0.3499271061118826},\n",
       "             'B0007U83HU': {'num_reviews': 15,\n",
       "              'score_stdev': 0.61101009266077855},\n",
       "             'B00008VSLB': {'num_reviews': 6,\n",
       "              'score_stdev': 1.1055415967851332},\n",
       "             'B00006HYAQ': {'num_reviews': 6,\n",
       "              'score_stdev': 1.4624940645653537},\n",
       "             'B000COS81W': {'num_reviews': 6, 'score_stdev': 0.0},\n",
       "             'B00008XETO': {'num_reviews': 33,\n",
       "              'score_stdev': 1.2799219443601744},\n",
       "             'B000051WW9': {'num_reviews': 16,\n",
       "              'score_stdev': 1.3693063937629153},\n",
       "             'B00008VFCW': {'num_reviews': 10,\n",
       "              'score_stdev': 1.4456832294800961},\n",
       "             'B000CSQK5E': {'num_reviews': 25,\n",
       "              'score_stdev': 1.5147276983009192},\n",
       "             'B00079F7L6': {'num_reviews': 7,\n",
       "              'score_stdev': 0.49487165930539351},\n",
       "             'B0002D6KAE': {'num_reviews': 6, 'score_stdev': 1.49071198499986},\n",
       "             'B0002ERY6W': {'num_reviews': 6,\n",
       "              'score_stdev': 1.699673171197595},\n",
       "             'B000A7JKI6': {'num_reviews': 7,\n",
       "              'score_stdev': 1.2777531299998799},\n",
       "             'B00063RT82': {'num_reviews': 10,\n",
       "              'score_stdev': 1.4966629547095767},\n",
       "             'B000CQCGSG': {'num_reviews': 11,\n",
       "              'score_stdev': 1.2264306875665492},\n",
       "             'B00029J1JU': {'num_reviews': 7,\n",
       "              'score_stdev': 0.72843135908468348},\n",
       "             'B00009R9CZ': {'num_reviews': 15,\n",
       "              'score_stdev': 0.48989794855663554},\n",
       "             'B0002KQZJS': {'num_reviews': 6,\n",
       "              'score_stdev': 0.68718427093627676},\n",
       "             'B000BW0RRI': {'num_reviews': 5,\n",
       "              'score_stdev': 0.39999999999999997},\n",
       "             'B000BHB5YW': {'num_reviews': 15,\n",
       "              'score_stdev': 1.3165611772087666},\n",
       "             'B0009JR3SO': {'num_reviews': 8,\n",
       "              'score_stdev': 0.70710678118654757},\n",
       "             'B0001OHH5G': {'num_reviews': 14,\n",
       "              'score_stdev': 1.0497813183356479},\n",
       "             'B00005NPW8': {'num_reviews': 13,\n",
       "              'score_stdev': 0.36080121229411},\n",
       "             'B0006A7X36': {'num_reviews': 63,\n",
       "              'score_stdev': 1.6302135970117799},\n",
       "             'B000EGLZUE': {'num_reviews': 28,\n",
       "              'score_stdev': 0.97677102365552448},\n",
       "             'B0007Z6RAU': {'num_reviews': 6,\n",
       "              'score_stdev': 0.37267799624996495},\n",
       "             'B0000AJI8M': {'num_reviews': 11,\n",
       "              'score_stdev': 1.0523488093445661},\n",
       "             'B000ES8C2G': {'num_reviews': 11,\n",
       "              'score_stdev': 0.88139633771205983},\n",
       "             'B0002Q86MQ': {'num_reviews': 9,\n",
       "              'score_stdev': 1.0540925533894596},\n",
       "             'B00006I601': {'num_reviews': 8,\n",
       "              'score_stdev': 1.3169567191065923},\n",
       "             'B0006TIF2K': {'num_reviews': 22,\n",
       "              'score_stdev': 0.98857105322416117},\n",
       "             'B0006GCCN6': {'num_reviews': 33,\n",
       "              'score_stdev': 0.89072354283024657},\n",
       "             'B00005NIMR': {'num_reviews': 80,\n",
       "              'score_stdev': 1.0712142642814275},\n",
       "             'B000BW32IY': {'num_reviews': 10,\n",
       "              'score_stdev': 1.42828568570857},\n",
       "             'B000E5GGQI': {'num_reviews': 21,\n",
       "              'score_stdev': 1.4769583256448404},\n",
       "             'B000234TYI': {'num_reviews': 84,\n",
       "              'score_stdev': 1.1368891796488878},\n",
       "             'B00003WGP5': {'num_reviews': 35,\n",
       "              'score_stdev': 1.3173876438169718},\n",
       "             'B0001CNNYC': {'num_reviews': 7,\n",
       "              'score_stdev': 0.45175395145262559},\n",
       "             'B0006OCZGW': {'num_reviews': 6,\n",
       "              'score_stdev': 1.4624940645653539},\n",
       "             'B00029U0YK': {'num_reviews': 5,\n",
       "              'score_stdev': 0.39999999999999997},\n",
       "             'B000083CUA': {'num_reviews': 36,\n",
       "              'score_stdev': 1.2774758097296577},\n",
       "             'B00022OBRE': {'num_reviews': 30,\n",
       "              'score_stdev': 1.3503086067019396},\n",
       "             'B000A6LSVY': {'num_reviews': 24,\n",
       "              'score_stdev': 1.4976833963009524},\n",
       "             'B00008Z1QE': {'num_reviews': 7,\n",
       "              'score_stdev': 1.1780301787479031},\n",
       "             'B00005S0M5': {'num_reviews': 14,\n",
       "              'score_stdev': 1.1157499537009508},\n",
       "             'B00067OF80': {'num_reviews': 82,\n",
       "              'score_stdev': 0.89781279606370545},\n",
       "             'B0002BF09S': {'num_reviews': 90,\n",
       "              'score_stdev': 0.5286834334831253},\n",
       "             'B000EPHHUM': {'num_reviews': 6,\n",
       "              'score_stdev': 1.4624940645653539},\n",
       "             'B00000J1V8': {'num_reviews': 6, 'score_stdev': 0.0},\n",
       "             'B0000AIS2S': {'num_reviews': 8,\n",
       "              'score_stdev': 0.33071891388307384},\n",
       "             'B000067RM6': {'num_reviews': 5,\n",
       "              'score_stdev': 0.39999999999999997},\n",
       "             'B00005ML7T': {'num_reviews': 5,\n",
       "              'score_stdev': 0.74833147735478822},\n",
       "             'B000087BWL': {'num_reviews': 11,\n",
       "              'score_stdev': 0.64282434653322496},\n",
       "             'B0006VHZJ2': {'num_reviews': 8,\n",
       "              'score_stdev': 0.33071891388307384},\n",
       "             'B000BSMH0C': {'num_reviews': 5,\n",
       "              'score_stdev': 1.2649110640673518},\n",
       "             'B000BIUC7C': {'num_reviews': 6,\n",
       "              'score_stdev': 1.8633899812498247},\n",
       "             'B000E1B29I': {'num_reviews': 16,\n",
       "              'score_stdev': 0.99215674164922152},\n",
       "             'B0002XQI2E': {'num_reviews': 26,\n",
       "              'score_stdev': 0.45508306023843198},\n",
       "             'B0009X6QH4': {'num_reviews': 13,\n",
       "              'score_stdev': 1.3846153846153846},\n",
       "             'B0002Q81XA': {'num_reviews': 10,\n",
       "              'score_stdev': 1.2688577540449522},\n",
       "             'B0007M6122': {'num_reviews': 5,\n",
       "              'score_stdev': 0.48989794855663565},\n",
       "             'B00009W3TZ': {'num_reviews': 22,\n",
       "              'score_stdev': 1.379453718681229},\n",
       "             'B00001ZWXA': {'num_reviews': 136,\n",
       "              'score_stdev': 1.2643424580433389},\n",
       "             'B000EIIGYU': {'num_reviews': 10,\n",
       "              'score_stdev': 0.80622577482985502},\n",
       "             'B0007LCKJQ': {'num_reviews': 41,\n",
       "              'score_stdev': 0.88681263232672414},\n",
       "             'B00008ZPJU': {'num_reviews': 69,\n",
       "              'score_stdev': 1.5564704603865347},\n",
       "             'B0001A3N6C': {'num_reviews': 79,\n",
       "              'score_stdev': 0.71426511289447514},\n",
       "             'B0006BKH3S': {'num_reviews': 66,\n",
       "              'score_stdev': 1.3713586059375467},\n",
       "             'B000165AS0': {'num_reviews': 28,\n",
       "              'score_stdev': 1.3850513878332367},\n",
       "             'B000EDJKUY': {'num_reviews': 6,\n",
       "              'score_stdev': 0.94280904158206336},\n",
       "             'B0002BBP7Y': {'num_reviews': 40,\n",
       "              'score_stdev': 1.1079259903080168},\n",
       "             'B00015H0XE': {'num_reviews': 5,\n",
       "              'score_stdev': 1.3564659966250538},\n",
       "             'B00009UTYE': {'num_reviews': 7, 'score_stdev': 0.0},\n",
       "             'B00005B6S7': {'num_reviews': 5,\n",
       "              'score_stdev': 1.3564659966250536},\n",
       "             'B00005R8PW': {'num_reviews': 5,\n",
       "              'score_stdev': 1.2649110640673518},\n",
       "             'B00026C4GA': {'num_reviews': 6, 'score_stdev': 0.5},\n",
       "             'B0001EZN2A': {'num_reviews': 6,\n",
       "              'score_stdev': 1.2583057392117916},\n",
       "             'B0002AFTDQ': {'num_reviews': 6, 'score_stdev': 0.0},\n",
       "             'B00009R8B9': {'num_reviews': 6, 'score_stdev': 0.0},\n",
       "             'B000001OMZ': {'num_reviews': 6,\n",
       "              'score_stdev': 0.74535599249992979},\n",
       "             'B0002JTD2K': {'num_reviews': 16,\n",
       "              'score_stdev': 0.99215674164922152},\n",
       "             'B0002P19O4': {'num_reviews': 7,\n",
       "              'score_stdev': 1.1605769149479943},\n",
       "             'B000CNM8ZU': {'num_reviews': 11,\n",
       "              'score_stdev': 1.504813214295168},\n",
       "             'B000056SJU': {'num_reviews': 5,\n",
       "              'score_stdev': 1.0954451150103321},\n",
       "             'B0001YFW94': {'num_reviews': 5,\n",
       "              'score_stdev': 0.4898979485566356},\n",
       "             'B000A7925C': {'num_reviews': 10,\n",
       "              'score_stdev': 0.59999999999999998},\n",
       "             'B00009R86L': {'num_reviews': 59,\n",
       "              'score_stdev': 1.0044428739002746},\n",
       "             'B00004SC3Y': {'num_reviews': 7,\n",
       "              'score_stdev': 0.45175395145262565},\n",
       "             'B00013ZI08': {'num_reviews': 6,\n",
       "              'score_stdev': 0.37267799624996495},\n",
       "             'B0000VD3PS': {'num_reviews': 5,\n",
       "              'score_stdev': 1.3266499161421601},\n",
       "             'B000ELSY0I': {'num_reviews': 43,\n",
       "              'score_stdev': 0.63005661321600315},\n",
       "             'B00009WQS1': {'num_reviews': 75,\n",
       "              'score_stdev': 1.2793053670731716},\n",
       "             'B000E1DSAE': {'num_reviews': 61,\n",
       "              'score_stdev': 1.1118573742828308},\n",
       "             'B0002SAF3C': {'num_reviews': 22,\n",
       "              'score_stdev': 0.78202956973114768},\n",
       "             'B00006343W': {'num_reviews': 5,\n",
       "              'score_stdev': 1.6000000000000001},\n",
       "             'B0000DYUZI': {'num_reviews': 12,\n",
       "              'score_stdev': 1.0374916331657276},\n",
       "             'B00006IROV': {'num_reviews': 10,\n",
       "              'score_stdev': 1.2489995996796797},\n",
       "             'B0007XGORI': {'num_reviews': 7,\n",
       "              'score_stdev': 1.3093073414159542},\n",
       "             'B00028D778': {'num_reviews': 60,\n",
       "              'score_stdev': 1.4255603186895398},\n",
       "             'B000068O3V': {'num_reviews': 5, 'score_stdev': 1.16619037896906},\n",
       "             'B00009R76N': {'num_reviews': 6, 'score_stdev': 0.0},\n",
       "             'B0009J68KI': {'num_reviews': 6,\n",
       "              'score_stdev': 1.6749792701868149},\n",
       "             'B00006JPNE': {'num_reviews': 15,\n",
       "              'score_stdev': 1.1813363431112898},\n",
       "             'B000BSGCY4': {'num_reviews': 8,\n",
       "              'score_stdev': 1.5360257159305635},\n",
       "             'B00021XPZE': {'num_reviews': 14,\n",
       "              'score_stdev': 1.6035674514745464},\n",
       "             'B00006JQ5Z': {'num_reviews': 6,\n",
       "              'score_stdev': 0.372677996249965},\n",
       "             'B00009R87A': {'num_reviews': 6,\n",
       "              'score_stdev': 1.0671873729054748},\n",
       "             'B0007QCO6A': {'num_reviews': 19,\n",
       "              'score_stdev': 1.4509525002200232},\n",
       "             'B00026ID5Q': {'num_reviews': 8,\n",
       "              'score_stdev': 1.2686114456365274},\n",
       "             'B0002NUECY': {'num_reviews': 12,\n",
       "              'score_stdev': 1.2247448713915889},\n",
       "             'B00009W5KJ': {'num_reviews': 11,\n",
       "              'score_stdev': 1.311109554714178},\n",
       "             'B000DT8KWS': {'num_reviews': 6,\n",
       "              'score_stdev': 0.37267799624996495},\n",
       "             'B0000TN0ZS': {'num_reviews': 5, 'score_stdev': 0.0},\n",
       "             'B000A6TN9I': {'num_reviews': 14,\n",
       "              'score_stdev': 1.4232042032265197},\n",
       "             'B00065HLYM': {'num_reviews': 5,\n",
       "              'score_stdev': 0.74833147735478822},\n",
       "             'B0000BV1LS': {'num_reviews': 13,\n",
       "              'score_stdev': 0.84265008846948641},\n",
       "             'B0000BZOGJ': {'num_reviews': 187,\n",
       "              'score_stdev': 0.99093665097845429},\n",
       "             'B00009WBYL': {'num_reviews': 49,\n",
       "              'score_stdev': 0.32780364090222469},\n",
       "             'B0007CIWZG': {'num_reviews': 26,\n",
       "              'score_stdev': 1.3395442128667692},\n",
       "             'B00009N6VQ': {'num_reviews': 5,\n",
       "              'score_stdev': 1.019803902718557},\n",
       "             'B00009WBYK': {'num_reviews': 11,\n",
       "              'score_stdev': 0.4810456929208346},\n",
       "             'B00008X5DC': {'num_reviews': 6,\n",
       "              'score_stdev': 1.6072751268321592},\n",
       "             'B000E9BYXE': {'num_reviews': 7,\n",
       "              'score_stdev': 0.49487165930539351},\n",
       "             'B000068O4Y': {'num_reviews': 12,\n",
       "              'score_stdev': 0.62360956446232352},\n",
       "             'B0002GRU1O': {'num_reviews': 7,\n",
       "              'score_stdev': 0.6998542122237652},\n",
       "             'B0002EOFFK': {'num_reviews': 24,\n",
       "              'score_stdev': 1.3437096247164249},\n",
       "             'B00083CZD4': {'num_reviews': 7,\n",
       "              'score_stdev': 0.45175395145262559},\n",
       "             'B00004TS39': {'num_reviews': 10,\n",
       "              'score_stdev': 0.6403124237432849},\n",
       "             'B0001M47F6': {'num_reviews': 16,\n",
       "              'score_stdev': 1.0288798520721456},\n",
       "             'B00008WIX5': {'num_reviews': 20,\n",
       "              'score_stdev': 0.94207218407083859},\n",
       "             'B000EPTA0C': {'num_reviews': 17,\n",
       "              'score_stdev': 1.0323487514578966},\n",
       "             'B00006YZ3Y': {'num_reviews': 36,\n",
       "              'score_stdev': 0.89580641647761661},\n",
       "             'B0000DIESW': {'num_reviews': 18,\n",
       "              'score_stdev': 1.3743685418725535},\n",
       "             'B000281X6U': {'num_reviews': 7,\n",
       "              'score_stdev': 1.3552618543578769},\n",
       "             'B0002Y5WW0': {'num_reviews': 5,\n",
       "              'score_stdev': 0.79999999999999993},\n",
       "             'B00007DTDX': {'num_reviews': 5,\n",
       "              'score_stdev': 1.2649110640673518},\n",
       "             'B000EDB1II': {'num_reviews': 41,\n",
       "              'score_stdev': 1.2450974651805091},\n",
       "             'B00001W0EQ': {'num_reviews': 70,\n",
       "              'score_stdev': 1.2246615525798736},\n",
       "             'B0009292SK': {'num_reviews': 8,\n",
       "              'score_stdev': 1.5360257159305635},\n",
       "             'B0002K6Y9E': {'num_reviews': 39,\n",
       "              'score_stdev': 1.3164612977429166},\n",
       "             'B00067TQ4S': {'num_reviews': 6,\n",
       "              'score_stdev': 1.2133516482134197},\n",
       "             'B0002IOIMQ': {'num_reviews': 126,\n",
       "              'score_stdev': 1.3031349683665898},\n",
       "             'B0000AOWWY': {'num_reviews': 29,\n",
       "              'score_stdev': 1.2566115281578345},\n",
       "             'B0006ZSQL4': {'num_reviews': 11,\n",
       "              'score_stdev': 1.1354541815269814},\n",
       "             'B0001DQ5YG': {'num_reviews': 49,\n",
       "              'score_stdev': 1.0879675865519869},\n",
       "             'B000ANOYMM': {'num_reviews': 7,\n",
       "              'score_stdev': 0.45175395145262565},\n",
       "             'B00006JPU2': {'num_reviews': 8,\n",
       "              'score_stdev': 1.165922381636102},\n",
       "             'B0001LRIT4': {'num_reviews': 28,\n",
       "              'score_stdev': 1.2392393980641052},\n",
       "             'B000AYGDWU': {'num_reviews': 21,\n",
       "              'score_stdev': 1.4443572274383905},\n",
       "             'B0009MFTTG': {'num_reviews': 5,\n",
       "              'score_stdev': 1.4696938456699069},\n",
       "             'B000068IGP': {'num_reviews': 6,\n",
       "              'score_stdev': 1.4142135623730951},\n",
       "             'B0000ULNW4': {'num_reviews': 5,\n",
       "              'score_stdev': 0.63245553203367588},\n",
       "             'B000ETKXHW': {'num_reviews': 5,\n",
       "              'score_stdev': 0.74833147735478822},\n",
       "             'B0006HIMFM': {'num_reviews': 8,\n",
       "              'score_stdev': 1.1110243021644486},\n",
       "             'B000EQW5SA': {'num_reviews': 9,\n",
       "              'score_stdev': 1.640535895581489},\n",
       "             'B0007WQ7JE': {'num_reviews': 7,\n",
       "              'score_stdev': 0.72843135908468348},\n",
       "             'B0000665UZ': {'num_reviews': 13,\n",
       "              'score_stdev': 0.92946507489189023},\n",
       "             'B00067OEPE': {'num_reviews': 5,\n",
       "              'score_stdev': 0.9797958971132712},\n",
       "             'B0007WIC1K': {'num_reviews': 9,\n",
       "              'score_stdev': 1.247219128924647},\n",
       "             'B00005Y1S2': {'num_reviews': 10,\n",
       "              'score_stdev': 1.4142135623730951},\n",
       "             'B0009WRUZ2': {'num_reviews': 10,\n",
       "              'score_stdev': 0.29999999999999999},\n",
       "             'B00000J08Q': {'num_reviews': 16,\n",
       "              'score_stdev': 1.541103500742244},\n",
       "             'B0000CCOVM': {'num_reviews': 9,\n",
       "              'score_stdev': 1.227262335243029},\n",
       "             'B0006SD4PE': {'num_reviews': 21,\n",
       "              'score_stdev': 1.4013275209106819},\n",
       "             'B0007TJDFM': {'num_reviews': 7,\n",
       "              'score_stdev': 1.2453996981544782},\n",
       "             'B000BLEMHU': {'num_reviews': 9,\n",
       "              'score_stdev': 0.66666666666666663},\n",
       "             'B00007EDYD': {'num_reviews': 5,\n",
       "              'score_stdev': 0.39999999999999997},\n",
       "             'B0000B3AKR': {'num_reviews': 7,\n",
       "              'score_stdev': 1.1780301787479031},\n",
       "             'B00006K0WT': {'num_reviews': 6, 'score_stdev': 0.5},\n",
       "             'B00083Y85C': {'num_reviews': 14,\n",
       "              'score_stdev': 1.2535663410560174},\n",
       "             'B000ASTKWQ': {'num_reviews': 43,\n",
       "              'score_stdev': 0.84364451847521182},\n",
       "             'B00004SB92': {'num_reviews': 244,\n",
       "              'score_stdev': 1.3148011111336253},\n",
       "             'B00080G0BK': {'num_reviews': 269,\n",
       "              'score_stdev': 0.84926136699716182},\n",
       "             'B00000JGNB': {'num_reviews': 9,\n",
       "              'score_stdev': 0.9938079899999066},\n",
       "             'B0000DC65O': {'num_reviews': 13,\n",
       "              'score_stdev': 1.8235799370968768},\n",
       "             'B00004WHF4': {'num_reviews': 12,\n",
       "              'score_stdev': 0.59511903571190417},\n",
       "             'B000068P8W': {'num_reviews': 101,\n",
       "              'score_stdev': 1.4003514620385857},\n",
       "             'B0009GZG5O': {'num_reviews': 11,\n",
       "              'score_stdev': 0.98752549920001964},\n",
       "             'B000EQKXFM': {'num_reviews': 6,\n",
       "              'score_stdev': 1.3437096247164249},\n",
       "             'B0002ZDIKW': {'num_reviews': 42,\n",
       "              'score_stdev': 0.93192313289432982},\n",
       "             'B000EISIQQ': {'num_reviews': 11,\n",
       "              'score_stdev': 0.28747978728803447},\n",
       "             'B0006HBBFA': {'num_reviews': 6,\n",
       "              'score_stdev': 0.37267799624996495},\n",
       "             'B000067INH': {'num_reviews': 7,\n",
       "              'score_stdev': 0.6998542122237652},\n",
       "             'B0007XYI9O': {'num_reviews': 12,\n",
       "              'score_stdev': 0.5527707983925666},\n",
       "             'B000EOQYMA': {'num_reviews': 9,\n",
       "              'score_stdev': 1.3146843962443591},\n",
       "             'B00028JH9U': {'num_reviews': 6,\n",
       "              'score_stdev': 1.4142135623730951},\n",
       "             'B00005114Z': {'num_reviews': 40,\n",
       "              'score_stdev': 1.0485108487755384},\n",
       "             'B00006MJFL': {'num_reviews': 5,\n",
       "              'score_stdev': 0.80000000000000004},\n",
       "             'B0000658CD': {'num_reviews': 12,\n",
       "              'score_stdev': 1.1636866703140785},\n",
       "             'B0009IQ62Y': {'num_reviews': 5,\n",
       "              'score_stdev': 0.48989794855663565},\n",
       "             'B0000AHO8V': {'num_reviews': 11,\n",
       "              'score_stdev': 1.3787046261911911},\n",
       "             'B0007OWNBS': {'num_reviews': 8,\n",
       "              'score_stdev': 1.7853571071357126},\n",
       "             'B0009JY6PM': {'num_reviews': 7,\n",
       "              'score_stdev': 1.5518257844571737},\n",
       "             'B00006LS92': {'num_reviews': 8,\n",
       "              'score_stdev': 0.92702481088695787},\n",
       "             'B000B9UHCQ': {'num_reviews': 6,\n",
       "              'score_stdev': 1.4624940645653537},\n",
       "             'B00006B8EX': {'num_reviews': 7,\n",
       "              'score_stdev': 0.6998542122237652},\n",
       "             'B0002K6Y1C': {'num_reviews': 16, 'score_stdev': 0.75},\n",
       "             'B0001PFO3C': {'num_reviews': 14, 'score_stdev': 1.5},\n",
       "             'B000EG4GGY': {'num_reviews': 6,\n",
       "              'score_stdev': 0.47140452079103168},\n",
       "             'B0002805TG': {'num_reviews': 12,\n",
       "              'score_stdev': 1.1636866703140785},\n",
       "             'B00009R88X': {'num_reviews': 18,\n",
       "              'score_stdev': 1.0137937550497031},\n",
       "             'B00005111L': {'num_reviews': 31,\n",
       "              'score_stdev': 0.82997937614636197},\n",
       "             'B000281XGK': {'num_reviews': 18,\n",
       "              'score_stdev': 1.0657403385139377},\n",
       "             'B00006B6PI': {'num_reviews': 5,\n",
       "              'score_stdev': 1.6000000000000001},\n",
       "             'B00009R6PX': {'num_reviews': 6, 'score_stdev': 0.0},\n",
       "             'B0000CEPA5': {'num_reviews': 9,\n",
       "              'score_stdev': 1.4989708403591155},\n",
       "             'B0002ARK2O': {'num_reviews': 5,\n",
       "              'score_stdev': 1.8330302779823362},\n",
       "             'B000BP8XTO': {'num_reviews': 16,\n",
       "              'score_stdev': 1.0588171466310885},\n",
       "             'B00005K47X': {'num_reviews': 153,\n",
       "              'score_stdev': 0.70157241480751475},\n",
       "             'B00005OQMO': {'num_reviews': 25,\n",
       "              'score_stdev': 0.78587530817553997},\n",
       "             'B0002SAF64': {'num_reviews': 24,\n",
       "              'score_stdev': 1.4337208778404378},\n",
       "             'B00009R6AY': {'num_reviews': 27,\n",
       "              'score_stdev': 0.78741820835071474},\n",
       "             'B00006HTTE': {'num_reviews': 5, 'score_stdev': 1.16619037896906},\n",
       "             'B0007ZGXQI': {'num_reviews': 6,\n",
       "              'score_stdev': 0.74535599249992979},\n",
       "             'B0002YTKAK': {'num_reviews': 5,\n",
       "              'score_stdev': 0.39999999999999997},\n",
       "             'B0000ZQTAU': {'num_reviews': 6,\n",
       "              'score_stdev': 0.372677996249965},\n",
       "             'B000E0IW1A': {'num_reviews': 5,\n",
       "              'score_stdev': 0.39999999999999997},\n",
       "             'B000CHRK6S': {'num_reviews': 31,\n",
       "              'score_stdev': 1.3897199502282591},\n",
       "             'B0007Y836W': {'num_reviews': 58,\n",
       "              'score_stdev': 0.69502221968090949},\n",
       "             'B000231D1K': {'num_reviews': 19,\n",
       "              'score_stdev': 0.48237638894272011},\n",
       "             'B0002CE0XY': {'num_reviews': 32,\n",
       "              'score_stdev': 1.4303490614182259},\n",
       "             'B0002OKCX4': {'num_reviews': 24,\n",
       "              'score_stdev': 0.6332785063987777},\n",
       "             'B0003NN80S': {'num_reviews': 13,\n",
       "              'score_stdev': 1.309952797378954},\n",
       "             'B00008A6CC': {'num_reviews': 6,\n",
       "              'score_stdev': 1.8633899812498247},\n",
       "             'B000068O4C': {'num_reviews': 13,\n",
       "              'score_stdev': 0.42132504423474321},\n",
       "             'B000E40RB4': {'num_reviews': 7,\n",
       "              'score_stdev': 1.5518257844571735},\n",
       "             'B0000658CG': {'num_reviews': 12,\n",
       "              'score_stdev': 1.3844373104863459},\n",
       "             'B000ARPLXY': {'num_reviews': 7, 'score_stdev': 0.0},\n",
       "             'B00003CWDQ': {'num_reviews': 45,\n",
       "              'score_stdev': 1.3824294235551815},\n",
       "             'B000CKBLBU': {'num_reviews': 8,\n",
       "              'score_stdev': 0.99215674164922152},\n",
       "             'B00064YZAQ': {'num_reviews': 5,\n",
       "              'score_stdev': 0.63245553203367588},\n",
       "             'B000BTEDRG': {'num_reviews': 5,\n",
       "              'score_stdev': 1.4696938456699069},\n",
       "             'B000A1FFOK': {'num_reviews': 38,\n",
       "              'score_stdev': 1.4300398072835288},\n",
       "             'B000BYEW1I': {'num_reviews': 7,\n",
       "              'score_stdev': 0.90350790290525129},\n",
       "             'B0007ZGXO0': {'num_reviews': 8,\n",
       "              'score_stdev': 1.299038105676658},\n",
       "             'B0000B006W': {'num_reviews': 185,\n",
       "              'score_stdev': 0.78859659350645994},\n",
       "             'B0001VWIR6': {'num_reviews': 30,\n",
       "              'score_stdev': 0.91954094827558153},\n",
       "             'B0006NAB96': {'num_reviews': 5,\n",
       "              'score_stdev': 1.2649110640673518},\n",
       "             'B00006HYPD': {'num_reviews': 24,\n",
       "              'score_stdev': 0.76262521740513023},\n",
       "             'B00009R6LU': {'num_reviews': 11,\n",
       "              'score_stdev': 1.6006197146962737},\n",
       "             'B0001FV30K': {'num_reviews': 21,\n",
       "              'score_stdev': 1.1799534946060826},\n",
       "             'B0002EE5JQ': {'num_reviews': 13,\n",
       "              'score_stdev': 0.36080121229411},\n",
       "             'B00006LHDV': {'num_reviews': 13,\n",
       "              'score_stdev': 0.46153846153846162},\n",
       "             'B0001976UC': {'num_reviews': 6,\n",
       "              'score_stdev': 0.76376261582597338},\n",
       "             'B00008OE46': {'num_reviews': 18,\n",
       "              'score_stdev': 0.8314794192830981},\n",
       "             'B000621N26': {'num_reviews': 9,\n",
       "              'score_stdev': 0.31426968052735449},\n",
       "             'B00006IJO4': {'num_reviews': 21,\n",
       "              'score_stdev': 0.64241607443962101},\n",
       "             'B00005OP33': {'num_reviews': 8,\n",
       "              'score_stdev': 0.59947894041408989},\n",
       "             'B0007LJHVK': {'num_reviews': 107,\n",
       "              'score_stdev': 1.0106429878264103},\n",
       "             'B0006MWPSM': {'num_reviews': 6,\n",
       "              'score_stdev': 0.47140452079103168},\n",
       "             'B00006B8BS': {'num_reviews': 45,\n",
       "              'score_stdev': 0.97979589711327131},\n",
       "             'B0000665P7': {'num_reviews': 8,\n",
       "              'score_stdev': 1.4086784586980805},\n",
       "             'B0001UPRNO': {'num_reviews': 9,\n",
       "              'score_stdev': 1.2862041003100251},\n",
       "             'B00009R6OO': {'num_reviews': 6,\n",
       "              'score_stdev': 0.47140452079103168},\n",
       "             'B0002BESTQ': {'num_reviews': 23,\n",
       "              'score_stdev': 1.0159409952650367},\n",
       "             'B0009ZBRRQ': {'num_reviews': 7,\n",
       "              'score_stdev': 0.83299312783504287},\n",
       "             'B0002HV4OW': {'num_reviews': 6,\n",
       "              'score_stdev': 1.3743685418725538},\n",
       "             'B000068O0U': {'num_reviews': 17,\n",
       "              'score_stdev': 1.0323487514578966},\n",
       "             'B000EMUM2U': {'num_reviews': 10,\n",
       "              'score_stdev': 1.4696938456699069},\n",
       "             'B0000DFI06': {'num_reviews': 5,\n",
       "              'score_stdev': 0.74833147735478822},\n",
       "             'B0002UE9WI': {'num_reviews': 17,\n",
       "              'score_stdev': 1.2887589588356849},\n",
       "             'B000056SSM': {'num_reviews': 80,\n",
       "              'score_stdev': 1.5539767533653779},\n",
       "             'B000666PL6': {'num_reviews': 6, 'score_stdev': 0.0},\n",
       "             'B000329HEK': {'num_reviews': 23,\n",
       "              'score_stdev': 1.3749033305079912},\n",
       "             'B000815IJO': {'num_reviews': 6,\n",
       "              'score_stdev': 1.1055415967851332},\n",
       "             'B000BTGVUS': {'num_reviews': 58,\n",
       "              'score_stdev': 1.3430580754586514},\n",
       "             'B0009N4OIC': {'num_reviews': 10,\n",
       "              'score_stdev': 1.5132745950421556},\n",
       "             'B00005A3JA': {'num_reviews': 5,\n",
       "              'score_stdev': 0.39999999999999997},\n",
       "             'B0001MZ88G': {'num_reviews': 8,\n",
       "              'score_stdev': 1.3169567191065923},\n",
       "             'B00006B70R': {'num_reviews': 6,\n",
       "              'score_stdev': 1.3437096247164249},\n",
       "             'B000652T8A': {'num_reviews': 28,\n",
       "              'score_stdev': 1.3014905113063286},\n",
       "             'B0009VU7JO': {'num_reviews': 5,\n",
       "              'score_stdev': 1.9595917942265426},\n",
       "             'B00009K3QQ': {'num_reviews': 6,\n",
       "              'score_stdev': 0.47140452079103168},\n",
       "             'B0007WTFAW': {'num_reviews': 8,\n",
       "              'score_stdev': 0.33071891388307384},\n",
       "             'B00005NHH8': {'num_reviews': 15,\n",
       "              'score_stdev': 0.80000000000000004},\n",
       "             'B000083K5N': {'num_reviews': 5,\n",
       "              'score_stdev': 1.9595917942265426},\n",
       "             'B0001V2KS8': {'num_reviews': 7,\n",
       "              'score_stdev': 1.3850513878332367},\n",
       "             'B000EDOSFQ': {'num_reviews': 21,\n",
       "              'score_stdev': 1.2065580437447549},\n",
       "             'B00006343N': {'num_reviews': 14,\n",
       "              'score_stdev': 0.77261813045656913},\n",
       "             'B00005M011': {'num_reviews': 7,\n",
       "              'score_stdev': 0.63887656499993994},\n",
       "             'B000063TMH': {'num_reviews': 5,\n",
       "              'score_stdev': 0.48989794855663565},\n",
       "             'B0006FS2FY': {'num_reviews': 8,\n",
       "              'score_stdev': 1.9364916731037085},\n",
       "             'B000A2EXI8': {'num_reviews': 22,\n",
       "              'score_stdev': 1.3244365713030424},\n",
       "             'B0000E2PMB': {'num_reviews': 6,\n",
       "              'score_stdev': 0.47140452079103168},\n",
       "             'B00029U0X6': {'num_reviews': 5,\n",
       "              'score_stdev': 0.4898979485566356},\n",
       "             'B00085505C': {'num_reviews': 6,\n",
       "              'score_stdev': 1.1547005383792515},\n",
       "             'B000E9U9GC': {'num_reviews': 80,\n",
       "              'score_stdev': 1.0240086669555097},\n",
       "             'B0000AB4PP': {'num_reviews': 5,\n",
       "              'score_stdev': 0.39999999999999997},\n",
       "             'B000A36XZS': {'num_reviews': 16,\n",
       "              'score_stdev': 0.61237243569579447},\n",
       "             'B000B63KQ4': {'num_reviews': 17,\n",
       "              'score_stdev': 1.6637806616154061},\n",
       "             'B000069Z5U': {'num_reviews': 11,\n",
       "              'score_stdev': 1.2331509060227761},\n",
       "             'B00009UU2P': {'num_reviews': 9,\n",
       "              'score_stdev': 1.227262335243029},\n",
       "             'B00005LWLW': {'num_reviews': 11,\n",
       "              'score_stdev': 1.1354541815269814},\n",
       "             'B000294HDK': {'num_reviews': 5,\n",
       "              'score_stdev': 1.4696938456699069},\n",
       "             'B0009U6140': {'num_reviews': 7,\n",
       "              'score_stdev': 1.456862718169367},\n",
       "             'B0009GUDVQ': {'num_reviews': 12,\n",
       "              'score_stdev': 1.2801909579781012},\n",
       "             'B0006N2PDQ': {'num_reviews': 23,\n",
       "              'score_stdev': 1.4871853370858321},\n",
       "             'B000E8SY5G': {'num_reviews': 71,\n",
       "              'score_stdev': 0.8750549051836094},\n",
       "             'B00083MW2S': {'num_reviews': 9,\n",
       "              'score_stdev': 1.3966450099973926},\n",
       "             'B0000BVYSM': {'num_reviews': 6,\n",
       "              'score_stdev': 1.3437096247164249},\n",
       "             'B00009RUCH': {'num_reviews': 84,\n",
       "              'score_stdev': 1.0995644365444794},\n",
       "             'B00081PSI0': {'num_reviews': 9,\n",
       "              'score_stdev': 1.3146843962443591},\n",
       "             'B00007DTDB': {'num_reviews': 22,\n",
       "              'score_stdev': 1.6934487281997417},\n",
       "             'B0002VQKUG': {'num_reviews': 5,\n",
       "              'score_stdev': 0.48989794855663565},\n",
       "             'B000ACGE3U': {'num_reviews': 14,\n",
       "              'score_stdev': 1.1248582677159729},\n",
       "             'B0001FI49I': {'num_reviews': 21,\n",
       "              'score_stdev': 1.3451854182690985},\n",
       "             'B00009UTCA': {'num_reviews': 18,\n",
       "              'score_stdev': 1.0657403385139377},\n",
       "             'B000855048': {'num_reviews': 8,\n",
       "              'score_stdev': 1.5761900266148114},\n",
       "             'B0009JO2YC': {'num_reviews': 17,\n",
       "              'score_stdev': 0.51281164041654981},\n",
       "             'B0002ZPK1W': {'num_reviews': 6,\n",
       "              'score_stdev': 0.94280904158206336},\n",
       "             'B000083JZH': {'num_reviews': 19,\n",
       "              'score_stdev': 1.2275688199674317},\n",
       "             'B00004Y7CF': {'num_reviews': 11,\n",
       "              'score_stdev': 1.1354541815269814},\n",
       "             'B00004T2LJ': {'num_reviews': 6, 'score_stdev': 0.5},\n",
       "             'B00006B7HB': {'num_reviews': 70,\n",
       "              'score_stdev': 1.1407122730101218},\n",
       "             'B00005T3W4': {'num_reviews': 15,\n",
       "              'score_stdev': 1.6275407487644937},\n",
       "             'B000138VH0': {'num_reviews': 7, 'score_stdev': 0.0},\n",
       "             'B0002X8TVW': {'num_reviews': 10,\n",
       "              'score_stdev': 0.9165151389911681},\n",
       "             'B000CQ1YOS': {'num_reviews': 5,\n",
       "              'score_stdev': 0.79999999999999993},\n",
       "             'B00004RC2I': {'num_reviews': 16,\n",
       "              'score_stdev': 0.55901699437494745},\n",
       "             'B000095S9H': {'num_reviews': 19,\n",
       "              'score_stdev': 0.56685945338257937},\n",
       "             'B00009R8ES': {'num_reviews': 10,\n",
       "              'score_stdev': 1.0198039027185568},\n",
       "             'B000BGS9QK': {'num_reviews': 5,\n",
       "              'score_stdev': 0.89442719099991586},\n",
       "             'B0009WRU8O': {'num_reviews': 12,\n",
       "              'score_stdev': 0.4330127018922193},\n",
       "             'B00009X3UU': {'num_reviews': 9,\n",
       "              'score_stdev': 1.227262335243029},\n",
       "             'B00000DMA3': {'num_reviews': 7,\n",
       "              'score_stdev': 0.88063057185271099},\n",
       "             'B00009R970': {'num_reviews': 10, 'score_stdev': 0.0},\n",
       "             'B000E8OYA0': {'num_reviews': 5,\n",
       "              'score_stdev': 0.79999999999999993},\n",
       "             'B00009QORF': {'num_reviews': 7,\n",
       "              'score_stdev': 0.88063057185271099},\n",
       "             'B000087BV9': {'num_reviews': 6,\n",
       "              'score_stdev': 0.47140452079103168},\n",
       "             'B0008D76L0': {'num_reviews': 73,\n",
       "              'score_stdev': 0.73130672959118581},\n",
       "             'B00005KB2N': {'num_reviews': 5,\n",
       "              'score_stdev': 1.4142135623730951},\n",
       "             'B00080Q7M2': {'num_reviews': 10,\n",
       "              'score_stdev': 1.5620499351813308},\n",
       "             'B000BL28M6': {'num_reviews': 9,\n",
       "              'score_stdev': 1.1547005383792515},\n",
       "             'B0007O7DT0': {'num_reviews': 5,\n",
       "              'score_stdev': 1.7435595774162693},\n",
       "             'B0002Z241Q': {'num_reviews': 36,\n",
       "              'score_stdev': 0.34583054438857591},\n",
       "             'B0001V3IB6': {'num_reviews': 22,\n",
       "              'score_stdev': 1.3360853142453697},\n",
       "             'B0007WQ5LE': {'num_reviews': 10,\n",
       "              'score_stdev': 0.92195444572928875},\n",
       "             'B0009K9Q2E': {'num_reviews': 13,\n",
       "              'score_stdev': 1.0769230769230771},\n",
       "             'B00009XFVN': {'num_reviews': 8, 'score_stdev': 0.0},\n",
       "             'B00004Z7G9': {'num_reviews': 35,\n",
       "              'score_stdev': 1.2175586144378581},\n",
       "             'B000BMVIQ2': {'num_reviews': 8,\n",
       "              'score_stdev': 1.3919410907075054},\n",
       "             'B0007XXHNW': {'num_reviews': 61,\n",
       "              'score_stdev': 0.93284306494798652},\n",
       "             'B0000C4DX1': {'num_reviews': 13,\n",
       "              'score_stdev': 1.2779421327566269},\n",
       "             'B00066HV46': {'num_reviews': 5,\n",
       "              'score_stdev': 1.6000000000000001},\n",
       "             'B00025O7FC': {'num_reviews': 45,\n",
       "              'score_stdev': 1.2688091043217953},\n",
       "             'B000EGM3PU': {'num_reviews': 8,\n",
       "              'score_stdev': 0.33071891388307384},\n",
       "             'B000BSN274': {'num_reviews': 18,\n",
       "              'score_stdev': 0.31426968052735443},\n",
       "             'B000E887YY': {'num_reviews': 5,\n",
       "              'score_stdev': 0.80000000000000004},\n",
       "             'B00097I5W4': {'num_reviews': 8,\n",
       "              'score_stdev': 0.69597054535375269},\n",
       "             'B000050AOO': {'num_reviews': 5,\n",
       "              'score_stdev': 1.3564659966250538},\n",
       "             'B000066HO4': {'num_reviews': 10,\n",
       "              'score_stdev': 1.4317821063276353},\n",
       "             'B000A0GWMA': {'num_reviews': 5, 'score_stdev': 1.16619037896906},\n",
       "             'B0009JR5IM': {'num_reviews': 22,\n",
       "              'score_stdev': 1.1472208603749057},\n",
       "             'B000067V08': {'num_reviews': 8,\n",
       "              'score_stdev': 0.70710678118654757},\n",
       "             'B000BJSEQW': {'num_reviews': 8,\n",
       "              'score_stdev': 1.5360257159305635},\n",
       "             'B0000E3DQ7': {'num_reviews': 9,\n",
       "              'score_stdev': 1.4740554623801778},\n",
       "             'B0009SHDGC': {'num_reviews': 45,\n",
       "              'score_stdev': 0.77172246018601498},\n",
       "             'B000DZRY9C': {'num_reviews': 12,\n",
       "              'score_stdev': 1.3202482931462383},\n",
       "             'B0000996BL': {'num_reviews': 6,\n",
       "              'score_stdev': 1.6749792701868149},\n",
       "             'B00006JQ06': {'num_reviews': 132,\n",
       "              'score_stdev': 1.0611200053473655},\n",
       "             'B0002ZUZVW': {'num_reviews': 5,\n",
       "              'score_stdev': 0.74833147735478822},\n",
       "             'B0002Y5WYI': {'num_reviews': 8,\n",
       "              'score_stdev': 0.48412291827592713},\n",
       "             'B0002L2MMG': {'num_reviews': 7,\n",
       "              'score_stdev': 0.49487165930539351},\n",
       "             'B00066EK40': {'num_reviews': 30,\n",
       "              'score_stdev': 1.1855612829185826},\n",
       "             'B00007EDYY': {'num_reviews': 31,\n",
       "              'score_stdev': 0.46968450898583997},\n",
       "             'B0000AZJVP': {'num_reviews': 14,\n",
       "              'score_stdev': 0.88352263406092724},\n",
       "             'B0002ZPBKW': {'num_reviews': 6,\n",
       "              'score_stdev': 1.3437096247164251},\n",
       "             'B000BI7Y96': {'num_reviews': 6, 'score_stdev': 0.0},\n",
       "             'B000BP8AMY': {'num_reviews': 8,\n",
       "              'score_stdev': 1.4523687548277813},\n",
       "             'B000CE9GF4': {'num_reviews': 5,\n",
       "              'score_stdev': 0.9797958971132712},\n",
       "             'B00081A2KY': {'num_reviews': 418,\n",
       "              'score_stdev': 1.0985837652329045},\n",
       "             'B00022OAFM': {'num_reviews': 10,\n",
       "              'score_stdev': 1.1874342087037917},\n",
       "             'B0002GUBIS': {'num_reviews': 62,\n",
       "              'score_stdev': 1.1447068612212259},\n",
       "             'B0002861MG': {'num_reviews': 13,\n",
       "              'score_stdev': 0.60569291338552389},\n",
       "             'B0000AI1J6': {'num_reviews': 7,\n",
       "              'score_stdev': 1.2453996981544784},\n",
       "             'B000068IGQ': {'num_reviews': 7,\n",
       "              'score_stdev': 1.0690449676496976},\n",
       "             'B00080YK9Y': {'num_reviews': 57,\n",
       "              'score_stdev': 1.6893197357488734},\n",
       "             'B00008IHP6': {'num_reviews': 7,\n",
       "              'score_stdev': 0.72843135908468348},\n",
       "             'B0009F62GW': {'num_reviews': 7,\n",
       "              'score_stdev': 0.90350790290525118},\n",
       "             ...})"
      ]
     },
     "execution_count": 25,
     "metadata": {},
     "output_type": "execute_result"
    }
   ],
   "source": [
    "stats"
   ]
  },
  {
   "cell_type": "code",
   "execution_count": 32,
   "metadata": {
    "collapsed": false
   },
   "outputs": [],
   "source": [
    "THRESHOLD = 200\n",
    "best_reviews = [\n",
    "    (product_id, d)\n",
    "    for product_id, d in stats.items()\n",
    "    if d['num_reviews'] >= THRESHOLD\n",
    "]"
   ]
  },
  {
   "cell_type": "code",
   "execution_count": 33,
   "metadata": {
    "collapsed": false
   },
   "outputs": [],
   "source": [
    "best_reviews.sort(key=lambda x: x[1]['score_stdev'], reverse=True)"
   ]
  },
  {
   "cell_type": "code",
   "execution_count": 34,
   "metadata": {
    "collapsed": false
   },
   "outputs": [
    {
     "data": {
      "text/plain": [
       "99"
      ]
     },
     "execution_count": 34,
     "metadata": {},
     "output_type": "execute_result"
    }
   ],
   "source": [
    "len(best_reviews)"
   ]
  },
  {
   "cell_type": "code",
   "execution_count": 30,
   "metadata": {
    "collapsed": false
   },
   "outputs": [
    {
     "data": {
      "text/plain": [
       "[('B00007KDVI', {'num_reviews': 460, 'score_stdev': 1.5030702667683571}),\n",
       " ('B0007MXZB2', {'num_reviews': 590, 'score_stdev': 1.3633525772624562}),\n",
       " ('B00093IIRA', {'num_reviews': 497, 'score_stdev': 1.3237173609286954}),\n",
       " ('B00006B7DA', {'num_reviews': 441, 'score_stdev': 1.3213749452868198}),\n",
       " ('B0001FTVEK', {'num_reviews': 950, 'score_stdev': 1.3197620032234427}),\n",
       " ('B000A6PPOK', {'num_reviews': 809, 'score_stdev': 1.2931267862031377}),\n",
       " ('B00007IFED', {'num_reviews': 370, 'score_stdev': 1.2581625383760928}),\n",
       " ('B00007EDM8', {'num_reviews': 311, 'score_stdev': 1.2521133178240897}),\n",
       " ('B000C1Z0HA', {'num_reviews': 374, 'score_stdev': 1.2270134755826221}),\n",
       " ('B000E6G9RI', {'num_reviews': 344, 'score_stdev': 1.2107968180331583})]"
      ]
     },
     "execution_count": 30,
     "metadata": {},
     "output_type": "execute_result"
    }
   ],
   "source": [
    "best_reviews[:10]"
   ]
  },
  {
   "cell_type": "code",
   "execution_count": 35,
   "metadata": {
    "collapsed": false
   },
   "outputs": [
    {
     "data": {
      "text/html": [
       "<a href=\"https://www.amazon.com/dp/B00008SCFL\">Robot Check</a>"
      ],
      "text/plain": [
       "<IPython.core.display.HTML object>"
      ]
     },
     "metadata": {},
     "output_type": "display_data"
    },
    {
     "data": {
      "text/html": [
       "<a href=\"https://www.amazon.com/dp/B00066IJPQ\">Robot Check</a>"
      ],
      "text/plain": [
       "<IPython.core.display.HTML object>"
      ]
     },
     "metadata": {},
     "output_type": "display_data"
    },
    {
     "data": {
      "text/html": [
       "<a href=\"https://www.amazon.com/dp/B00007KDVI\">Robot Check</a>"
      ],
      "text/plain": [
       "<IPython.core.display.HTML object>"
      ]
     },
     "metadata": {},
     "output_type": "display_data"
    },
    {
     "data": {
      "text/html": [
       "<a href=\"https://www.amazon.com/dp/B0002AHT0M\">Robot Check</a>"
      ],
      "text/plain": [
       "<IPython.core.display.HTML object>"
      ]
     },
     "metadata": {},
     "output_type": "display_data"
    },
    {
     "data": {
      "text/html": [
       "<a href=\"https://www.amazon.com/dp/B000CC6I5W\">Robot Check</a>"
      ],
      "text/plain": [
       "<IPython.core.display.HTML object>"
      ]
     },
     "metadata": {},
     "output_type": "display_data"
    },
    {
     "data": {
      "text/html": [
       "<a href=\"https://www.amazon.com/dp/B000ENRQ3M\">Robot Check</a>"
      ],
      "text/plain": [
       "<IPython.core.display.HTML object>"
      ]
     },
     "metadata": {},
     "output_type": "display_data"
    },
    {
     "data": {
      "text/html": [
       "<a href=\"https://www.amazon.com/dp/B0007MXZB2\">Robot Check</a>"
      ],
      "text/plain": [
       "<IPython.core.display.HTML object>"
      ]
     },
     "metadata": {},
     "output_type": "display_data"
    },
    {
     "data": {
      "text/html": [
       "<a href=\"https://www.amazon.com/dp/B0007R4LI8\">Robot Check</a>"
      ],
      "text/plain": [
       "<IPython.core.display.HTML object>"
      ]
     },
     "metadata": {},
     "output_type": "display_data"
    },
    {
     "data": {
      "text/html": [
       "<a href=\"https://www.amazon.com/dp/B000EPLP3C\">Robot Check</a>"
      ],
      "text/plain": [
       "<IPython.core.display.HTML object>"
      ]
     },
     "metadata": {},
     "output_type": "display_data"
    },
    {
     "data": {
      "text/html": [
       "<a href=\"https://www.amazon.com/dp/B00009KH63\">Robot Check</a>"
      ],
      "text/plain": [
       "<IPython.core.display.HTML object>"
      ]
     },
     "metadata": {},
     "output_type": "display_data"
    },
    {
     "data": {
      "text/html": [
       "<a href=\"https://www.amazon.com/dp/B00093IIRA\">Robot Check</a>"
      ],
      "text/plain": [
       "<IPython.core.display.HTML object>"
      ]
     },
     "metadata": {},
     "output_type": "display_data"
    },
    {
     "data": {
      "text/html": [
       "<a href=\"https://www.amazon.com/dp/B00006B7DA\">Robot Check</a>"
      ],
      "text/plain": [
       "<IPython.core.display.HTML object>"
      ]
     },
     "metadata": {},
     "output_type": "display_data"
    },
    {
     "data": {
      "text/html": [
       "<a href=\"https://www.amazon.com/dp/B0001FTVEK\">Robot Check</a>"
      ],
      "text/plain": [
       "<IPython.core.display.HTML object>"
      ]
     },
     "metadata": {},
     "output_type": "display_data"
    },
    {
     "data": {
      "text/html": [
       "<a href=\"https://www.amazon.com/dp/B00004SB92\">Robot Check</a>"
      ],
      "text/plain": [
       "<IPython.core.display.HTML object>"
      ]
     },
     "metadata": {},
     "output_type": "display_data"
    },
    {
     "data": {
      "text/html": [
       "<a href=\"https://www.amazon.com/dp/B000A6PPOK\">Robot Check</a>"
      ],
      "text/plain": [
       "<IPython.core.display.HTML object>"
      ]
     },
     "metadata": {},
     "output_type": "display_data"
    },
    {
     "data": {
      "text/html": [
       "<a href=\"https://www.amazon.com/dp/B00022OBO2\">Robot Check</a>"
      ],
      "text/plain": [
       "<IPython.core.display.HTML object>"
      ]
     },
     "metadata": {},
     "output_type": "display_data"
    },
    {
     "data": {
      "text/html": [
       "<a href=\"https://www.amazon.com/dp/B00004SABB\">Robot Check</a>"
      ],
      "text/plain": [
       "<IPython.core.display.HTML object>"
      ]
     },
     "metadata": {},
     "output_type": "display_data"
    },
    {
     "data": {
      "text/html": [
       "<a href=\"https://www.amazon.com/dp/B00007IFED\">Robot Check</a>"
      ],
      "text/plain": [
       "<IPython.core.display.HTML object>"
      ]
     },
     "metadata": {},
     "output_type": "display_data"
    },
    {
     "data": {
      "text/html": [
       "<a href=\"https://www.amazon.com/dp/B00007EDM8\">Robot Check</a>"
      ],
      "text/plain": [
       "<IPython.core.display.HTML object>"
      ]
     },
     "metadata": {},
     "output_type": "display_data"
    },
    {
     "data": {
      "text/html": [
       "<a href=\"https://www.amazon.com/dp/B00005N6KG\">Robot Check</a>"
      ],
      "text/plain": [
       "<IPython.core.display.HTML object>"
      ]
     },
     "metadata": {},
     "output_type": "display_data"
    },
    {
     "data": {
      "text/html": [
       "<a href=\"https://www.amazon.com/dp/B000092YPR\">Robot Check</a>"
      ],
      "text/plain": [
       "<IPython.core.display.HTML object>"
      ]
     },
     "metadata": {},
     "output_type": "display_data"
    },
    {
     "data": {
      "text/html": [
       "<a href=\"https://www.amazon.com/dp/B000C1Z0HA\">Robot Check</a>"
      ],
      "text/plain": [
       "<IPython.core.display.HTML object>"
      ]
     },
     "metadata": {},
     "output_type": "display_data"
    },
    {
     "data": {
      "text/html": [
       "<a href=\"https://www.amazon.com/dp/B0000BVYTV\">Robot Check</a>"
      ],
      "text/plain": [
       "<IPython.core.display.HTML object>"
      ]
     },
     "metadata": {},
     "output_type": "display_data"
    },
    {
     "data": {
      "text/html": [
       "<a href=\"https://www.amazon.com/dp/B000E6G9RI\">Robot Check</a>"
      ],
      "text/plain": [
       "<IPython.core.display.HTML object>"
      ]
     },
     "metadata": {},
     "output_type": "display_data"
    },
    {
     "data": {
      "text/html": [
       "<a href=\"https://www.amazon.com/dp/B00007M1TZ\">Robot Check</a>"
      ],
      "text/plain": [
       "<IPython.core.display.HTML object>"
      ]
     },
     "metadata": {},
     "output_type": "display_data"
    },
    {
     "data": {
      "text/html": [
       "<a href=\"https://www.amazon.com/dp/B0002ZW5W4\">Robot Check</a>"
      ],
      "text/plain": [
       "<IPython.core.display.HTML object>"
      ]
     },
     "metadata": {},
     "output_type": "display_data"
    },
    {
     "data": {
      "text/html": [
       "<a href=\"https://www.amazon.com/dp/B000E6NGBU\">Robot Check</a>"
      ],
      "text/plain": [
       "<IPython.core.display.HTML object>"
      ]
     },
     "metadata": {},
     "output_type": "display_data"
    },
    {
     "data": {
      "text/html": [
       "<a href=\"https://www.amazon.com/dp/B00077AA5Q\">Amazon.com: La Crosse Technology BC-9009 AlphaPower Battery Charger (Discontinued by Manufacturer): Home Audio & Theater</a>"
      ],
      "text/plain": [
       "<IPython.core.display.HTML object>"
      ]
     },
     "metadata": {},
     "output_type": "display_data"
    },
    {
     "data": {
      "text/html": [
       "<a href=\"https://www.amazon.com/dp/B000067SMH\">Robot Check</a>"
      ],
      "text/plain": [
       "<IPython.core.display.HTML object>"
      ]
     },
     "metadata": {},
     "output_type": "display_data"
    },
    {
     "data": {
      "text/html": [
       "<a href=\"https://www.amazon.com/dp/B000067O5G\">Sorry! Something went wrong!</a>"
      ],
      "text/plain": [
       "<IPython.core.display.HTML object>"
      ]
     },
     "metadata": {},
     "output_type": "display_data"
    },
    {
     "data": {
      "text/html": [
       "<a href=\"https://www.amazon.com/dp/B00004ZCJE\">Robot Check</a>"
      ],
      "text/plain": [
       "<IPython.core.display.HTML object>"
      ]
     },
     "metadata": {},
     "output_type": "display_data"
    },
    {
     "data": {
      "text/html": [
       "<a href=\"https://www.amazon.com/dp/B0002CPBWI\">Robot Check</a>"
      ],
      "text/plain": [
       "<IPython.core.display.HTML object>"
      ]
     },
     "metadata": {},
     "output_type": "display_data"
    },
    {
     "data": {
      "text/html": [
       "<a href=\"https://www.amazon.com/dp/B000BTL0OA\">Robot Check</a>"
      ],
      "text/plain": [
       "<IPython.core.display.HTML object>"
      ]
     },
     "metadata": {},
     "output_type": "display_data"
    },
    {
     "data": {
      "text/html": [
       "<a href=\"https://www.amazon.com/dp/B000062VUO\">Robot Check</a>"
      ],
      "text/plain": [
       "<IPython.core.display.HTML object>"
      ]
     },
     "metadata": {},
     "output_type": "display_data"
    },
    {
     "data": {
      "text/html": [
       "<a href=\"https://www.amazon.com/dp/B000652M6Y\">Robot Check</a>"
      ],
      "text/plain": [
       "<IPython.core.display.HTML object>"
      ]
     },
     "metadata": {},
     "output_type": "display_data"
    },
    {
     "data": {
      "text/html": [
       "<a href=\"https://www.amazon.com/dp/B000065BP9\">Amazon.com: Sennheiser  HD 202 Dynamic Headphones (Old Version): Musical Instruments</a>"
      ],
      "text/plain": [
       "<IPython.core.display.HTML object>"
      ]
     },
     "metadata": {},
     "output_type": "display_data"
    },
    {
     "data": {
      "text/html": [
       "<a href=\"https://www.amazon.com/dp/B0006B486K\">Amazon.com: Koss KSC75 Portable Stereophone Headphones: Home Audio & Theater</a>"
      ],
      "text/plain": [
       "<IPython.core.display.HTML object>"
      ]
     },
     "metadata": {},
     "output_type": "display_data"
    },
    {
     "data": {
      "text/html": [
       "<a href=\"https://www.amazon.com/dp/B000067RC4\">Robot Check</a>"
      ],
      "text/plain": [
       "<IPython.core.display.HTML object>"
      ]
     },
     "metadata": {},
     "output_type": "display_data"
    },
    {
     "data": {
      "text/html": [
       "<a href=\"https://www.amazon.com/dp/B00007056H\">Robot Check</a>"
      ],
      "text/plain": [
       "<IPython.core.display.HTML object>"
      ]
     },
     "metadata": {},
     "output_type": "display_data"
    },
    {
     "data": {
      "text/html": [
       "<a href=\"https://www.amazon.com/dp/B00081A2KY\">Robot Check</a>"
      ],
      "text/plain": [
       "<IPython.core.display.HTML object>"
      ]
     },
     "metadata": {},
     "output_type": "display_data"
    },
    {
     "data": {
      "text/html": [
       "<a href=\"https://www.amazon.com/dp/B0007XJSQC\">Robot Check</a>"
      ],
      "text/plain": [
       "<IPython.core.display.HTML object>"
      ]
     },
     "metadata": {},
     "output_type": "display_data"
    },
    {
     "data": {
      "text/html": [
       "<a href=\"https://www.amazon.com/dp/B000EOPQ7E\">Robot Check</a>"
      ],
      "text/plain": [
       "<IPython.core.display.HTML object>"
      ]
     },
     "metadata": {},
     "output_type": "display_data"
    },
    {
     "data": {
      "text/html": [
       "<a href=\"https://www.amazon.com/dp/B00009EHJV\">Robot Check</a>"
      ],
      "text/plain": [
       "<IPython.core.display.HTML object>"
      ]
     },
     "metadata": {},
     "output_type": "display_data"
    },
    {
     "data": {
      "text/html": [
       "<a href=\"https://www.amazon.com/dp/B00008Y0VN\">Robot Check</a>"
      ],
      "text/plain": [
       "<IPython.core.display.HTML object>"
      ]
     },
     "metadata": {},
     "output_type": "display_data"
    },
    {
     "data": {
      "text/html": [
       "<a href=\"https://www.amazon.com/dp/B00006BBAC\">Robot Check</a>"
      ],
      "text/plain": [
       "<IPython.core.display.HTML object>"
      ]
     },
     "metadata": {},
     "output_type": "display_data"
    },
    {
     "data": {
      "text/html": [
       "<a href=\"https://www.amazon.com/dp/B000CSWCQA\">Robot Check</a>"
      ],
      "text/plain": [
       "<IPython.core.display.HTML object>"
      ]
     },
     "metadata": {},
     "output_type": "display_data"
    },
    {
     "data": {
      "text/html": [
       "<a href=\"https://www.amazon.com/dp/B000065BPB\">Robot Check</a>"
      ],
      "text/plain": [
       "<IPython.core.display.HTML object>"
      ]
     },
     "metadata": {},
     "output_type": "display_data"
    },
    {
     "data": {
      "text/html": [
       "<a href=\"https://www.amazon.com/dp/B00006RVPW\">Robot Check</a>"
      ],
      "text/plain": [
       "<IPython.core.display.HTML object>"
      ]
     },
     "metadata": {},
     "output_type": "display_data"
    },
    {
     "data": {
      "text/html": [
       "<a href=\"https://www.amazon.com/dp/B000CRFOMK\">Robot Check</a>"
      ],
      "text/plain": [
       "<IPython.core.display.HTML object>"
      ]
     },
     "metadata": {},
     "output_type": "display_data"
    },
    {
     "data": {
      "text/html": [
       "<a href=\"https://www.amazon.com/dp/B0002MQGOK\">Robot Check</a>"
      ],
      "text/plain": [
       "<IPython.core.display.HTML object>"
      ]
     },
     "metadata": {},
     "output_type": "display_data"
    },
    {
     "data": {
      "text/html": [
       "<a href=\"https://www.amazon.com/dp/B00006JN3G\">Amazon.com : Nikon 7072 Lens Pen Cleaning System : Camera Cleaning Kits : Camera & Photo</a>"
      ],
      "text/plain": [
       "<IPython.core.display.HTML object>"
      ]
     },
     "metadata": {},
     "output_type": "display_data"
    },
    {
     "data": {
      "text/html": [
       "<a href=\"https://www.amazon.com/dp/B0000A1G05\">Robot Check</a>"
      ],
      "text/plain": [
       "<IPython.core.display.HTML object>"
      ]
     },
     "metadata": {},
     "output_type": "display_data"
    },
    {
     "data": {
      "text/html": [
       "<a href=\"https://www.amazon.com/dp/B00004THCZ\">Robot Check</a>"
      ],
      "text/plain": [
       "<IPython.core.display.HTML object>"
      ]
     },
     "metadata": {},
     "output_type": "display_data"
    },
    {
     "data": {
      "text/html": [
       "<a href=\"https://www.amazon.com/dp/B00004T8R2\">Robot Check</a>"
      ],
      "text/plain": [
       "<IPython.core.display.HTML object>"
      ]
     },
     "metadata": {},
     "output_type": "display_data"
    },
    {
     "data": {
      "text/html": [
       "<a href=\"https://www.amazon.com/dp/B00007EDZG\">Robot Check</a>"
      ],
      "text/plain": [
       "<IPython.core.display.HTML object>"
      ]
     },
     "metadata": {},
     "output_type": "display_data"
    },
    {
     "data": {
      "text/html": [
       "<a href=\"https://www.amazon.com/dp/B000067RT6\">Robot Check</a>"
      ],
      "text/plain": [
       "<IPython.core.display.HTML object>"
      ]
     },
     "metadata": {},
     "output_type": "display_data"
    },
    {
     "data": {
      "text/html": [
       "<a href=\"https://www.amazon.com/dp/B00020S7XK\">Robot Check</a>"
      ],
      "text/plain": [
       "<IPython.core.display.HTML object>"
      ]
     },
     "metadata": {},
     "output_type": "display_data"
    },
    {
     "data": {
      "text/html": [
       "<a href=\"https://www.amazon.com/dp/B00029U1DK\">Robot Check</a>"
      ],
      "text/plain": [
       "<IPython.core.display.HTML object>"
      ]
     },
     "metadata": {},
     "output_type": "display_data"
    },
    {
     "data": {
      "text/html": [
       "<a href=\"https://www.amazon.com/dp/B0002SQ2P2\">Robot Check</a>"
      ],
      "text/plain": [
       "<IPython.core.display.HTML object>"
      ]
     },
     "metadata": {},
     "output_type": "display_data"
    },
    {
     "data": {
      "text/html": [
       "<a href=\"https://www.amazon.com/dp/B00004ZC8Y\">Robot Check</a>"
      ],
      "text/plain": [
       "<IPython.core.display.HTML object>"
      ]
     },
     "metadata": {},
     "output_type": "display_data"
    },
    {
     "data": {
      "text/html": [
       "<a href=\"https://www.amazon.com/dp/B0002L5R78\">Robot Check</a>"
      ],
      "text/plain": [
       "<IPython.core.display.HTML object>"
      ]
     },
     "metadata": {},
     "output_type": "display_data"
    },
    {
     "data": {
      "text/html": [
       "<a href=\"https://www.amazon.com/dp/B00005NIMJ\">Robot Check</a>"
      ],
      "text/plain": [
       "<IPython.core.display.HTML object>"
      ]
     },
     "metadata": {},
     "output_type": "display_data"
    },
    {
     "data": {
      "text/html": [
       "<a href=\"https://www.amazon.com/dp/B0009S5HQA\">Robot Check</a>"
      ],
      "text/plain": [
       "<IPython.core.display.HTML object>"
      ]
     },
     "metadata": {},
     "output_type": "display_data"
    },
    {
     "data": {
      "text/html": [
       "<a href=\"https://www.amazon.com/dp/B000BKJZ9Q\">Robot Check</a>"
      ],
      "text/plain": [
       "<IPython.core.display.HTML object>"
      ]
     },
     "metadata": {},
     "output_type": "display_data"
    },
    {
     "data": {
      "text/html": [
       "<a href=\"https://www.amazon.com/dp/B0009YJXMS\">Robot Check</a>"
      ],
      "text/plain": [
       "<IPython.core.display.HTML object>"
      ]
     },
     "metadata": {},
     "output_type": "display_data"
    },
    {
     "data": {
      "text/html": [
       "<a href=\"https://www.amazon.com/dp/B0009YDP7W\">Amazon.com: iKlear (iK-MCK) Microfiber Chamois Style Polishing Cloth: Computers & Accessories</a>"
      ],
      "text/plain": [
       "<IPython.core.display.HTML object>"
      ]
     },
     "metadata": {},
     "output_type": "display_data"
    },
    {
     "data": {
      "text/html": [
       "<a href=\"https://www.amazon.com/dp/0972683275\">Robot Check</a>"
      ],
      "text/plain": [
       "<IPython.core.display.HTML object>"
      ]
     },
     "metadata": {},
     "output_type": "display_data"
    },
    {
     "data": {
      "text/html": [
       "<a href=\"https://www.amazon.com/dp/B00009XVCZ\">Amazon.com : Canon EF 50mm f/1.4 USM Standard & Medium Telephoto Lens for Canon SLR Cameras - Fixed : Camera Lenses : Camera & Photo</a>"
      ],
      "text/plain": [
       "<IPython.core.display.HTML object>"
      ]
     },
     "metadata": {},
     "output_type": "display_data"
    },
    {
     "data": {
      "text/html": [
       "<a href=\"https://www.amazon.com/dp/B00005ATMB\">Robot Check</a>"
      ],
      "text/plain": [
       "<IPython.core.display.HTML object>"
      ]
     },
     "metadata": {},
     "output_type": "display_data"
    },
    {
     "data": {
      "text/html": [
       "<a href=\"https://www.amazon.com/dp/B0007U00X0\">Robot Check</a>"
      ],
      "text/plain": [
       "<IPython.core.display.HTML object>"
      ]
     },
     "metadata": {},
     "output_type": "display_data"
    },
    {
     "data": {
      "text/html": [
       "<a href=\"https://www.amazon.com/dp/B00001P4ZH\">Robot Check</a>"
      ],
      "text/plain": [
       "<IPython.core.display.HTML object>"
      ]
     },
     "metadata": {},
     "output_type": "display_data"
    },
    {
     "data": {
      "text/html": [
       "<a href=\"https://www.amazon.com/dp/B0002LEMWE\">Robot Check</a>"
      ],
      "text/plain": [
       "<IPython.core.display.HTML object>"
      ]
     },
     "metadata": {},
     "output_type": "display_data"
    },
    {
     "data": {
      "text/html": [
       "<a href=\"https://www.amazon.com/dp/B00009R6TA\">Robot Check</a>"
      ],
      "text/plain": [
       "<IPython.core.display.HTML object>"
      ]
     },
     "metadata": {},
     "output_type": "display_data"
    },
    {
     "data": {
      "text/html": [
       "<a href=\"https://www.amazon.com/dp/B00004Z5M1\">Robot Check</a>"
      ],
      "text/plain": [
       "<IPython.core.display.HTML object>"
      ]
     },
     "metadata": {},
     "output_type": "display_data"
    },
    {
     "data": {
      "text/html": [
       "<a href=\"https://www.amazon.com/dp/B00066FH1U\">Robot Check</a>"
      ],
      "text/plain": [
       "<IPython.core.display.HTML object>"
      ]
     },
     "metadata": {},
     "output_type": "display_data"
    },
    {
     "data": {
      "text/html": [
       "<a href=\"https://www.amazon.com/dp/B00002EQCW\">Robot Check</a>"
      ],
      "text/plain": [
       "<IPython.core.display.HTML object>"
      ]
     },
     "metadata": {},
     "output_type": "display_data"
    },
    {
     "data": {
      "text/html": [
       "<a href=\"https://www.amazon.com/dp/B000AJIF4E\">Robot Check</a>"
      ],
      "text/plain": [
       "<IPython.core.display.HTML object>"
      ]
     },
     "metadata": {},
     "output_type": "display_data"
    },
    {
     "data": {
      "text/html": [
       "<a href=\"https://www.amazon.com/dp/B0002KVQBA\">Robot Check</a>"
      ],
      "text/plain": [
       "<IPython.core.display.HTML object>"
      ]
     },
     "metadata": {},
     "output_type": "display_data"
    },
    {
     "data": {
      "text/html": [
       "<a href=\"https://www.amazon.com/dp/B00080G0BK\">Robot Check</a>"
      ],
      "text/plain": [
       "<IPython.core.display.HTML object>"
      ]
     },
     "metadata": {},
     "output_type": "display_data"
    },
    {
     "data": {
      "text/html": [
       "<a href=\"https://www.amazon.com/dp/B00007E7C8\">Robot Check</a>"
      ],
      "text/plain": [
       "<IPython.core.display.HTML object>"
      ]
     },
     "metadata": {},
     "output_type": "display_data"
    },
    {
     "data": {
      "text/html": [
       "<a href=\"https://www.amazon.com/dp/B000067S60\">Robot Check</a>"
      ],
      "text/plain": [
       "<IPython.core.display.HTML object>"
      ]
     },
     "metadata": {},
     "output_type": "display_data"
    },
    {
     "data": {
      "text/html": [
       "<a href=\"https://www.amazon.com/dp/B000089GN3\">Robot Check</a>"
      ],
      "text/plain": [
       "<IPython.core.display.HTML object>"
      ]
     },
     "metadata": {},
     "output_type": "display_data"
    },
    {
     "data": {
      "text/html": [
       "<a href=\"https://www.amazon.com/dp/B00001WRSJ\">Robot Check</a>"
      ],
      "text/plain": [
       "<IPython.core.display.HTML object>"
      ]
     },
     "metadata": {},
     "output_type": "display_data"
    },
    {
     "data": {
      "text/html": [
       "<a href=\"https://www.amazon.com/dp/B00007E7JU\">Robot Check</a>"
      ],
      "text/plain": [
       "<IPython.core.display.HTML object>"
      ]
     },
     "metadata": {},
     "output_type": "display_data"
    },
    {
     "data": {
      "text/html": [
       "<a href=\"https://www.amazon.com/dp/B000AZ57M6\">Robot Check</a>"
      ],
      "text/plain": [
       "<IPython.core.display.HTML object>"
      ]
     },
     "metadata": {},
     "output_type": "display_data"
    },
    {
     "data": {
      "text/html": [
       "<a href=\"https://www.amazon.com/dp/B00017LSPI\">Robot Check</a>"
      ],
      "text/plain": [
       "<IPython.core.display.HTML object>"
      ]
     },
     "metadata": {},
     "output_type": "display_data"
    },
    {
     "data": {
      "text/html": [
       "<a href=\"https://www.amazon.com/dp/B00005T3G0\">Robot Check</a>"
      ],
      "text/plain": [
       "<IPython.core.display.HTML object>"
      ]
     },
     "metadata": {},
     "output_type": "display_data"
    },
    {
     "data": {
      "text/html": [
       "<a href=\"https://www.amazon.com/dp/B000BQ7GW8\">Robot Check</a>"
      ],
      "text/plain": [
       "<IPython.core.display.HTML object>"
      ]
     },
     "metadata": {},
     "output_type": "display_data"
    },
    {
     "data": {
      "text/html": [
       "<a href=\"https://www.amazon.com/dp/B00004WCID\">Robot Check</a>"
      ],
      "text/plain": [
       "<IPython.core.display.HTML object>"
      ]
     },
     "metadata": {},
     "output_type": "display_data"
    },
    {
     "data": {
      "text/html": [
       "<a href=\"https://www.amazon.com/dp/B0009Y7APU\">Robot Check</a>"
      ],
      "text/plain": [
       "<IPython.core.display.HTML object>"
      ]
     },
     "metadata": {},
     "output_type": "display_data"
    },
    {
     "data": {
      "text/html": [
       "<a href=\"https://www.amazon.com/dp/B000CKVOOY\">Robot Check</a>"
      ],
      "text/plain": [
       "<IPython.core.display.HTML object>"
      ]
     },
     "metadata": {},
     "output_type": "display_data"
    },
    {
     "data": {
      "text/html": [
       "<a href=\"https://www.amazon.com/dp/B0002Y5WZM\">Robot Check</a>"
      ],
      "text/plain": [
       "<IPython.core.display.HTML object>"
      ]
     },
     "metadata": {},
     "output_type": "display_data"
    },
    {
     "data": {
      "text/html": [
       "<a href=\"https://www.amazon.com/dp/B00007GQLU\">Robot Check</a>"
      ],
      "text/plain": [
       "<IPython.core.display.HTML object>"
      ]
     },
     "metadata": {},
     "output_type": "display_data"
    },
    {
     "data": {
      "text/html": [
       "<a href=\"https://www.amazon.com/dp/B0000AI0N1\">Robot Check</a>"
      ],
      "text/plain": [
       "<IPython.core.display.HTML object>"
      ]
     },
     "metadata": {},
     "output_type": "display_data"
    },
    {
     "data": {
      "text/html": [
       "<a href=\"https://www.amazon.com/dp/B0001Y7UAI\">Robot Check</a>"
      ],
      "text/plain": [
       "<IPython.core.display.HTML object>"
      ]
     },
     "metadata": {},
     "output_type": "display_data"
    },
    {
     "data": {
      "text/html": [
       "<a href=\"https://www.amazon.com/dp/B00005LEN4\">Sorry! Something went wrong!</a>"
      ],
      "text/plain": [
       "<IPython.core.display.HTML object>"
      ]
     },
     "metadata": {},
     "output_type": "display_data"
    },
    {
     "data": {
      "text/html": [
       "<a href=\"https://www.amazon.com/dp/B000B9RI14\">Robot Check</a>"
      ],
      "text/plain": [
       "<IPython.core.display.HTML object>"
      ]
     },
     "metadata": {},
     "output_type": "display_data"
    },
    {
     "data": {
      "text/html": [
       "<a href=\"https://www.amazon.com/dp/B0000BZL1P\">Robot Check</a>"
      ],
      "text/plain": [
       "<IPython.core.display.HTML object>"
      ]
     },
     "metadata": {},
     "output_type": "display_data"
    },
    {
     "data": {
      "text/html": [
       "<a href=\"https://www.amazon.com/dp/B000092TT0\">Robot Check</a>"
      ],
      "text/plain": [
       "<IPython.core.display.HTML object>"
      ]
     },
     "metadata": {},
     "output_type": "display_data"
    }
   ],
   "source": [
    "from IPython.core.display import display, HTML\n",
    "import requests\n",
    "from lxml.html import fromstring\n",
    "\n",
    "for x in best_reviews[:100]:\n",
    "    url = 'https://www.amazon.com/dp/'+x[0]\n",
    "    r = requests.get(url)\n",
    "    tree = fromstring(r.content)\n",
    "    title = tree.findtext('.//title')\n",
    "    display(HTML(\"\"\"<a href=\"%s\">%s</a>\"\"\" % (url, title)))"
   ]
  },
  {
   "cell_type": "code",
   "execution_count": 6,
   "metadata": {
    "collapsed": false
   },
   "outputs": [
    {
     "name": "stdout",
     "output_type": "stream",
     "text": [
      "Collecting lxml\n",
      "\u001b[33m  Cache entry deserialization failed, entry ignored\u001b[0m\n",
      "  Downloading lxml-4.1.1-cp27-cp27m-macosx_10_6_intel.macosx_10_9_intel.macosx_10_9_x86_64.macosx_10_10_intel.macosx_10_10_x86_64.whl (8.7MB)\n",
      "\u001b[K    100% |████████████████████████████████| 8.7MB 109kB/s \n",
      "\u001b[?25hInstalling collected packages: lxml\n",
      "\u001b[31mException:\n",
      "Traceback (most recent call last):\n",
      "  File \"/Library/Python/2.7/site-packages/pip/basecommand.py\", line 209, in main\n",
      "    status = self.run(options, args)\n",
      "  File \"/Library/Python/2.7/site-packages/pip/commands/install.py\", line 317, in run\n",
      "    prefix=options.prefix_path,\n",
      "  File \"/Library/Python/2.7/site-packages/pip/req/req_set.py\", line 732, in install\n",
      "    **kwargs\n",
      "  File \"/Library/Python/2.7/site-packages/pip/req/req_install.py\", line 835, in install\n",
      "    self.move_wheel_files(self.source_dir, root=root, prefix=prefix)\n",
      "  File \"/Library/Python/2.7/site-packages/pip/req/req_install.py\", line 1030, in move_wheel_files\n",
      "    isolated=self.isolated,\n",
      "  File \"/Library/Python/2.7/site-packages/pip/wheel.py\", line 344, in move_wheel_files\n",
      "    clobber(source, lib_dir, True)\n",
      "  File \"/Library/Python/2.7/site-packages/pip/wheel.py\", line 315, in clobber\n",
      "    ensure_dir(destdir)\n",
      "  File \"/Library/Python/2.7/site-packages/pip/utils/__init__.py\", line 83, in ensure_dir\n",
      "    os.makedirs(path)\n",
      "  File \"/System/Library/Frameworks/Python.framework/Versions/2.7/lib/python2.7/os.py\", line 157, in makedirs\n",
      "    mkdir(name, mode)\n",
      "OSError: [Errno 13] Permission denied: '/Library/Python/2.7/site-packages/lxml'\u001b[0m\n",
      "\u001b[33mYou are using pip version 8.1.1, however version 9.0.1 is available.\n",
      "You should consider upgrading via the 'pip install --upgrade pip' command.\u001b[0m\n"
     ]
    }
   ],
   "source": [
    "!pip install lxml"
   ]
  },
  {
   "cell_type": "code",
   "execution_count": 41,
   "metadata": {
    "collapsed": true
   },
   "outputs": [],
   "source": [
    "chosen_product_ids = [\n",
    "    'B000I68BD4', # earbuds\n",
    "    'B000TG4BA0', # msft bluetooth mouse\n",
    "    'B001KC08A4', # remote\n",
    "    'B000BTL0OA', # router\n",
    "]\n",
    "\n",
    "names = [\n",
    "    'earbuds',\n",
    "    'mouse',\n",
    "    'remote',\n",
    "    'router'\n",
    "]"
   ]
  },
  {
   "cell_type": "code",
   "execution_count": 37,
   "metadata": {
    "collapsed": false
   },
   "outputs": [
    {
     "ename": "NameError",
     "evalue": "name 'chosen_product_ids' is not defined",
     "output_type": "error",
     "traceback": [
      "\u001b[0;31m---------------------------------------\u001b[0m",
      "\u001b[0;31mNameError\u001b[0mTraceback (most recent call last)",
      "\u001b[0;32m<ipython-input-37-cb85dfc4d5ea>\u001b[0m in \u001b[0;36m<module>\u001b[0;34m()\u001b[0m\n\u001b[1;32m      1\u001b[0m \u001b[0mOUTPUT_FILENAME\u001b[0m \u001b[0;34m=\u001b[0m \u001b[0;34m'%s_%s_(N=%s_Stdev=%s).csv'\u001b[0m\u001b[0;34m\u001b[0m\u001b[0m\n\u001b[1;32m      2\u001b[0m \u001b[0;32mimport\u001b[0m \u001b[0mcsv\u001b[0m\u001b[0;34m\u001b[0m\u001b[0m\n\u001b[0;32m----> 3\u001b[0;31m \u001b[0;32mfor\u001b[0m \u001b[0mpid\u001b[0m\u001b[0;34m,\u001b[0m \u001b[0mname\u001b[0m \u001b[0;32min\u001b[0m \u001b[0mzip\u001b[0m\u001b[0;34m(\u001b[0m\u001b[0mchosen_product_ids\u001b[0m\u001b[0;34m,\u001b[0m \u001b[0mnames\u001b[0m\u001b[0;34m)\u001b[0m\u001b[0;34m:\u001b[0m\u001b[0;34m\u001b[0m\u001b[0m\n\u001b[0m\u001b[1;32m      4\u001b[0m     \u001b[0mn\u001b[0m\u001b[0;34m,\u001b[0m \u001b[0mstdev\u001b[0m \u001b[0;34m=\u001b[0m \u001b[0mstats\u001b[0m\u001b[0;34m[\u001b[0m\u001b[0mpid\u001b[0m\u001b[0;34m]\u001b[0m\u001b[0;34m[\u001b[0m\u001b[0;34m'num_reviews'\u001b[0m\u001b[0;34m]\u001b[0m\u001b[0;34m,\u001b[0m \u001b[0mstats\u001b[0m\u001b[0;34m[\u001b[0m\u001b[0mpid\u001b[0m\u001b[0;34m]\u001b[0m\u001b[0;34m[\u001b[0m\u001b[0;34m'score_stdev'\u001b[0m\u001b[0;34m]\u001b[0m\u001b[0;34m\u001b[0m\u001b[0m\n\u001b[1;32m      5\u001b[0m     \u001b[0;32mwith\u001b[0m \u001b[0mopen\u001b[0m\u001b[0;34m(\u001b[0m\u001b[0mOUTPUT_FILENAME\u001b[0m \u001b[0;34m%\u001b[0m \u001b[0;34m(\u001b[0m\u001b[0mname\u001b[0m\u001b[0;34m,\u001b[0m \u001b[0mpid\u001b[0m\u001b[0;34m,\u001b[0m \u001b[0mn\u001b[0m\u001b[0;34m,\u001b[0m \u001b[0mstdev\u001b[0m\u001b[0;34m)\u001b[0m\u001b[0;34m,\u001b[0m \u001b[0;34m'w'\u001b[0m\u001b[0;34m)\u001b[0m \u001b[0;32mas\u001b[0m \u001b[0moutput_file\u001b[0m\u001b[0;34m:\u001b[0m\u001b[0;34m\u001b[0m\u001b[0m\n",
      "\u001b[0;31mNameError\u001b[0m: name 'chosen_product_ids' is not defined"
     ]
    }
   ],
   "source": [
    "OUTPUT_FILENAME = '%s_%s_(N=%s_Stdev=%s).csv'\n",
    "import csv\n",
    "for pid, name in zip(chosen_product_ids, names):\n",
    "    n, stdev = stats[pid]['num_reviews'], stats[pid]['score_stdev']\n",
    "    with open(OUTPUT_FILENAME % (name, pid, n, stdev), 'w') as output_file:\n",
    "        fieldnames = keys\n",
    "        writer = csv.DictWriter(output_file, fieldnames=fieldnames)\n",
    "        writer.writeheader()\n",
    "\n",
    "        for review in reviews_of_asin[pid]:\n",
    "            writer.writerow(review)"
   ]
  },
  {
   "cell_type": "code",
   "execution_count": 38,
   "metadata": {
    "collapsed": false
   },
   "outputs": [
    {
     "data": {
      "text/plain": [
       "[{'num_reviews': 1018, 'score_stdev': 1.3481003976148309},\n",
       " {'num_reviews': 306, 'score_stdev': 1.3815183129094841},\n",
       " {'num_reviews': 403, 'score_stdev': 1.2125187728576408},\n",
       " {'num_reviews': 585, 'score_stdev': 1.1515761145777634}]"
      ]
     },
     "execution_count": 38,
     "metadata": {},
     "output_type": "execute_result"
    }
   ],
   "source": [
    "[stats[x] for x in chosen_product_ids]"
   ]
  },
  {
   "cell_type": "code",
   "execution_count": 38,
   "metadata": {
    "collapsed": false
   },
   "outputs": [],
   "source": [
    "products = [\n",
    "    ('B0001FTVEK', 'headphones'),\n",
    "    ('B000A6PPOK', 'keyboard')\n",
    "]\n",
    "for pid, name in products:\n",
    "    n, stdev = stats[pid]['num_reviews'], stats[pid]['score_stdev']\n",
    "    with open(OUTPUT_FILENAME % (name, pid, n, stdev), 'w') as output_file:\n",
    "        fieldnames = keys\n",
    "        writer = csv.DictWriter(output_file, fieldnames=fieldnames)\n",
    "        writer.writeheader()\n",
    "\n",
    "        for review in reviews_of_asin[pid]:\n",
    "            writer.writerow(review)"
   ]
  },
  {
   "cell_type": "code",
   "execution_count": null,
   "metadata": {
    "collapsed": true
   },
   "outputs": [],
   "source": []
  }
 ],
 "metadata": {
  "kernelspec": {
   "display_name": "Python 3",
   "language": "python",
   "name": "python3"
  },
  "language_info": {
   "codemirror_mode": {
    "name": "ipython",
    "version": 3
   },
   "file_extension": ".py",
   "mimetype": "text/x-python",
   "name": "python",
   "nbconvert_exporter": "python",
   "pygments_lexer": "ipython3",
   "version": "3.5.2"
  }
 },
 "nbformat": 4,
 "nbformat_minor": 0
}
