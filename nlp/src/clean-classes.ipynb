{
 "cells": [
  {
   "cell_type": "code",
   "execution_count": 49,
   "metadata": {},
   "outputs": [],
   "source": [
    "import pickle\n",
    "from pprint import pprint\n",
    "from collections import defaultdict\n",
    "\n",
    "feature_to_class = pickle.load(open(\"./clustering/results/classes.pkl\", \"rb\"))"
   ]
  },
  {
   "cell_type": "code",
   "execution_count": 50,
   "metadata": {},
   "outputs": [],
   "source": [
    "feature_groupings = defaultdict(list)\n",
    "\n",
    "for feature, class_num in feature_to_class.items():\n",
    "    feature_groupings[class_num].append(feature)"
   ]
  },
  {
   "cell_type": "code",
   "execution_count": 51,
   "metadata": {},
   "outputs": [],
   "source": [
    "def print_all():\n",
    "    for class_num, group in sorted(feature_groupings.items(), key=lambda x: x[0]):\n",
    "        print(str(class_num) + \": \" + str(group))\n",
    "        print(\"\")\n",
    "        \n",
    "#print_all()"
   ]
  },
  {
   "cell_type": "code",
   "execution_count": 52,
   "metadata": {},
   "outputs": [],
   "source": [
    "classes_to_remove = set([6, 7, 10, 11, 14, 16, 22, 27, 34, 36, 37, 40, 41, 43, 45, 48, 51, 53, 60, 61, 64, 66, 74, \n",
    "                     82, 91, 92, 95, 97, 99, 101, 102, 103, 104, 109, 110, 111, 116, 117, 123, 125, 127, 128, 130, 132,\n",
    "                     134, 141, 143, 144, 147, 148, 155, 157, 158, 162, 166, 169, 170, 172, 173, 174, 175, 178, 183, \n",
    "                     188, 192, 194, 200, 202, 218, 220, 222, 224, 225, 236, 238, 242, 244, 245, 249, 250, 253, 258, \n",
    "                     262, 270, 273, 278, 280, 286, 287, 290, 294, 297, 303, 308,310, 311, 312, 316, 318, 319, 322, \n",
    "                     326, 327, 330, 332, 336, 339, 342, 347, 348, 349, 351, 352, 353, 363, 365, 366, 371, 379, 383, \n",
    "                     386, 398, 401, 402, 410, 411, 413, 414, 415, 416, 425, 427, 435, 436, 438, 439, 442, 447, 449, 454, \n",
    "                     461, 466, 467, 472, 473, 474, 475, 482, 486, 489, 494])"
   ]
  },
  {
   "cell_type": "code",
   "execution_count": 53,
   "metadata": {},
   "outputs": [],
   "source": [
    "features_to_remove = set([\"product\", \"buy\"])"
   ]
  },
  {
   "cell_type": "code",
   "execution_count": 54,
   "metadata": {},
   "outputs": [],
   "source": [
    "for feature, class_num in list(feature_to_class.items()):\n",
    "    if class_num in classes_to_remove or feature in features_to_remove:\n",
    "        del feature_to_class[feature]"
   ]
  },
  {
   "cell_type": "code",
   "execution_count": 55,
   "metadata": {},
   "outputs": [],
   "source": [
    "pickle.dump(feature_to_class, open(\"./clustering/results/clean-classes.pkl\", \"wb\"), -1)"
   ]
  },
  {
   "cell_type": "code",
   "execution_count": null,
   "metadata": {},
   "outputs": [],
   "source": []
  }
 ],
 "metadata": {
  "kernelspec": {
   "display_name": "Python 3",
   "language": "python",
   "name": "python3"
  },
  "language_info": {
   "codemirror_mode": {
    "name": "ipython",
    "version": 3
   },
   "file_extension": ".py",
   "mimetype": "text/x-python",
   "name": "python",
   "nbconvert_exporter": "python",
   "pygments_lexer": "ipython3",
   "version": "3.6.3"
  }
 },
 "nbformat": 4,
 "nbformat_minor": 2
}
