{
 "cells": [
  {
   "cell_type": "code",
   "execution_count": 33,
   "metadata": {},
   "outputs": [],
   "source": [
    "import mysql.connector\n",
    "from mysql.connector import Error\n",
    "\n",
    "config = {\n",
    "    \"user\": \"root\",\n",
    "    \"password\": \"root\",\n",
    "    \"host\": \"127.0.0.1\",\n",
    "    \"database\": \"senior_design\"\n",
    "}\n",
    "connection = mysql.connector.connect(**config)\n",
    "cursor = connection.cursor(buffered=True)\n"
   ]
  },
  {
   "cell_type": "code",
   "execution_count": 32,
   "metadata": {},
   "outputs": [],
   "source": [
    "def insert_review(asin, reviewer_id, text, rating, num_helpful):\n",
    "    query = \"INSERT INTO review1(asin, reviewer_id, review_text, rating, num_helpful) \" \\\n",
    "            \"VALUES(%s, %s, %s, %s, %s)\"\n",
    "    args = (asin, reviewer_id, text, rating, num_helpful)\n",
    "    try:\n",
    "        cursor.execute(query, args)\n",
    "        connection.commit()\n",
    "    except Error as e:\n",
    "        print(e)\n",
    "        "
   ]
  },
  {
   "cell_type": "code",
   "execution_count": 27,
   "metadata": {},
   "outputs": [
    {
     "name": "stdout",
     "output_type": "stream",
     "text": [
      "Processed 500000 reviews\n",
      "Processed 1000000 reviews\n",
      "Processed 1500000 reviews\n",
      "Processed 2000000 reviews\n",
      "Processed 2500000 reviews\n",
      "Processed 3000000 reviews\n",
      "Processed 3500000 reviews\n",
      "Processed 4000000 reviews\n",
      "Processed 4500000 reviews\n",
      "Processed 5000000 reviews\n",
      "Processed 5500000 reviews\n",
      "Processed 6000000 reviews\n",
      "Processed 6500000 reviews\n",
      "Processed 7000000 reviews\n",
      "Processed 7500000 reviews\n"
     ]
    }
   ],
   "source": [
    "import json\n",
    "import sys\n",
    "\n",
    "NUM_REVIEWS = sys.maxsize \n",
    "review_file = open(\"../../data/reviews_Electronics.json\", \"r\")\n",
    "i = 0\n",
    "\n",
    "for line in review_file:\n",
    "    review = json.loads(line)\n",
    "    insert_review(review[\"asin\"],\n",
    "                  review[\"reviewerID\"],\n",
    "                  review[\"reviewText\"],\n",
    "                  int(review[\"overall\"]),\n",
    "                  int(review[\"helpful\"][0]))\n",
    "    i += 1\n",
    "    if (i % 500000 == 0):\n",
    "        print(\"Processed {} reviews\".format(i))\n",
    "    if (i >= NUM_REVIEWS):\n",
    "        break"
   ]
  },
  {
   "cell_type": "code",
   "execution_count": 36,
   "metadata": {},
   "outputs": [
    {
     "name": "stdout",
     "output_type": "stream",
     "text": [
      "136\n",
      "('B00AAGBJGI', 'A1NFZHTIG7ZSBT', \"After having purchased and been extremely disappointed in another battery (only lasted about two months, ran out of power quickly and then would not re-charge), this is the ONLY battery I will ever purchase for my Canon SX40 HD camera.  I spend a lot of time on the Gettysburg battlefield, shooting over many hours, up to 1,000 pictures at a time.  I shoot day and night shots where the flash is used.  Where my previous battery would have died long before, I still had plenty of life left in the Vivitar battery.  Re-charging was a snap.  It is a great value and far better than the Canon battery or the Power2000, which didn't come close to the battery life of the Vivitar.I received my purchase before the estimated time and it was exactly as advertised.  I wouldn't hesitate to purchase another Vivitar battery from this retailer.\", 5.0, 0)\n"
     ]
    }
   ],
   "source": [
    "cursor.execute(\"select * from review1 where asin='B00AAGBJGI'\")\n",
    "i=0\n",
    "res = []\n",
    "for r in cursor:\n",
    "    i += 1\n",
    "    res.append(r)\n",
    "print(i)\n",
    "print(res[20])"
   ]
  },
  {
   "cell_type": "code",
   "execution_count": 2,
   "metadata": {},
   "outputs": [
    {
     "ename": "NameError",
     "evalue": "name 'cursor' is not defined",
     "output_type": "error",
     "traceback": [
      "\u001b[0;31m---------------------------------------------------------------------------\u001b[0m",
      "\u001b[0;31mNameError\u001b[0m                                 Traceback (most recent call last)",
      "\u001b[0;32m<ipython-input-2-9162a7eff301>\u001b[0m in \u001b[0;36m<module>\u001b[0;34m()\u001b[0m\n\u001b[0;32m----> 1\u001b[0;31m \u001b[0mcursor\u001b[0m\u001b[0;34m.\u001b[0m\u001b[0mclose\u001b[0m\u001b[0;34m(\u001b[0m\u001b[0;34m)\u001b[0m\u001b[0;34m\u001b[0m\u001b[0m\n\u001b[0m\u001b[1;32m      2\u001b[0m \u001b[0mconnection\u001b[0m\u001b[0;34m.\u001b[0m\u001b[0mclose\u001b[0m\u001b[0;34m(\u001b[0m\u001b[0;34m)\u001b[0m\u001b[0;34m\u001b[0m\u001b[0m\n",
      "\u001b[0;31mNameError\u001b[0m: name 'cursor' is not defined"
     ]
    }
   ],
   "source": [
    "cursor.close()\n",
    "connection.close()"
   ]
  },
  {
   "cell_type": "code",
   "execution_count": 45,
   "metadata": {},
   "outputs": [
    {
     "ename": "KeyboardInterrupt",
     "evalue": "",
     "output_type": "error",
     "traceback": [
      "\u001b[0;31m---------------------------------------------------------------------------\u001b[0m",
      "\u001b[0;31mKeyboardInterrupt\u001b[0m                         Traceback (most recent call last)",
      "\u001b[0;32m<ipython-input-45-cfbfd31f277e>\u001b[0m in \u001b[0;36m<module>\u001b[0;34m()\u001b[0m\n\u001b[1;32m      1\u001b[0m \u001b[0mquery\u001b[0m \u001b[0;34m=\u001b[0m \u001b[0;34m\"CREATE INDEX idx ON review1 (asin)\"\u001b[0m\u001b[0;34m\u001b[0m\u001b[0m\n\u001b[1;32m      2\u001b[0m \u001b[0;31m#query = \"DROP TABLE review1\"\u001b[0m\u001b[0;34m\u001b[0m\u001b[0;34m\u001b[0m\u001b[0m\n\u001b[0;32m----> 3\u001b[0;31m \u001b[0mcursor\u001b[0m\u001b[0;34m.\u001b[0m\u001b[0mexecute\u001b[0m\u001b[0;34m(\u001b[0m\u001b[0mquery\u001b[0m\u001b[0;34m)\u001b[0m\u001b[0;34m\u001b[0m\u001b[0m\n\u001b[0m\u001b[1;32m      4\u001b[0m \u001b[0;32mfor\u001b[0m \u001b[0mres\u001b[0m \u001b[0;32min\u001b[0m \u001b[0mcursor\u001b[0m\u001b[0;34m:\u001b[0m\u001b[0;34m\u001b[0m\u001b[0m\n\u001b[1;32m      5\u001b[0m     \u001b[0mprint\u001b[0m\u001b[0;34m(\u001b[0m\u001b[0mres\u001b[0m\u001b[0;34m)\u001b[0m\u001b[0;34m\u001b[0m\u001b[0m\n",
      "\u001b[0;32m/Library/Frameworks/Python.framework/Versions/3.4/lib/python3.4/site-packages/mysql/connector/cursor.py\u001b[0m in \u001b[0;36mexecute\u001b[0;34m(self, operation, params, multi)\u001b[0m\n\u001b[1;32m    557\u001b[0m         \u001b[0;32melse\u001b[0m\u001b[0;34m:\u001b[0m\u001b[0;34m\u001b[0m\u001b[0m\n\u001b[1;32m    558\u001b[0m             \u001b[0;32mtry\u001b[0m\u001b[0;34m:\u001b[0m\u001b[0;34m\u001b[0m\u001b[0m\n\u001b[0;32m--> 559\u001b[0;31m                 \u001b[0mself\u001b[0m\u001b[0;34m.\u001b[0m\u001b[0m_handle_result\u001b[0m\u001b[0;34m(\u001b[0m\u001b[0mself\u001b[0m\u001b[0;34m.\u001b[0m\u001b[0m_connection\u001b[0m\u001b[0;34m.\u001b[0m\u001b[0mcmd_query\u001b[0m\u001b[0;34m(\u001b[0m\u001b[0mstmt\u001b[0m\u001b[0;34m)\u001b[0m\u001b[0;34m)\u001b[0m\u001b[0;34m\u001b[0m\u001b[0m\n\u001b[0m\u001b[1;32m    560\u001b[0m             \u001b[0;32mexcept\u001b[0m \u001b[0merrors\u001b[0m\u001b[0;34m.\u001b[0m\u001b[0mInterfaceError\u001b[0m\u001b[0;34m:\u001b[0m\u001b[0;34m\u001b[0m\u001b[0m\n\u001b[1;32m    561\u001b[0m                 \u001b[0;32mif\u001b[0m \u001b[0mself\u001b[0m\u001b[0;34m.\u001b[0m\u001b[0m_connection\u001b[0m\u001b[0;34m.\u001b[0m\u001b[0m_have_next_result\u001b[0m\u001b[0;34m:\u001b[0m  \u001b[0;31m# pylint: disable=W0212\u001b[0m\u001b[0;34m\u001b[0m\u001b[0m\n",
      "\u001b[0;32m/Library/Frameworks/Python.framework/Versions/3.4/lib/python3.4/site-packages/mysql/connector/connection.py\u001b[0m in \u001b[0;36mcmd_query\u001b[0;34m(self, query, raw, buffered, raw_as_string)\u001b[0m\n\u001b[1;32m    492\u001b[0m         \u001b[0;32mif\u001b[0m \u001b[0;32mnot\u001b[0m \u001b[0misinstance\u001b[0m\u001b[0;34m(\u001b[0m\u001b[0mquery\u001b[0m\u001b[0;34m,\u001b[0m \u001b[0mbytes\u001b[0m\u001b[0;34m)\u001b[0m\u001b[0;34m:\u001b[0m\u001b[0;34m\u001b[0m\u001b[0m\n\u001b[1;32m    493\u001b[0m             \u001b[0mquery\u001b[0m \u001b[0;34m=\u001b[0m \u001b[0mquery\u001b[0m\u001b[0;34m.\u001b[0m\u001b[0mencode\u001b[0m\u001b[0;34m(\u001b[0m\u001b[0;34m'utf-8'\u001b[0m\u001b[0;34m)\u001b[0m\u001b[0;34m\u001b[0m\u001b[0m\n\u001b[0;32m--> 494\u001b[0;31m         \u001b[0mresult\u001b[0m \u001b[0;34m=\u001b[0m \u001b[0mself\u001b[0m\u001b[0;34m.\u001b[0m\u001b[0m_handle_result\u001b[0m\u001b[0;34m(\u001b[0m\u001b[0mself\u001b[0m\u001b[0;34m.\u001b[0m\u001b[0m_send_cmd\u001b[0m\u001b[0;34m(\u001b[0m\u001b[0mServerCmd\u001b[0m\u001b[0;34m.\u001b[0m\u001b[0mQUERY\u001b[0m\u001b[0;34m,\u001b[0m \u001b[0mquery\u001b[0m\u001b[0;34m)\u001b[0m\u001b[0;34m)\u001b[0m\u001b[0;34m\u001b[0m\u001b[0m\n\u001b[0m\u001b[1;32m    495\u001b[0m \u001b[0;34m\u001b[0m\u001b[0m\n\u001b[1;32m    496\u001b[0m         \u001b[0;32mif\u001b[0m \u001b[0mself\u001b[0m\u001b[0;34m.\u001b[0m\u001b[0m_have_next_result\u001b[0m\u001b[0;34m:\u001b[0m\u001b[0;34m\u001b[0m\u001b[0m\n",
      "\u001b[0;32m/Library/Frameworks/Python.framework/Versions/3.4/lib/python3.4/site-packages/mysql/connector/connection.py\u001b[0m in \u001b[0;36m_send_cmd\u001b[0;34m(self, command, argument, packet_number, packet, expect_response, compressed_packet_number)\u001b[0m\n\u001b[1;32m    266\u001b[0m         \u001b[0;32mif\u001b[0m \u001b[0;32mnot\u001b[0m \u001b[0mexpect_response\u001b[0m\u001b[0;34m:\u001b[0m\u001b[0;34m\u001b[0m\u001b[0m\n\u001b[1;32m    267\u001b[0m             \u001b[0;32mreturn\u001b[0m \u001b[0;32mNone\u001b[0m\u001b[0;34m\u001b[0m\u001b[0m\n\u001b[0;32m--> 268\u001b[0;31m         \u001b[0;32mreturn\u001b[0m \u001b[0mself\u001b[0m\u001b[0;34m.\u001b[0m\u001b[0m_socket\u001b[0m\u001b[0;34m.\u001b[0m\u001b[0mrecv\u001b[0m\u001b[0;34m(\u001b[0m\u001b[0;34m)\u001b[0m\u001b[0;34m\u001b[0m\u001b[0m\n\u001b[0m\u001b[1;32m    269\u001b[0m \u001b[0;34m\u001b[0m\u001b[0m\n\u001b[1;32m    270\u001b[0m     \u001b[0;32mdef\u001b[0m \u001b[0m_send_data\u001b[0m\u001b[0;34m(\u001b[0m\u001b[0mself\u001b[0m\u001b[0;34m,\u001b[0m \u001b[0mdata_file\u001b[0m\u001b[0;34m,\u001b[0m \u001b[0msend_empty_packet\u001b[0m\u001b[0;34m=\u001b[0m\u001b[0;32mFalse\u001b[0m\u001b[0;34m)\u001b[0m\u001b[0;34m:\u001b[0m\u001b[0;34m\u001b[0m\u001b[0m\n",
      "\u001b[0;32m/Library/Frameworks/Python.framework/Versions/3.4/lib/python3.4/site-packages/mysql/connector/network.py\u001b[0m in \u001b[0;36mrecv_plain\u001b[0;34m(self)\u001b[0m\n\u001b[1;32m    239\u001b[0m             \u001b[0mpacket_len\u001b[0m \u001b[0;34m=\u001b[0m \u001b[0;36m0\u001b[0m\u001b[0;34m\u001b[0m\u001b[0m\n\u001b[1;32m    240\u001b[0m             \u001b[0;32mwhile\u001b[0m \u001b[0mpacket_len\u001b[0m \u001b[0;34m<\u001b[0m \u001b[0;36m4\u001b[0m\u001b[0;34m:\u001b[0m\u001b[0;34m\u001b[0m\u001b[0m\n\u001b[0;32m--> 241\u001b[0;31m                 \u001b[0mchunk\u001b[0m \u001b[0;34m=\u001b[0m \u001b[0mself\u001b[0m\u001b[0;34m.\u001b[0m\u001b[0msock\u001b[0m\u001b[0;34m.\u001b[0m\u001b[0mrecv\u001b[0m\u001b[0;34m(\u001b[0m\u001b[0;36m4\u001b[0m \u001b[0;34m-\u001b[0m \u001b[0mpacket_len\u001b[0m\u001b[0;34m)\u001b[0m\u001b[0;34m\u001b[0m\u001b[0m\n\u001b[0m\u001b[1;32m    242\u001b[0m                 \u001b[0;32mif\u001b[0m \u001b[0;32mnot\u001b[0m \u001b[0mchunk\u001b[0m\u001b[0;34m:\u001b[0m\u001b[0;34m\u001b[0m\u001b[0m\n\u001b[1;32m    243\u001b[0m                     \u001b[0;32mraise\u001b[0m \u001b[0merrors\u001b[0m\u001b[0;34m.\u001b[0m\u001b[0mInterfaceError\u001b[0m\u001b[0;34m(\u001b[0m\u001b[0merrno\u001b[0m\u001b[0;34m=\u001b[0m\u001b[0;36m2013\u001b[0m\u001b[0;34m)\u001b[0m\u001b[0;34m\u001b[0m\u001b[0m\n",
      "\u001b[0;31mKeyboardInterrupt\u001b[0m: "
     ]
    }
   ],
   "source": [
    "query = \"CREATE INDEX idx ON review1 (asin)\"\n",
    "#query = \"DROP TABLE review1\"\n",
    "cursor.execute(query)\n",
    "for res in cursor:\n",
    "    print(res)\n"
   ]
  },
  {
   "cell_type": "code",
   "execution_count": 42,
   "metadata": {},
   "outputs": [
    {
     "name": "stdout",
     "output_type": "stream",
     "text": [
      "('B00AAGBJGI', 'AD08QBAEJKHOB', \"The product arrived quickly, I charged it and it worked perfectly.  One thing I was looking for was a battery that worked with the camera's battery level display, which this one did.  Other replacement batteries either did not indicate they did so, or specifically indicated that they did not.  Also good warranty - 5 years.  Haven't had a chance to test out the Vivitar Experience photo editing software, but this would just be an added bonus.  Overall - good price for a good battery.\", 5.0, 5)\n",
      "('B00AAGBJGI', 'A32NSDCFAP29ON', \"Doesn't hold a charge as long as Canon's version, but for a fraction of the price it works perfectly as a backup.\", 4.0, 1)\n",
      "('B00AAGBJGI', 'AF5OEJSYNG0PY', \"This is a great set if you need extra batteries for your camera. It also includes cleaning items as a bonus.Two batteries - Supposedly they hold more charge (1300mAh vs 920mAh) than the standard Canon battery. This means they should last longer, but I haven't really tried both batteries to determine their limits.Charger - Very nice. It will come in handy for travel, as it has a 12v adapter which the Canon charger lacks.\", 5.0, 1)\n",
      "('B00AAGBJGI', 'A1YVWFC79SQT8D', 'Great kit for travelers and great price!  I keep everything in a bag and always have it ready to go.', 5.0, 1)\n",
      "('B00AAGBJGI', 'AN16UHGAGWOOZ', \"After charging, using, discharging, and evaluating this replacement battery for my Canon original, I can say the Vivitar exceeds the Canon!This battery provides longer service, more flashes, more shutter releases, etc.The company is extremely responsive, courteous, and I'd recommend the product AND the company without reservation.One of the better items I've purchased on amazon.\", 5.0, 2)\n",
      "('B00AAGBJGI', 'ATWCEU9VV0WUG', 'The two batteries came in as promised.  I went to charge them, and I discovered the batteries would not charge in my Canon SX30 charger, although they would charge in my Canon SX50 charger.  I have tried them in the SX50, and they seemed to work fine, but I did run through a battery in less than a day (135 photos +/-), which I have never done with my Canon battery.  That would lead me to believe that they do not have the power of the Canon batteries.', 3.0, 2)\n",
      "('B00AAGBJGI', 'ALJHVC9WF1U89', 'I tried this out when we recently went to the coast. It lasted for about 160 photos in my Canon SX50 before it was just about dead.', 4.0, 1)\n",
      "('B00AAGBJGI', 'A2PSK7X871XQIS', 'The charger worked, charging 3 batteries (including one that came with the camera) in about an hour each! I assume that the Vivitar batteries will last as long in use be as good as the original Canon battery, but will be pleased if they last half as long or more. I am very much a amateur photographer bought them as supplements and have realistic expectations.', 5.0, 1)\n",
      "('B00AAGBJGI', 'A37U6H9MEUUHSI', \"Very happy with this camera battery (for my G1X) and the seller's written commitment to customer service which was enclosed with the product. The included cleaning cloth was a nice touch too.The battery has performed flawlessly which is more than I can say for the &#34;Maximal Power&#34; brand battery that the Vivitar replaces.\", 5.0, 1)\n",
      "('B00AAGBJGI', 'A388XNDQYNDVOT', 'I needed a second battery for traveling and going to my kids sporting events.  This battery is a great back up to my Canon battery!  It was delivered quick- and works just as well as the Canon.  I would highly recommend the product and the seller.', 5.0, 1)\n",
      "('B00AAGBJGI', 'A34M5YR0UGQU63', 'The product is excellent is better than original battery, the price is good, the quality is good, wit this battery I work 1/3 more time than original battery', 5.0, 1)\n",
      "('B00AAGBJGI', 'A3U1TBYX1J8YI6', \"Few weeks back I bought a Canon SX50 mainly for wildlife photography while I am traveling. Canon's OEM batteries NB-10L are way too expensive so I looked around a bit and found this one. Vivitar is a reputable company and the product looked promising so I bought one. So far, absolutely no issues! Connects fine to Camera's internal computer and about 870+ pics in RAW files can be shot. Not a bad deal for a guy like me! :)\", 5.0, 1)\n",
      "('B00AAGBJGI', 'AVDDTMSSLF97T', 'Not as long-lasting as the Canon original, but holds sufficient charge to complement the original on long journeys without access to a wall-outlet.', 4.0, 1)\n",
      "('B00AAGBJGI', 'A2TI26PJLFK2WO', \"but they are not nearly as good as the Canon packs they are compatible with.  The Vivitars charge up quickly but they simply don't yield the same run time.  They give me the same number of snaps with the flash off that the Canon genuine pack yields with 100% flash shooting.  The chargers is good and the squeeze bellow was a nice score for the money\", 3.0, 1)\n",
      "('B00AAGBJGI', 'A81Z6NK6PTHQ0', 'Just purchased a Canon SX50HS and wanted some extra batteries. I wanted a good reliable brand but not at the cost of the Canon batteries. These fit the bill prefectly and I got very fast shipping to boot! Thanks a lot!!', 5.0, 1)\n",
      "('B00AAGBJGI', 'A2H68YLEOOXJPV', 'Used it several times during our cruise.  Never let us down.  Instructions were easy.  No problems fitting into camera.  Easy!', 5.0, 1)\n",
      "('B00AAGBJGI', 'A6YT8B6U0TNL2', 'This battery is much lower in price than the Canon battery and it seems to last through as many pictures. Very satisfied with the purchase.', 5.0, 1)\n",
      "('B00AAGBJGI', 'AHN9N3DRRSFM2', \"Trust Vivitar! While I would like to have Canon-designed and approved batteries for my G-16, their cost is ridiculous. I got two Vivitar batteries for less than the cost of one Canon battery. The Vivitar batteries are a little higher rated than the Canon OEM, so I'm getting really good service from them.  Digital Goja provided on-time delivery, of quality products in their original, manufacturer's packaging.  Seriously, you can't go wrong with these batteries, especially at this price.\", 5.0, 2)\n"
     ]
    }
   ],
   "source": [
    "for r in res:\n",
    "    if r[-1] > 0:\n",
    "        print(r)"
   ]
  },
  {
   "cell_type": "code",
   "execution_count": null,
   "metadata": {},
   "outputs": [],
   "source": []
  }
 ],
 "metadata": {
  "kernelspec": {
   "display_name": "Python 3",
   "language": "python",
   "name": "python3"
  },
  "language_info": {
   "codemirror_mode": {
    "name": "ipython",
    "version": 3
   },
   "file_extension": ".py",
   "mimetype": "text/x-python",
   "name": "python",
   "nbconvert_exporter": "python",
   "pygments_lexer": "ipython3",
   "version": "3.4.3"
  }
 },
 "nbformat": 4,
 "nbformat_minor": 2
}
